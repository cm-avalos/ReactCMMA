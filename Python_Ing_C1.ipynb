{
  "nbformat": 4,
  "nbformat_minor": 0,
  "metadata": {
    "colab": {
      "name": "Python Ing C1.ipynb",
      "provenance": [],
      "machine_shape": "hm",
      "include_colab_link": true
    },
    "kernelspec": {
      "name": "python3",
      "display_name": "Python 3"
    },
    "language_info": {
      "name": "python"
    }
  },
  "cells": [
    {
      "cell_type": "markdown",
      "metadata": {
        "id": "view-in-github",
        "colab_type": "text"
      },
      "source": [
        "<a href=\"https://colab.research.google.com/github/cm-avalos/ReactCMMA/blob/main/Python_Ing_C1.ipynb\" target=\"_parent\"><img src=\"https://colab.research.google.com/assets/colab-badge.svg\" alt=\"Open In Colab\"/></a>"
      ]
    },
    {
      "cell_type": "code",
      "metadata": {
        "colab": {
          "base_uri": "https://localhost:8080/"
        },
        "id": "2YHmfZLGogb0",
        "outputId": "f5c48e3c-61b8-43ab-dbc4-2a4ca35c3a9c"
      },
      "source": [
        "nombre = input(\"Ingrese su nombre: \")\n",
        "apellido = input(\"Ingrese su apellido: \")\n",
        "print(\"hola \"+nombre+\" \"+apellido)"
      ],
      "execution_count": null,
      "outputs": [
        {
          "output_type": "stream",
          "text": [
            "Ingrese su nombre: Felipe\n",
            "Ingrese su apellido: Ordenes\n",
            "hola Felipe Ordenes\n"
          ],
          "name": "stdout"
        }
      ]
    },
    {
      "cell_type": "code",
      "metadata": {
        "colab": {
          "base_uri": "https://localhost:8080/"
        },
        "id": "BMA_QtnbpYoe",
        "outputId": "dd0f6320-790d-43e9-f5a0-520ba5e68646"
      },
      "source": [
        "n1 = input(\"Ingrese numero1: \")\n",
        "n2 = input(\"Ingrese numero2: \")\n",
        "total = int(n1) * int(n2)\n",
        "print(\"La suma es: \"+str(total))"
      ],
      "execution_count": null,
      "outputs": [
        {
          "output_type": "stream",
          "text": [
            "Ingrese numero1: 5\n",
            "Ingrese numero2: 10\n",
            "La suma es: 50\n"
          ],
          "name": "stdout"
        }
      ]
    },
    {
      "cell_type": "code",
      "metadata": {
        "colab": {
          "base_uri": "https://localhost:8080/"
        },
        "id": "lPK4eOqRqYP8",
        "outputId": "e3c7bfd4-291a-4a30-d401-a7b48b269e13"
      },
      "source": [
        "altura1 = input(\"Ingrese altura 1: \")\n",
        "altura2 = input(\"Ingrese altura 2: \")\n",
        "altura3 = input(\"Ingrese altura 3: \")\n",
        "promedio = (float(altura1)+float(altura2)+float(altura3))/3\n",
        "print(\"El promedio de alturas es: \"+str(promedio))"
      ],
      "execution_count": null,
      "outputs": [
        {
          "output_type": "stream",
          "text": [
            "Ingrese altura 1: 1.8\n",
            "Ingrese altura 2: 1.5\n",
            "Ingrese altura 3: 2\n",
            "El promedio de alturas es: 1.7666666666666666\n"
          ],
          "name": "stdout"
        }
      ]
    },
    {
      "cell_type": "code",
      "metadata": {
        "colab": {
          "base_uri": "https://localhost:8080/"
        },
        "id": "Np6_9MATrtmG",
        "outputId": "3ef1c57d-ce10-491d-dc25-1b0692e1913f"
      },
      "source": [
        "peso = input(\"Ingrese su peso: \")\n",
        "altura = input(\"Ingrese su altura: \")\n",
        "imc = float(peso)/(float(altura)*float(altura))\n",
        "print(\"Su imc es: \"+str(imc))"
      ],
      "execution_count": null,
      "outputs": [
        {
          "output_type": "stream",
          "text": [
            "Ingrese su peso: 60\n",
            "Ingrese su altura: 1.7\n",
            "Su imc es: 20.761245674740486\n"
          ],
          "name": "stdout"
        }
      ]
    },
    {
      "cell_type": "code",
      "metadata": {
        "id": "hwlj-HTVsW3W"
      },
      "source": [
        "peso = input(\"Ingrese su peso: \")\n",
        "altura = input(\"Ingrese su altura: \")\n",
        "imc = float(peso)/(float(altura)**2)\n",
        "print(\"Su imc es: \"+str(imc))"
      ],
      "execution_count": null,
      "outputs": []
    },
    {
      "cell_type": "code",
      "metadata": {
        "colab": {
          "base_uri": "https://localhost:8080/"
        },
        "id": "tIbjkT10tBod",
        "outputId": "768616ac-c178-4711-df02-86a7df3dda76"
      },
      "source": [
        "altura = input(\"Ingrese altura del cilindro: \")\n",
        "radio = input(\"Ingrese radio del cilindro: \")\n",
        "area = 2*3.14*float(radio)*(float(altura)+float(radio))\n",
        "volumen = 3.14*float(radio)*float(radio)*float(altura)\n",
        "print(\"El area es: \"+str(area)+\" el volumen es: \"+str(volumen))"
      ],
      "execution_count": null,
      "outputs": [
        {
          "output_type": "stream",
          "text": [
            "Ingrese altura del cilindro: 5\n",
            "Ingrese radio del cilindro: 2\n",
            "El area es: 87.92 el volumen es: 62.800000000000004\n"
          ],
          "name": "stdout"
        }
      ]
    },
    {
      "cell_type": "code",
      "metadata": {
        "colab": {
          "base_uri": "https://localhost:8080/"
        },
        "id": "yFHhMTomuALm",
        "outputId": "bcffb645-e30b-4727-a777-a232a6a9510b"
      },
      "source": [
        "altura = input(\"Ingrese altura del cilindro: \")\n",
        "radio = input(\"Ingrese radio del cilindro: \")\n",
        "a = float(altura)\n",
        "r = float(radio)\n",
        "area = 2*3.14*r*(a+r)\n",
        "volumen = 3.14*r*r*a\n",
        "print(\"El area es: \"+str(area)+\" el volumen es: \"+str(volumen))"
      ],
      "execution_count": null,
      "outputs": [
        {
          "output_type": "stream",
          "text": [
            "Ingrese altura del cilindro: 5\n",
            "Ingrese radio del cilindro: 2\n",
            "El area es: 87.92 el volumen es: 62.800000000000004\n"
          ],
          "name": "stdout"
        }
      ]
    },
    {
      "cell_type": "code",
      "metadata": {
        "id": "fxc-jU6lukJV"
      },
      "source": [
        "d = 1\n",
        "c = d + 5\n"
      ],
      "execution_count": null,
      "outputs": []
    },
    {
      "cell_type": "code",
      "metadata": {
        "colab": {
          "base_uri": "https://localhost:8080/"
        },
        "id": "3L5llJEyu0RX",
        "outputId": "672fdd53-84a0-4269-94b2-7e4b39d64dbc"
      },
      "source": [
        "mes1 = input(\"Ingrese el ahorro del mes1: \")\n",
        "mes2 = input(\"Ingrese el ahorro del mes2: \")\n",
        "mes3 = input(\"Ingrese el ahorro del mes3: \")\n",
        "suma = int(mes1) + int(mes2) + int(mes3)\n",
        "print(\"Juan ahorro : \"+str(suma))"
      ],
      "execution_count": null,
      "outputs": [
        {
          "output_type": "stream",
          "text": [
            "Ingrese el ahorro del mes1: 2000\n",
            "Ingrese el ahorro del mes2: 3000\n",
            "Ingrese el ahorro del mes3: 200\n",
            "Juan ahorro : 5200\n"
          ],
          "name": "stdout"
        }
      ]
    },
    {
      "cell_type": "code",
      "metadata": {
        "colab": {
          "base_uri": "https://localhost:8080/"
        },
        "id": "bRH1tNASvYyr",
        "outputId": "8cf586e3-8bdd-4872-8c30-d71f8d38c891"
      },
      "source": [
        "c_manzanas = input(\"Ingrese cuantas manzanas comprará: \")\n",
        "v_manzana = input(\"Ingrese valor unitario de la manzana: \")\n",
        "total = int(c_manzanas) * int(v_manzana)\n",
        "descuento = total * 0.2\n",
        "total_d = total - descuento\n",
        "print(\"El total de su compra fue: \"+str(total))\n",
        "print(\"El descuento es de: \"+str(descuento))\n",
        "print(\"El total despues del descuento: \"+str(total_d))\n"
      ],
      "execution_count": null,
      "outputs": [
        {
          "output_type": "stream",
          "text": [
            "Ingrese cuantas manzanas comprará: 5\n",
            "Ingrese valor unitario de la manzana: 100\n",
            "El total de su compra fue: 500\n",
            "El descuento es de: 100.0\n",
            "El total despues del descuento: 400.0\n"
          ],
          "name": "stdout"
        }
      ]
    },
    {
      "cell_type": "code",
      "metadata": {
        "colab": {
          "base_uri": "https://localhost:8080/"
        },
        "id": "r7VJR6WWxyWl",
        "outputId": "6f51081c-fef7-4f7c-e652-2365a79005e9"
      },
      "source": [
        "cualquiera = 11 % 3\n",
        "print(cualquiera)"
      ],
      "execution_count": null,
      "outputs": [
        {
          "output_type": "stream",
          "text": [
            "2\n"
          ],
          "name": "stdout"
        }
      ]
    },
    {
      "cell_type": "code",
      "metadata": {
        "colab": {
          "base_uri": "https://localhost:8080/"
        },
        "id": "TYmFNj53yTKl",
        "outputId": "5ea03232-1b3f-4b1b-cd7c-0fde1c96a0dd"
      },
      "source": [
        "c1 = 11//3\n",
        "print(c1)"
      ],
      "execution_count": null,
      "outputs": [
        {
          "output_type": "stream",
          "text": [
            "3\n"
          ],
          "name": "stdout"
        }
      ]
    },
    {
      "cell_type": "code",
      "metadata": {
        "colab": {
          "base_uri": "https://localhost:8080/"
        },
        "id": "tb1SGCfKzKYo",
        "outputId": "3f06723c-f92a-498b-905e-da75c7401486"
      },
      "source": [
        "km = input(\"Ingrese kms recorrido: \")\n",
        "litros = input(\"Ingrese litros ocupados: \")\n",
        "total = float(km)/float(litros)\n",
        "print(\"Mi auto gasta: \"+str(total))"
      ],
      "execution_count": null,
      "outputs": [
        {
          "output_type": "stream",
          "text": [
            "Ingrese kms recorrido: 200\n",
            "Ingrese litros ocupados: 24\n",
            "Mi auto gasta: 8.333333333333334\n"
          ],
          "name": "stdout"
        }
      ]
    },
    {
      "cell_type": "markdown",
      "metadata": {
        "id": "Gw3UvYvgiRp6"
      },
      "source": [
        "# Condicionales\n"
      ]
    },
    {
      "cell_type": "code",
      "metadata": {
        "colab": {
          "base_uri": "https://localhost:8080/"
        },
        "id": "h3XJrf97kJyb",
        "outputId": "b66475f0-e38b-41a2-aff2-7c99de38f56a"
      },
      "source": [
        "edad = input(\"Ingrese su edad: \")\n",
        "edad = int(edad) #Convertir string a int\n",
        "if edad>=18:\n",
        "  print(\"Acceso otorgado\")\n",
        "else:\n",
        "  print(\"Acceso denegado\")  \n",
        "\n"
      ],
      "execution_count": null,
      "outputs": [
        {
          "output_type": "stream",
          "text": [
            "Ingrese su edad: 6\n",
            "Acceso denegado\n"
          ],
          "name": "stdout"
        }
      ]
    },
    {
      "cell_type": "code",
      "metadata": {
        "colab": {
          "base_uri": "https://localhost:8080/"
        },
        "id": "hCg70Oxxl3dC",
        "outputId": "4e0437c7-b066-458c-b820-9dd851bad08c"
      },
      "source": [
        "numero = input(\"Ingrese un numero: \")\n",
        "numero = float(numero)\n",
        "if numero>0:\n",
        "  print(\"Es positivo\")\n",
        "elif numero<0:\n",
        "  print(\"Es negativo\")\n",
        "else:\n",
        "  print(\"es neutro\")"
      ],
      "execution_count": null,
      "outputs": [
        {
          "output_type": "stream",
          "text": [
            "Ingrese un numero: 0\n",
            "es neutro\n"
          ],
          "name": "stdout"
        }
      ]
    },
    {
      "cell_type": "code",
      "metadata": {
        "colab": {
          "base_uri": "https://localhost:8080/"
        },
        "id": "YOagVbGlnTo9",
        "outputId": "8a0bbc29-dd51-46ec-d03d-e0ce2d811e60"
      },
      "source": [
        "numero = input(\"Ingrese un numero: \")\n",
        "numero = float(numero)\n",
        "if numero>0:\n",
        "  print(\"Es positivo\")\n",
        "elif numero==0:\n",
        "  print(\"Es neutro\")\n",
        "else:\n",
        "  print(\"es negativo\")"
      ],
      "execution_count": null,
      "outputs": [
        {
          "output_type": "stream",
          "text": [
            "Ingrese un numero: 7\n",
            "Es positivo\n"
          ],
          "name": "stdout"
        }
      ]
    },
    {
      "cell_type": "code",
      "metadata": {
        "colab": {
          "base_uri": "https://localhost:8080/"
        },
        "id": "dcQWInmvnj0C",
        "outputId": "6fadf4a9-6d18-4aa9-ee61-c779edcd8b6f"
      },
      "source": [
        "sexo = input(\"Ingrese sexo: \")\n",
        "if sexo=='F' or sexo=='f':\n",
        "  print(\"Sexo femenino\")\n",
        "elif sexo==\"M\" or sexo=='m':\n",
        "  print(\"Sexo masculino\")\n",
        "else:\n",
        "  print(\"Te equivocaste\")"
      ],
      "execution_count": null,
      "outputs": [
        {
          "output_type": "stream",
          "text": [
            "Ingrese sexo: m\n",
            "Sexo masculino\n"
          ],
          "name": "stdout"
        }
      ]
    },
    {
      "cell_type": "code",
      "metadata": {
        "colab": {
          "base_uri": "https://localhost:8080/"
        },
        "id": "I8wfrCpvqa7q",
        "outputId": "8de2af6d-e87d-4f07-aa47-0f1606d2c02e"
      },
      "source": [
        "total = input(\"Ingrese total de la compra: \")\n",
        "camisas = input(\"Ingrese numero de camisas: \")\n",
        "total = int(total)\n",
        "camisas = int(camisas)\n",
        "if camisas>=3:\n",
        "  descuento = total*0.2\n",
        "else:\n",
        "  descuento = total*0.1\n",
        "total = total - descuento\n",
        "print(\"El total es: \"+str(total))\n"
      ],
      "execution_count": null,
      "outputs": [
        {
          "output_type": "stream",
          "text": [
            "Ingrese total de la compra: 10000\n",
            "Ingrese numero de camisas: 5\n",
            "El total es: 8000.0\n"
          ],
          "name": "stdout"
        }
      ]
    },
    {
      "cell_type": "code",
      "metadata": {
        "colab": {
          "base_uri": "https://localhost:8080/"
        },
        "id": "S9tIHIhCsPQM",
        "outputId": "47e2b253-5c98-42b0-e90b-33e0cee04353"
      },
      "source": [
        "c_productos = input(\"Ingrese cantidad de productos: \")\n",
        "c_productos = int(c_productos)\n",
        "if c_productos<=25:\n",
        "  total = 2770*c_productos\n",
        "elif c_productos<=50:\n",
        "  total = 2550*c_productos\n",
        "\n",
        "elif c_productos<=75:\n",
        "  total = 2350*c_productos\n",
        "\n",
        "else:\n",
        "  total = 2015*c_productos\n",
        "\n",
        "print(total)"
      ],
      "execution_count": null,
      "outputs": [
        {
          "output_type": "stream",
          "text": [
            "Ingrese cantidad de productos: 10\n",
            "27700\n"
          ],
          "name": "stdout"
        }
      ]
    },
    {
      "cell_type": "code",
      "metadata": {
        "colab": {
          "base_uri": "https://localhost:8080/"
        },
        "id": "4Hx1qMT2vgfC",
        "outputId": "dc7f60b1-78fb-4624-9c82-ba217fc2c368"
      },
      "source": [
        "#if anidados\n",
        "hora = input(\"Ingrese hora: \")\n",
        "minutos = input(\"Ingrese minutos: \")\n",
        "hora = int(hora)\n",
        "minutos = int(minutos)\n",
        "if hora==17:\n",
        "  if minutos==20:\n",
        "    print(\"La clase ha comenzado\")\n",
        "  elif minutos<20:\n",
        "    print(\"La clase aun no comienza\")\n",
        "  else:\n",
        "    print(\"La clase ya comenzo, vas tarde por unos minutos\")\n",
        "elif hora<17:\n",
        "  print()"
      ],
      "execution_count": null,
      "outputs": [
        {
          "output_type": "stream",
          "text": [
            "Ingrese hora: 17\n",
            "Ingrese minutos: 10\n",
            "La clase ya comenzo, vas tarde\n"
          ],
          "name": "stdout"
        }
      ]
    },
    {
      "cell_type": "markdown",
      "metadata": {
        "id": "Z-JEpZe98N5O"
      },
      "source": [
        "guia"
      ]
    },
    {
      "cell_type": "markdown",
      "metadata": {
        "id": "MMldztm88uKc"
      },
      "source": [
        "7.\tUn obrero necesita calcular su salario semanal, el cual se obtiene de la sig. manera:\n",
        "\n",
        "* Si trabaja 40 horas o menos se le paga 1600 por hora\n",
        "* Si trabaja más de 40 horas se le paga 1600 por cada una de las primeras 40 horas y $2000 por cada hora extra.\n",
        "\n",
        "\n",
        "\n"
      ]
    },
    {
      "cell_type": "code",
      "metadata": {
        "colab": {
          "base_uri": "https://localhost:8080/"
        },
        "id": "i9v0UYll8PKK",
        "outputId": "6ec8f33e-cf00-4243-da55-e25d60d583fa"
      },
      "source": [
        "horas = int(input(\"Ingrese numero de horas: \"))\n",
        "if horas <= 40:\n",
        "  total = horas * 1600\n",
        "else:\n",
        "  diferencia = horas - 40\n",
        "  total = 40 * 1600\n",
        "  total = total + (diferencia*2000)\n",
        "print(\"el sueldo total es: \"+str(total))"
      ],
      "execution_count": null,
      "outputs": [
        {
          "output_type": "stream",
          "text": [
            "Ingrese numero de horas: 60\n",
            "el sueldo total es: 104000\n"
          ],
          "name": "stdout"
        }
      ]
    },
    {
      "cell_type": "markdown",
      "metadata": {
        "id": "qZDSu3g88vUj"
      },
      "source": [
        "8.\tEscribir un programa para solicitar al usuario tres números y mostrar en pantalla al menor de los tres.\n",
        "\n"
      ]
    },
    {
      "cell_type": "code",
      "metadata": {
        "colab": {
          "base_uri": "https://localhost:8080/"
        },
        "id": "BBDuMjDh8xk2",
        "outputId": "6490d3e9-4bd3-4d29-9d70-4e5e2898a3f5"
      },
      "source": [
        "n1 = int(input(\"Ingrese n1: \"))\n",
        "n2 = int(input(\"Ingrese n2: \"))\n",
        "n3 = int(input(\"Ingrese n3: \"))\n",
        "if n1<n2 and n1<n3:\n",
        "  print(\"El primer numero es menor\")\n",
        "elif n2<n1 and n2<n3:\n",
        "  print(\"El segundo numero es menor\")\n",
        "elif n3<n1 and n3<n2:\n",
        "  print(\"El tercer numero es menor\")\n"
      ],
      "execution_count": null,
      "outputs": [
        {
          "output_type": "stream",
          "text": [
            "Ingrese n1: 2\n",
            "Ingrese n2: 2\n",
            "Ingrese n3: 10\n"
          ],
          "name": "stdout"
        }
      ]
    },
    {
      "cell_type": "markdown",
      "metadata": {
        "id": "hHmyyzpL8xSE"
      },
      "source": [
        "12.\tEl joven periodista Solarrabietas debe relatar un partido de tenis, pero no conoce las reglas del deporte. En particular, no ha logrado aprender cómo saber si un set ya terminó, y quién lo ganó.\n",
        "\n",
        "Un partido de tenis se divide en sets. Para ganar un set, un jugador debe ganar 6 juegos, pero además debe haber ganado por lo menos dos juegos más que su rival. Si el set está empatado a 5 juegos, el ganador es el primero que llegue a 7. Si el set está empatado a 6 juegos, el set se define en un último juego, en cuyo caso el resultado final es 7-6.\n",
        "\n",
        "Sabiendo que el jugador A ha ganado m juegos, y el jugador B, n juegos, al periodista le gustaría saber:\n",
        "o\tsi A ganó el set, o\n",
        "o\tsi B ganó el set, o\n",
        "o\tsi el set todavía no termina, o\n",
        "o\tsi el resultado es inválido (por ejemplo, 8-6 o 7-3).\n",
        "o\tDesarrolle un programa que solucione el problema de Solarrabietas\n"
      ]
    },
    {
      "cell_type": "code",
      "metadata": {
        "colab": {
          "base_uri": "https://localhost:8080/"
        },
        "id": "uxS6Sxss80Wj",
        "outputId": "840154e0-5d51-4340-b7f8-71efc74bc2bc"
      },
      "source": [
        "a = int(input(\"Ingrese juegos ganados de A: \"))\n",
        "b = int(input(\"Ingrese juegos ganados de B: \"))\n",
        "if a == 6 and b<a:\n",
        "  if a-b >= 2:\n",
        "    print(\"A es el ganador\")\n",
        "  else:\n",
        "    print(\"Falta un juego para que A gane\")\n",
        "elif a == 6 and b == 6:\n",
        "  print(\"Falta un set para indicar el ganador\")\n",
        "elif b == 6 and a<b:\n",
        "  if b-a >= 2:\n",
        "    print(\"B es el ganador\")\n",
        "  else:\n",
        "    print(\"Falta un juego para que B gane\")\n",
        "\n",
        "else:\n",
        "  print(\"El resultado es invalido\")"
      ],
      "execution_count": null,
      "outputs": [
        {
          "output_type": "stream",
          "text": [
            "Ingrese juegos ganados de A: 7\n",
            "Ingrese juegos ganados de B: 8\n",
            "El resultado es invalido\n"
          ],
          "name": "stdout"
        }
      ]
    },
    {
      "cell_type": "markdown",
      "metadata": {
        "id": "blhgFENzEW0K"
      },
      "source": [
        "# Ciclos"
      ]
    },
    {
      "cell_type": "markdown",
      "metadata": {
        "id": "NT_N4d8TEqgX"
      },
      "source": [
        "While"
      ]
    },
    {
      "cell_type": "code",
      "metadata": {
        "id": "TU70irEkEaSU"
      },
      "source": [
        "meses = int(input(\"Ingrese numero de meses: \"))\n",
        "c_ciclos = 0\n",
        "ahorro_total = 0\n",
        "while c_ciclos < meses :\n",
        "  ahorro_mensual = int(input(\"Ingrese ahorro del mes \"+str(c_ciclos+1)))  \n",
        "  ahorro_total = ahorro_mensual + ahorro_total\n",
        "  c_ciclos = c_ciclos + 1\n",
        "print(\"El ahorro total es: \"+str(ahorro_total))"
      ],
      "execution_count": null,
      "outputs": []
    },
    {
      "cell_type": "code",
      "metadata": {
        "id": "QqI0Nf3VGkd-"
      },
      "source": [
        "notas = 3\n",
        "contador = 0\n",
        "suma = 0\n",
        "while contador < notas :\n",
        "  nota = float(input(\"Ingrese nota \"+str(contador+1)+\": \"))\n",
        "  suma = suma + nota\n",
        "  contador = contador + 1\n",
        "promedio = suma / notas\n",
        "print(\"Su promedio es: \"+str(promedio))"
      ],
      "execution_count": null,
      "outputs": []
    },
    {
      "cell_type": "code",
      "metadata": {
        "colab": {
          "base_uri": "https://localhost:8080/"
        },
        "id": "gAVlmf5VHUUO",
        "outputId": "b84421b2-7939-41b8-8b2c-6282e890a4d9"
      },
      "source": [
        "i = 0\n",
        "alumnos = int(input(\"Ingrese numero de alumnos: \"))\n",
        "while i < alumnos :\n",
        "  nombre = input(\"Ingrese nombre: \")\n",
        "  print(\"Bienvenido a IP \"+nombre)\n",
        "  i = i + 1"
      ],
      "execution_count": null,
      "outputs": [
        {
          "output_type": "stream",
          "text": [
            "Ingrese numero de alumnos: 3\n",
            "Ingrese nombre: luis\n",
            "Bienvenido a IP luis\n",
            "Ingrese nombre: damian\n",
            "Bienvenido a IP damian\n",
            "Ingrese nombre: benjamin\n",
            "Bienvenido a IP benjamin\n"
          ],
          "name": "stdout"
        }
      ]
    },
    {
      "cell_type": "code",
      "metadata": {
        "colab": {
          "base_uri": "https://localhost:8080/"
        },
        "id": "LCdsiKhKIYYc",
        "outputId": "395eb18f-a3c1-4791-8866-98e7c24ca51a"
      },
      "source": [
        "i = 0\n",
        "while i < 2 :\n",
        "  num = float(input(\"Ingrese un numero: \"))\n",
        "  cubo = num ** 3\n",
        "  cuarta = num ** 4\n",
        "  print(\"Su cubo es: \"+str(cubo))\n",
        "  print(\"Su cuarta es: \"+str(cuarta))\n",
        "  i = i +1"
      ],
      "execution_count": null,
      "outputs": [
        {
          "output_type": "stream",
          "text": [
            "Ingrese un numero: 2\n",
            "Su cubo es: 8.0\n",
            "Su cuarta es: 16.0\n",
            "Ingrese un numero: 4\n",
            "Su cubo es: 64.0\n",
            "Su cuarta es: 256.0\n"
          ],
          "name": "stdout"
        }
      ]
    },
    {
      "cell_type": "code",
      "metadata": {
        "colab": {
          "base_uri": "https://localhost:8080/"
        },
        "id": "fP6o8mf8I641",
        "outputId": "72abc3f5-59ad-439e-fb9a-fd00f23181c1"
      },
      "source": [
        "i = 0\n",
        "while i < 2:\n",
        "  num = float(input(\"Ingresar numero \"+str(i+1)+\": \"))\n",
        "  if num > 0 :\n",
        "    print(str(num)+ \" es positivo\")\n",
        "  i = i + 1"
      ],
      "execution_count": null,
      "outputs": [
        {
          "output_type": "stream",
          "text": [
            "Ingresar numero 1: 1\n",
            "1.0 es positivo\n",
            "Ingresar numero 2: -55\n"
          ],
          "name": "stdout"
        }
      ]
    },
    {
      "cell_type": "markdown",
      "metadata": {
        "id": "vxxh9bQ1wnfi"
      },
      "source": [
        "8.\tSimular el comportamiento de un reloj digital, imprimiendo la hora, minutos y segundos de un día desde las 0:00:00 horas hasta las 23:59:59 horas."
      ]
    },
    {
      "cell_type": "code",
      "metadata": {
        "colab": {
          "base_uri": "https://localhost:8080/"
        },
        "id": "6weS1bMIwoe0",
        "outputId": "1d1dea77-2a6a-4375-d1c7-192ed0e9cb54"
      },
      "source": [
        "hrs = 0\n",
        "min = 0\n",
        "seg = 0\n",
        "\n",
        "while hrs < 24:\n",
        "  while min < 60:\n",
        "    while seg < 60:\n",
        "      print(str(hrs)+\":\"+str(min)+\":\"+str(seg))\n",
        "      seg += 1\n",
        "    min += 1\n",
        "    seg = 0\n",
        "  hrs += 1\n",
        "  min = 0"
      ],
      "execution_count": null,
      "outputs": [
        {
          "output_type": "stream",
          "text": [
            "\u001b[1;30;43mSe han truncado las últimas 5000 líneas del flujo de salida.\u001b[0m\n",
            "22:36:40\n",
            "22:36:41\n",
            "22:36:42\n",
            "22:36:43\n",
            "22:36:44\n",
            "22:36:45\n",
            "22:36:46\n",
            "22:36:47\n",
            "22:36:48\n",
            "22:36:49\n",
            "22:36:50\n",
            "22:36:51\n",
            "22:36:52\n",
            "22:36:53\n",
            "22:36:54\n",
            "22:36:55\n",
            "22:36:56\n",
            "22:36:57\n",
            "22:36:58\n",
            "22:36:59\n",
            "22:37:0\n",
            "22:37:1\n",
            "22:37:2\n",
            "22:37:3\n",
            "22:37:4\n",
            "22:37:5\n",
            "22:37:6\n",
            "22:37:7\n",
            "22:37:8\n",
            "22:37:9\n",
            "22:37:10\n",
            "22:37:11\n",
            "22:37:12\n",
            "22:37:13\n",
            "22:37:14\n",
            "22:37:15\n",
            "22:37:16\n",
            "22:37:17\n",
            "22:37:18\n",
            "22:37:19\n",
            "22:37:20\n",
            "22:37:21\n",
            "22:37:22\n",
            "22:37:23\n",
            "22:37:24\n",
            "22:37:25\n",
            "22:37:26\n",
            "22:37:27\n",
            "22:37:28\n",
            "22:37:29\n",
            "22:37:30\n",
            "22:37:31\n",
            "22:37:32\n",
            "22:37:33\n",
            "22:37:34\n",
            "22:37:35\n",
            "22:37:36\n",
            "22:37:37\n",
            "22:37:38\n",
            "22:37:39\n",
            "22:37:40\n",
            "22:37:41\n",
            "22:37:42\n",
            "22:37:43\n",
            "22:37:44\n",
            "22:37:45\n",
            "22:37:46\n",
            "22:37:47\n",
            "22:37:48\n",
            "22:37:49\n",
            "22:37:50\n",
            "22:37:51\n",
            "22:37:52\n",
            "22:37:53\n",
            "22:37:54\n",
            "22:37:55\n",
            "22:37:56\n",
            "22:37:57\n",
            "22:37:58\n",
            "22:37:59\n",
            "22:38:0\n",
            "22:38:1\n",
            "22:38:2\n",
            "22:38:3\n",
            "22:38:4\n",
            "22:38:5\n",
            "22:38:6\n",
            "22:38:7\n",
            "22:38:8\n",
            "22:38:9\n",
            "22:38:10\n",
            "22:38:11\n",
            "22:38:12\n",
            "22:38:13\n",
            "22:38:14\n",
            "22:38:15\n",
            "22:38:16\n",
            "22:38:17\n",
            "22:38:18\n",
            "22:38:19\n",
            "22:38:20\n",
            "22:38:21\n",
            "22:38:22\n",
            "22:38:23\n",
            "22:38:24\n",
            "22:38:25\n",
            "22:38:26\n",
            "22:38:27\n",
            "22:38:28\n",
            "22:38:29\n",
            "22:38:30\n",
            "22:38:31\n",
            "22:38:32\n",
            "22:38:33\n",
            "22:38:34\n",
            "22:38:35\n",
            "22:38:36\n",
            "22:38:37\n",
            "22:38:38\n",
            "22:38:39\n",
            "22:38:40\n",
            "22:38:41\n",
            "22:38:42\n",
            "22:38:43\n",
            "22:38:44\n",
            "22:38:45\n",
            "22:38:46\n",
            "22:38:47\n",
            "22:38:48\n",
            "22:38:49\n",
            "22:38:50\n",
            "22:38:51\n",
            "22:38:52\n",
            "22:38:53\n",
            "22:38:54\n",
            "22:38:55\n",
            "22:38:56\n",
            "22:38:57\n",
            "22:38:58\n",
            "22:38:59\n",
            "22:39:0\n",
            "22:39:1\n",
            "22:39:2\n",
            "22:39:3\n",
            "22:39:4\n",
            "22:39:5\n",
            "22:39:6\n",
            "22:39:7\n",
            "22:39:8\n",
            "22:39:9\n",
            "22:39:10\n",
            "22:39:11\n",
            "22:39:12\n",
            "22:39:13\n",
            "22:39:14\n",
            "22:39:15\n",
            "22:39:16\n",
            "22:39:17\n",
            "22:39:18\n",
            "22:39:19\n",
            "22:39:20\n",
            "22:39:21\n",
            "22:39:22\n",
            "22:39:23\n",
            "22:39:24\n",
            "22:39:25\n",
            "22:39:26\n",
            "22:39:27\n",
            "22:39:28\n",
            "22:39:29\n",
            "22:39:30\n",
            "22:39:31\n",
            "22:39:32\n",
            "22:39:33\n",
            "22:39:34\n",
            "22:39:35\n",
            "22:39:36\n",
            "22:39:37\n",
            "22:39:38\n",
            "22:39:39\n",
            "22:39:40\n",
            "22:39:41\n",
            "22:39:42\n",
            "22:39:43\n",
            "22:39:44\n",
            "22:39:45\n",
            "22:39:46\n",
            "22:39:47\n",
            "22:39:48\n",
            "22:39:49\n",
            "22:39:50\n",
            "22:39:51\n",
            "22:39:52\n",
            "22:39:53\n",
            "22:39:54\n",
            "22:39:55\n",
            "22:39:56\n",
            "22:39:57\n",
            "22:39:58\n",
            "22:39:59\n",
            "22:40:0\n",
            "22:40:1\n",
            "22:40:2\n",
            "22:40:3\n",
            "22:40:4\n",
            "22:40:5\n",
            "22:40:6\n",
            "22:40:7\n",
            "22:40:8\n",
            "22:40:9\n",
            "22:40:10\n",
            "22:40:11\n",
            "22:40:12\n",
            "22:40:13\n",
            "22:40:14\n",
            "22:40:15\n",
            "22:40:16\n",
            "22:40:17\n",
            "22:40:18\n",
            "22:40:19\n",
            "22:40:20\n",
            "22:40:21\n",
            "22:40:22\n",
            "22:40:23\n",
            "22:40:24\n",
            "22:40:25\n",
            "22:40:26\n",
            "22:40:27\n",
            "22:40:28\n",
            "22:40:29\n",
            "22:40:30\n",
            "22:40:31\n",
            "22:40:32\n",
            "22:40:33\n",
            "22:40:34\n",
            "22:40:35\n",
            "22:40:36\n",
            "22:40:37\n",
            "22:40:38\n",
            "22:40:39\n",
            "22:40:40\n",
            "22:40:41\n",
            "22:40:42\n",
            "22:40:43\n",
            "22:40:44\n",
            "22:40:45\n",
            "22:40:46\n",
            "22:40:47\n",
            "22:40:48\n",
            "22:40:49\n",
            "22:40:50\n",
            "22:40:51\n",
            "22:40:52\n",
            "22:40:53\n",
            "22:40:54\n",
            "22:40:55\n",
            "22:40:56\n",
            "22:40:57\n",
            "22:40:58\n",
            "22:40:59\n",
            "22:41:0\n",
            "22:41:1\n",
            "22:41:2\n",
            "22:41:3\n",
            "22:41:4\n",
            "22:41:5\n",
            "22:41:6\n",
            "22:41:7\n",
            "22:41:8\n",
            "22:41:9\n",
            "22:41:10\n",
            "22:41:11\n",
            "22:41:12\n",
            "22:41:13\n",
            "22:41:14\n",
            "22:41:15\n",
            "22:41:16\n",
            "22:41:17\n",
            "22:41:18\n",
            "22:41:19\n",
            "22:41:20\n",
            "22:41:21\n",
            "22:41:22\n",
            "22:41:23\n",
            "22:41:24\n",
            "22:41:25\n",
            "22:41:26\n",
            "22:41:27\n",
            "22:41:28\n",
            "22:41:29\n",
            "22:41:30\n",
            "22:41:31\n",
            "22:41:32\n",
            "22:41:33\n",
            "22:41:34\n",
            "22:41:35\n",
            "22:41:36\n",
            "22:41:37\n",
            "22:41:38\n",
            "22:41:39\n",
            "22:41:40\n",
            "22:41:41\n",
            "22:41:42\n",
            "22:41:43\n",
            "22:41:44\n",
            "22:41:45\n",
            "22:41:46\n",
            "22:41:47\n",
            "22:41:48\n",
            "22:41:49\n",
            "22:41:50\n",
            "22:41:51\n",
            "22:41:52\n",
            "22:41:53\n",
            "22:41:54\n",
            "22:41:55\n",
            "22:41:56\n",
            "22:41:57\n",
            "22:41:58\n",
            "22:41:59\n",
            "22:42:0\n",
            "22:42:1\n",
            "22:42:2\n",
            "22:42:3\n",
            "22:42:4\n",
            "22:42:5\n",
            "22:42:6\n",
            "22:42:7\n",
            "22:42:8\n",
            "22:42:9\n",
            "22:42:10\n",
            "22:42:11\n",
            "22:42:12\n",
            "22:42:13\n",
            "22:42:14\n",
            "22:42:15\n",
            "22:42:16\n",
            "22:42:17\n",
            "22:42:18\n",
            "22:42:19\n",
            "22:42:20\n",
            "22:42:21\n",
            "22:42:22\n",
            "22:42:23\n",
            "22:42:24\n",
            "22:42:25\n",
            "22:42:26\n",
            "22:42:27\n",
            "22:42:28\n",
            "22:42:29\n",
            "22:42:30\n",
            "22:42:31\n",
            "22:42:32\n",
            "22:42:33\n",
            "22:42:34\n",
            "22:42:35\n",
            "22:42:36\n",
            "22:42:37\n",
            "22:42:38\n",
            "22:42:39\n",
            "22:42:40\n",
            "22:42:41\n",
            "22:42:42\n",
            "22:42:43\n",
            "22:42:44\n",
            "22:42:45\n",
            "22:42:46\n",
            "22:42:47\n",
            "22:42:48\n",
            "22:42:49\n",
            "22:42:50\n",
            "22:42:51\n",
            "22:42:52\n",
            "22:42:53\n",
            "22:42:54\n",
            "22:42:55\n",
            "22:42:56\n",
            "22:42:57\n",
            "22:42:58\n",
            "22:42:59\n",
            "22:43:0\n",
            "22:43:1\n",
            "22:43:2\n",
            "22:43:3\n",
            "22:43:4\n",
            "22:43:5\n",
            "22:43:6\n",
            "22:43:7\n",
            "22:43:8\n",
            "22:43:9\n",
            "22:43:10\n",
            "22:43:11\n",
            "22:43:12\n",
            "22:43:13\n",
            "22:43:14\n",
            "22:43:15\n",
            "22:43:16\n",
            "22:43:17\n",
            "22:43:18\n",
            "22:43:19\n",
            "22:43:20\n",
            "22:43:21\n",
            "22:43:22\n",
            "22:43:23\n",
            "22:43:24\n",
            "22:43:25\n",
            "22:43:26\n",
            "22:43:27\n",
            "22:43:28\n",
            "22:43:29\n",
            "22:43:30\n",
            "22:43:31\n",
            "22:43:32\n",
            "22:43:33\n",
            "22:43:34\n",
            "22:43:35\n",
            "22:43:36\n",
            "22:43:37\n",
            "22:43:38\n",
            "22:43:39\n",
            "22:43:40\n",
            "22:43:41\n",
            "22:43:42\n",
            "22:43:43\n",
            "22:43:44\n",
            "22:43:45\n",
            "22:43:46\n",
            "22:43:47\n",
            "22:43:48\n",
            "22:43:49\n",
            "22:43:50\n",
            "22:43:51\n",
            "22:43:52\n",
            "22:43:53\n",
            "22:43:54\n",
            "22:43:55\n",
            "22:43:56\n",
            "22:43:57\n",
            "22:43:58\n",
            "22:43:59\n",
            "22:44:0\n",
            "22:44:1\n",
            "22:44:2\n",
            "22:44:3\n",
            "22:44:4\n",
            "22:44:5\n",
            "22:44:6\n",
            "22:44:7\n",
            "22:44:8\n",
            "22:44:9\n",
            "22:44:10\n",
            "22:44:11\n",
            "22:44:12\n",
            "22:44:13\n",
            "22:44:14\n",
            "22:44:15\n",
            "22:44:16\n",
            "22:44:17\n",
            "22:44:18\n",
            "22:44:19\n",
            "22:44:20\n",
            "22:44:21\n",
            "22:44:22\n",
            "22:44:23\n",
            "22:44:24\n",
            "22:44:25\n",
            "22:44:26\n",
            "22:44:27\n",
            "22:44:28\n",
            "22:44:29\n",
            "22:44:30\n",
            "22:44:31\n",
            "22:44:32\n",
            "22:44:33\n",
            "22:44:34\n",
            "22:44:35\n",
            "22:44:36\n",
            "22:44:37\n",
            "22:44:38\n",
            "22:44:39\n",
            "22:44:40\n",
            "22:44:41\n",
            "22:44:42\n",
            "22:44:43\n",
            "22:44:44\n",
            "22:44:45\n",
            "22:44:46\n",
            "22:44:47\n",
            "22:44:48\n",
            "22:44:49\n",
            "22:44:50\n",
            "22:44:51\n",
            "22:44:52\n",
            "22:44:53\n",
            "22:44:54\n",
            "22:44:55\n",
            "22:44:56\n",
            "22:44:57\n",
            "22:44:58\n",
            "22:44:59\n",
            "22:45:0\n",
            "22:45:1\n",
            "22:45:2\n",
            "22:45:3\n",
            "22:45:4\n",
            "22:45:5\n",
            "22:45:6\n",
            "22:45:7\n",
            "22:45:8\n",
            "22:45:9\n",
            "22:45:10\n",
            "22:45:11\n",
            "22:45:12\n",
            "22:45:13\n",
            "22:45:14\n",
            "22:45:15\n",
            "22:45:16\n",
            "22:45:17\n",
            "22:45:18\n",
            "22:45:19\n",
            "22:45:20\n",
            "22:45:21\n",
            "22:45:22\n",
            "22:45:23\n",
            "22:45:24\n",
            "22:45:25\n",
            "22:45:26\n",
            "22:45:27\n",
            "22:45:28\n",
            "22:45:29\n",
            "22:45:30\n",
            "22:45:31\n",
            "22:45:32\n",
            "22:45:33\n",
            "22:45:34\n",
            "22:45:35\n",
            "22:45:36\n",
            "22:45:37\n",
            "22:45:38\n",
            "22:45:39\n",
            "22:45:40\n",
            "22:45:41\n",
            "22:45:42\n",
            "22:45:43\n",
            "22:45:44\n",
            "22:45:45\n",
            "22:45:46\n",
            "22:45:47\n",
            "22:45:48\n",
            "22:45:49\n",
            "22:45:50\n",
            "22:45:51\n",
            "22:45:52\n",
            "22:45:53\n",
            "22:45:54\n",
            "22:45:55\n",
            "22:45:56\n",
            "22:45:57\n",
            "22:45:58\n",
            "22:45:59\n",
            "22:46:0\n",
            "22:46:1\n",
            "22:46:2\n",
            "22:46:3\n",
            "22:46:4\n",
            "22:46:5\n",
            "22:46:6\n",
            "22:46:7\n",
            "22:46:8\n",
            "22:46:9\n",
            "22:46:10\n",
            "22:46:11\n",
            "22:46:12\n",
            "22:46:13\n",
            "22:46:14\n",
            "22:46:15\n",
            "22:46:16\n",
            "22:46:17\n",
            "22:46:18\n",
            "22:46:19\n",
            "22:46:20\n",
            "22:46:21\n",
            "22:46:22\n",
            "22:46:23\n",
            "22:46:24\n",
            "22:46:25\n",
            "22:46:26\n",
            "22:46:27\n",
            "22:46:28\n",
            "22:46:29\n",
            "22:46:30\n",
            "22:46:31\n",
            "22:46:32\n",
            "22:46:33\n",
            "22:46:34\n",
            "22:46:35\n",
            "22:46:36\n",
            "22:46:37\n",
            "22:46:38\n",
            "22:46:39\n",
            "22:46:40\n",
            "22:46:41\n",
            "22:46:42\n",
            "22:46:43\n",
            "22:46:44\n",
            "22:46:45\n",
            "22:46:46\n",
            "22:46:47\n",
            "22:46:48\n",
            "22:46:49\n",
            "22:46:50\n",
            "22:46:51\n",
            "22:46:52\n",
            "22:46:53\n",
            "22:46:54\n",
            "22:46:55\n",
            "22:46:56\n",
            "22:46:57\n",
            "22:46:58\n",
            "22:46:59\n",
            "22:47:0\n",
            "22:47:1\n",
            "22:47:2\n",
            "22:47:3\n",
            "22:47:4\n",
            "22:47:5\n",
            "22:47:6\n",
            "22:47:7\n",
            "22:47:8\n",
            "22:47:9\n",
            "22:47:10\n",
            "22:47:11\n",
            "22:47:12\n",
            "22:47:13\n",
            "22:47:14\n",
            "22:47:15\n",
            "22:47:16\n",
            "22:47:17\n",
            "22:47:18\n",
            "22:47:19\n",
            "22:47:20\n",
            "22:47:21\n",
            "22:47:22\n",
            "22:47:23\n",
            "22:47:24\n",
            "22:47:25\n",
            "22:47:26\n",
            "22:47:27\n",
            "22:47:28\n",
            "22:47:29\n",
            "22:47:30\n",
            "22:47:31\n",
            "22:47:32\n",
            "22:47:33\n",
            "22:47:34\n",
            "22:47:35\n",
            "22:47:36\n",
            "22:47:37\n",
            "22:47:38\n",
            "22:47:39\n",
            "22:47:40\n",
            "22:47:41\n",
            "22:47:42\n",
            "22:47:43\n",
            "22:47:44\n",
            "22:47:45\n",
            "22:47:46\n",
            "22:47:47\n",
            "22:47:48\n",
            "22:47:49\n",
            "22:47:50\n",
            "22:47:51\n",
            "22:47:52\n",
            "22:47:53\n",
            "22:47:54\n",
            "22:47:55\n",
            "22:47:56\n",
            "22:47:57\n",
            "22:47:58\n",
            "22:47:59\n",
            "22:48:0\n",
            "22:48:1\n",
            "22:48:2\n",
            "22:48:3\n",
            "22:48:4\n",
            "22:48:5\n",
            "22:48:6\n",
            "22:48:7\n",
            "22:48:8\n",
            "22:48:9\n",
            "22:48:10\n",
            "22:48:11\n",
            "22:48:12\n",
            "22:48:13\n",
            "22:48:14\n",
            "22:48:15\n",
            "22:48:16\n",
            "22:48:17\n",
            "22:48:18\n",
            "22:48:19\n",
            "22:48:20\n",
            "22:48:21\n",
            "22:48:22\n",
            "22:48:23\n",
            "22:48:24\n",
            "22:48:25\n",
            "22:48:26\n",
            "22:48:27\n",
            "22:48:28\n",
            "22:48:29\n",
            "22:48:30\n",
            "22:48:31\n",
            "22:48:32\n",
            "22:48:33\n",
            "22:48:34\n",
            "22:48:35\n",
            "22:48:36\n",
            "22:48:37\n",
            "22:48:38\n",
            "22:48:39\n",
            "22:48:40\n",
            "22:48:41\n",
            "22:48:42\n",
            "22:48:43\n",
            "22:48:44\n",
            "22:48:45\n",
            "22:48:46\n",
            "22:48:47\n",
            "22:48:48\n",
            "22:48:49\n",
            "22:48:50\n",
            "22:48:51\n",
            "22:48:52\n",
            "22:48:53\n",
            "22:48:54\n",
            "22:48:55\n",
            "22:48:56\n",
            "22:48:57\n",
            "22:48:58\n",
            "22:48:59\n",
            "22:49:0\n",
            "22:49:1\n",
            "22:49:2\n",
            "22:49:3\n",
            "22:49:4\n",
            "22:49:5\n",
            "22:49:6\n",
            "22:49:7\n",
            "22:49:8\n",
            "22:49:9\n",
            "22:49:10\n",
            "22:49:11\n",
            "22:49:12\n",
            "22:49:13\n",
            "22:49:14\n",
            "22:49:15\n",
            "22:49:16\n",
            "22:49:17\n",
            "22:49:18\n",
            "22:49:19\n",
            "22:49:20\n",
            "22:49:21\n",
            "22:49:22\n",
            "22:49:23\n",
            "22:49:24\n",
            "22:49:25\n",
            "22:49:26\n",
            "22:49:27\n",
            "22:49:28\n",
            "22:49:29\n",
            "22:49:30\n",
            "22:49:31\n",
            "22:49:32\n",
            "22:49:33\n",
            "22:49:34\n",
            "22:49:35\n",
            "22:49:36\n",
            "22:49:37\n",
            "22:49:38\n",
            "22:49:39\n",
            "22:49:40\n",
            "22:49:41\n",
            "22:49:42\n",
            "22:49:43\n",
            "22:49:44\n",
            "22:49:45\n",
            "22:49:46\n",
            "22:49:47\n",
            "22:49:48\n",
            "22:49:49\n",
            "22:49:50\n",
            "22:49:51\n",
            "22:49:52\n",
            "22:49:53\n",
            "22:49:54\n",
            "22:49:55\n",
            "22:49:56\n",
            "22:49:57\n",
            "22:49:58\n",
            "22:49:59\n",
            "22:50:0\n",
            "22:50:1\n",
            "22:50:2\n",
            "22:50:3\n",
            "22:50:4\n",
            "22:50:5\n",
            "22:50:6\n",
            "22:50:7\n",
            "22:50:8\n",
            "22:50:9\n",
            "22:50:10\n",
            "22:50:11\n",
            "22:50:12\n",
            "22:50:13\n",
            "22:50:14\n",
            "22:50:15\n",
            "22:50:16\n",
            "22:50:17\n",
            "22:50:18\n",
            "22:50:19\n",
            "22:50:20\n",
            "22:50:21\n",
            "22:50:22\n",
            "22:50:23\n",
            "22:50:24\n",
            "22:50:25\n",
            "22:50:26\n",
            "22:50:27\n",
            "22:50:28\n",
            "22:50:29\n",
            "22:50:30\n",
            "22:50:31\n",
            "22:50:32\n",
            "22:50:33\n",
            "22:50:34\n",
            "22:50:35\n",
            "22:50:36\n",
            "22:50:37\n",
            "22:50:38\n",
            "22:50:39\n",
            "22:50:40\n",
            "22:50:41\n",
            "22:50:42\n",
            "22:50:43\n",
            "22:50:44\n",
            "22:50:45\n",
            "22:50:46\n",
            "22:50:47\n",
            "22:50:48\n",
            "22:50:49\n",
            "22:50:50\n",
            "22:50:51\n",
            "22:50:52\n",
            "22:50:53\n",
            "22:50:54\n",
            "22:50:55\n",
            "22:50:56\n",
            "22:50:57\n",
            "22:50:58\n",
            "22:50:59\n",
            "22:51:0\n",
            "22:51:1\n",
            "22:51:2\n",
            "22:51:3\n",
            "22:51:4\n",
            "22:51:5\n",
            "22:51:6\n",
            "22:51:7\n",
            "22:51:8\n",
            "22:51:9\n",
            "22:51:10\n",
            "22:51:11\n",
            "22:51:12\n",
            "22:51:13\n",
            "22:51:14\n",
            "22:51:15\n",
            "22:51:16\n",
            "22:51:17\n",
            "22:51:18\n",
            "22:51:19\n",
            "22:51:20\n",
            "22:51:21\n",
            "22:51:22\n",
            "22:51:23\n",
            "22:51:24\n",
            "22:51:25\n",
            "22:51:26\n",
            "22:51:27\n",
            "22:51:28\n",
            "22:51:29\n",
            "22:51:30\n",
            "22:51:31\n",
            "22:51:32\n",
            "22:51:33\n",
            "22:51:34\n",
            "22:51:35\n",
            "22:51:36\n",
            "22:51:37\n",
            "22:51:38\n",
            "22:51:39\n",
            "22:51:40\n",
            "22:51:41\n",
            "22:51:42\n",
            "22:51:43\n",
            "22:51:44\n",
            "22:51:45\n",
            "22:51:46\n",
            "22:51:47\n",
            "22:51:48\n",
            "22:51:49\n",
            "22:51:50\n",
            "22:51:51\n",
            "22:51:52\n",
            "22:51:53\n",
            "22:51:54\n",
            "22:51:55\n",
            "22:51:56\n",
            "22:51:57\n",
            "22:51:58\n",
            "22:51:59\n",
            "22:52:0\n",
            "22:52:1\n",
            "22:52:2\n",
            "22:52:3\n",
            "22:52:4\n",
            "22:52:5\n",
            "22:52:6\n",
            "22:52:7\n",
            "22:52:8\n",
            "22:52:9\n",
            "22:52:10\n",
            "22:52:11\n",
            "22:52:12\n",
            "22:52:13\n",
            "22:52:14\n",
            "22:52:15\n",
            "22:52:16\n",
            "22:52:17\n",
            "22:52:18\n",
            "22:52:19\n",
            "22:52:20\n",
            "22:52:21\n",
            "22:52:22\n",
            "22:52:23\n",
            "22:52:24\n",
            "22:52:25\n",
            "22:52:26\n",
            "22:52:27\n",
            "22:52:28\n",
            "22:52:29\n",
            "22:52:30\n",
            "22:52:31\n",
            "22:52:32\n",
            "22:52:33\n",
            "22:52:34\n",
            "22:52:35\n",
            "22:52:36\n",
            "22:52:37\n",
            "22:52:38\n",
            "22:52:39\n",
            "22:52:40\n",
            "22:52:41\n",
            "22:52:42\n",
            "22:52:43\n",
            "22:52:44\n",
            "22:52:45\n",
            "22:52:46\n",
            "22:52:47\n",
            "22:52:48\n",
            "22:52:49\n",
            "22:52:50\n",
            "22:52:51\n",
            "22:52:52\n",
            "22:52:53\n",
            "22:52:54\n",
            "22:52:55\n",
            "22:52:56\n",
            "22:52:57\n",
            "22:52:58\n",
            "22:52:59\n",
            "22:53:0\n",
            "22:53:1\n",
            "22:53:2\n",
            "22:53:3\n",
            "22:53:4\n",
            "22:53:5\n",
            "22:53:6\n",
            "22:53:7\n",
            "22:53:8\n",
            "22:53:9\n",
            "22:53:10\n",
            "22:53:11\n",
            "22:53:12\n",
            "22:53:13\n",
            "22:53:14\n",
            "22:53:15\n",
            "22:53:16\n",
            "22:53:17\n",
            "22:53:18\n",
            "22:53:19\n",
            "22:53:20\n",
            "22:53:21\n",
            "22:53:22\n",
            "22:53:23\n",
            "22:53:24\n",
            "22:53:25\n",
            "22:53:26\n",
            "22:53:27\n",
            "22:53:28\n",
            "22:53:29\n",
            "22:53:30\n",
            "22:53:31\n",
            "22:53:32\n",
            "22:53:33\n",
            "22:53:34\n",
            "22:53:35\n",
            "22:53:36\n",
            "22:53:37\n",
            "22:53:38\n",
            "22:53:39\n",
            "22:53:40\n",
            "22:53:41\n",
            "22:53:42\n",
            "22:53:43\n",
            "22:53:44\n",
            "22:53:45\n",
            "22:53:46\n",
            "22:53:47\n",
            "22:53:48\n",
            "22:53:49\n",
            "22:53:50\n",
            "22:53:51\n",
            "22:53:52\n",
            "22:53:53\n",
            "22:53:54\n",
            "22:53:55\n",
            "22:53:56\n",
            "22:53:57\n",
            "22:53:58\n",
            "22:53:59\n",
            "22:54:0\n",
            "22:54:1\n",
            "22:54:2\n",
            "22:54:3\n",
            "22:54:4\n",
            "22:54:5\n",
            "22:54:6\n",
            "22:54:7\n",
            "22:54:8\n",
            "22:54:9\n",
            "22:54:10\n",
            "22:54:11\n",
            "22:54:12\n",
            "22:54:13\n",
            "22:54:14\n",
            "22:54:15\n",
            "22:54:16\n",
            "22:54:17\n",
            "22:54:18\n",
            "22:54:19\n",
            "22:54:20\n",
            "22:54:21\n",
            "22:54:22\n",
            "22:54:23\n",
            "22:54:24\n",
            "22:54:25\n",
            "22:54:26\n",
            "22:54:27\n",
            "22:54:28\n",
            "22:54:29\n",
            "22:54:30\n",
            "22:54:31\n",
            "22:54:32\n",
            "22:54:33\n",
            "22:54:34\n",
            "22:54:35\n",
            "22:54:36\n",
            "22:54:37\n",
            "22:54:38\n",
            "22:54:39\n",
            "22:54:40\n",
            "22:54:41\n",
            "22:54:42\n",
            "22:54:43\n",
            "22:54:44\n",
            "22:54:45\n",
            "22:54:46\n",
            "22:54:47\n",
            "22:54:48\n",
            "22:54:49\n",
            "22:54:50\n",
            "22:54:51\n",
            "22:54:52\n",
            "22:54:53\n",
            "22:54:54\n",
            "22:54:55\n",
            "22:54:56\n",
            "22:54:57\n",
            "22:54:58\n",
            "22:54:59\n",
            "22:55:0\n",
            "22:55:1\n",
            "22:55:2\n",
            "22:55:3\n",
            "22:55:4\n",
            "22:55:5\n",
            "22:55:6\n",
            "22:55:7\n",
            "22:55:8\n",
            "22:55:9\n",
            "22:55:10\n",
            "22:55:11\n",
            "22:55:12\n",
            "22:55:13\n",
            "22:55:14\n",
            "22:55:15\n",
            "22:55:16\n",
            "22:55:17\n",
            "22:55:18\n",
            "22:55:19\n",
            "22:55:20\n",
            "22:55:21\n",
            "22:55:22\n",
            "22:55:23\n",
            "22:55:24\n",
            "22:55:25\n",
            "22:55:26\n",
            "22:55:27\n",
            "22:55:28\n",
            "22:55:29\n",
            "22:55:30\n",
            "22:55:31\n",
            "22:55:32\n",
            "22:55:33\n",
            "22:55:34\n",
            "22:55:35\n",
            "22:55:36\n",
            "22:55:37\n",
            "22:55:38\n",
            "22:55:39\n",
            "22:55:40\n",
            "22:55:41\n",
            "22:55:42\n",
            "22:55:43\n",
            "22:55:44\n",
            "22:55:45\n",
            "22:55:46\n",
            "22:55:47\n",
            "22:55:48\n",
            "22:55:49\n",
            "22:55:50\n",
            "22:55:51\n",
            "22:55:52\n",
            "22:55:53\n",
            "22:55:54\n",
            "22:55:55\n",
            "22:55:56\n",
            "22:55:57\n",
            "22:55:58\n",
            "22:55:59\n",
            "22:56:0\n",
            "22:56:1\n",
            "22:56:2\n",
            "22:56:3\n",
            "22:56:4\n",
            "22:56:5\n",
            "22:56:6\n",
            "22:56:7\n",
            "22:56:8\n",
            "22:56:9\n",
            "22:56:10\n",
            "22:56:11\n",
            "22:56:12\n",
            "22:56:13\n",
            "22:56:14\n",
            "22:56:15\n",
            "22:56:16\n",
            "22:56:17\n",
            "22:56:18\n",
            "22:56:19\n",
            "22:56:20\n",
            "22:56:21\n",
            "22:56:22\n",
            "22:56:23\n",
            "22:56:24\n",
            "22:56:25\n",
            "22:56:26\n",
            "22:56:27\n",
            "22:56:28\n",
            "22:56:29\n",
            "22:56:30\n",
            "22:56:31\n",
            "22:56:32\n",
            "22:56:33\n",
            "22:56:34\n",
            "22:56:35\n",
            "22:56:36\n",
            "22:56:37\n",
            "22:56:38\n",
            "22:56:39\n",
            "22:56:40\n",
            "22:56:41\n",
            "22:56:42\n",
            "22:56:43\n",
            "22:56:44\n",
            "22:56:45\n",
            "22:56:46\n",
            "22:56:47\n",
            "22:56:48\n",
            "22:56:49\n",
            "22:56:50\n",
            "22:56:51\n",
            "22:56:52\n",
            "22:56:53\n",
            "22:56:54\n",
            "22:56:55\n",
            "22:56:56\n",
            "22:56:57\n",
            "22:56:58\n",
            "22:56:59\n",
            "22:57:0\n",
            "22:57:1\n",
            "22:57:2\n",
            "22:57:3\n",
            "22:57:4\n",
            "22:57:5\n",
            "22:57:6\n",
            "22:57:7\n",
            "22:57:8\n",
            "22:57:9\n",
            "22:57:10\n",
            "22:57:11\n",
            "22:57:12\n",
            "22:57:13\n",
            "22:57:14\n",
            "22:57:15\n",
            "22:57:16\n",
            "22:57:17\n",
            "22:57:18\n",
            "22:57:19\n",
            "22:57:20\n",
            "22:57:21\n",
            "22:57:22\n",
            "22:57:23\n",
            "22:57:24\n",
            "22:57:25\n",
            "22:57:26\n",
            "22:57:27\n",
            "22:57:28\n",
            "22:57:29\n",
            "22:57:30\n",
            "22:57:31\n",
            "22:57:32\n",
            "22:57:33\n",
            "22:57:34\n",
            "22:57:35\n",
            "22:57:36\n",
            "22:57:37\n",
            "22:57:38\n",
            "22:57:39\n",
            "22:57:40\n",
            "22:57:41\n",
            "22:57:42\n",
            "22:57:43\n",
            "22:57:44\n",
            "22:57:45\n",
            "22:57:46\n",
            "22:57:47\n",
            "22:57:48\n",
            "22:57:49\n",
            "22:57:50\n",
            "22:57:51\n",
            "22:57:52\n",
            "22:57:53\n",
            "22:57:54\n",
            "22:57:55\n",
            "22:57:56\n",
            "22:57:57\n",
            "22:57:58\n",
            "22:57:59\n",
            "22:58:0\n",
            "22:58:1\n",
            "22:58:2\n",
            "22:58:3\n",
            "22:58:4\n",
            "22:58:5\n",
            "22:58:6\n",
            "22:58:7\n",
            "22:58:8\n",
            "22:58:9\n",
            "22:58:10\n",
            "22:58:11\n",
            "22:58:12\n",
            "22:58:13\n",
            "22:58:14\n",
            "22:58:15\n",
            "22:58:16\n",
            "22:58:17\n",
            "22:58:18\n",
            "22:58:19\n",
            "22:58:20\n",
            "22:58:21\n",
            "22:58:22\n",
            "22:58:23\n",
            "22:58:24\n",
            "22:58:25\n",
            "22:58:26\n",
            "22:58:27\n",
            "22:58:28\n",
            "22:58:29\n",
            "22:58:30\n",
            "22:58:31\n",
            "22:58:32\n",
            "22:58:33\n",
            "22:58:34\n",
            "22:58:35\n",
            "22:58:36\n",
            "22:58:37\n",
            "22:58:38\n",
            "22:58:39\n",
            "22:58:40\n",
            "22:58:41\n",
            "22:58:42\n",
            "22:58:43\n",
            "22:58:44\n",
            "22:58:45\n",
            "22:58:46\n",
            "22:58:47\n",
            "22:58:48\n",
            "22:58:49\n",
            "22:58:50\n",
            "22:58:51\n",
            "22:58:52\n",
            "22:58:53\n",
            "22:58:54\n",
            "22:58:55\n",
            "22:58:56\n",
            "22:58:57\n",
            "22:58:58\n",
            "22:58:59\n",
            "22:59:0\n",
            "22:59:1\n",
            "22:59:2\n",
            "22:59:3\n",
            "22:59:4\n",
            "22:59:5\n",
            "22:59:6\n",
            "22:59:7\n",
            "22:59:8\n",
            "22:59:9\n",
            "22:59:10\n",
            "22:59:11\n",
            "22:59:12\n",
            "22:59:13\n",
            "22:59:14\n",
            "22:59:15\n",
            "22:59:16\n",
            "22:59:17\n",
            "22:59:18\n",
            "22:59:19\n",
            "22:59:20\n",
            "22:59:21\n",
            "22:59:22\n",
            "22:59:23\n",
            "22:59:24\n",
            "22:59:25\n",
            "22:59:26\n",
            "22:59:27\n",
            "22:59:28\n",
            "22:59:29\n",
            "22:59:30\n",
            "22:59:31\n",
            "22:59:32\n",
            "22:59:33\n",
            "22:59:34\n",
            "22:59:35\n",
            "22:59:36\n",
            "22:59:37\n",
            "22:59:38\n",
            "22:59:39\n",
            "22:59:40\n",
            "22:59:41\n",
            "22:59:42\n",
            "22:59:43\n",
            "22:59:44\n",
            "22:59:45\n",
            "22:59:46\n",
            "22:59:47\n",
            "22:59:48\n",
            "22:59:49\n",
            "22:59:50\n",
            "22:59:51\n",
            "22:59:52\n",
            "22:59:53\n",
            "22:59:54\n",
            "22:59:55\n",
            "22:59:56\n",
            "22:59:57\n",
            "22:59:58\n",
            "22:59:59\n",
            "23:0:0\n",
            "23:0:1\n",
            "23:0:2\n",
            "23:0:3\n",
            "23:0:4\n",
            "23:0:5\n",
            "23:0:6\n",
            "23:0:7\n",
            "23:0:8\n",
            "23:0:9\n",
            "23:0:10\n",
            "23:0:11\n",
            "23:0:12\n",
            "23:0:13\n",
            "23:0:14\n",
            "23:0:15\n",
            "23:0:16\n",
            "23:0:17\n",
            "23:0:18\n",
            "23:0:19\n",
            "23:0:20\n",
            "23:0:21\n",
            "23:0:22\n",
            "23:0:23\n",
            "23:0:24\n",
            "23:0:25\n",
            "23:0:26\n",
            "23:0:27\n",
            "23:0:28\n",
            "23:0:29\n",
            "23:0:30\n",
            "23:0:31\n",
            "23:0:32\n",
            "23:0:33\n",
            "23:0:34\n",
            "23:0:35\n",
            "23:0:36\n",
            "23:0:37\n",
            "23:0:38\n",
            "23:0:39\n",
            "23:0:40\n",
            "23:0:41\n",
            "23:0:42\n",
            "23:0:43\n",
            "23:0:44\n",
            "23:0:45\n",
            "23:0:46\n",
            "23:0:47\n",
            "23:0:48\n",
            "23:0:49\n",
            "23:0:50\n",
            "23:0:51\n",
            "23:0:52\n",
            "23:0:53\n",
            "23:0:54\n",
            "23:0:55\n",
            "23:0:56\n",
            "23:0:57\n",
            "23:0:58\n",
            "23:0:59\n",
            "23:1:0\n",
            "23:1:1\n",
            "23:1:2\n",
            "23:1:3\n",
            "23:1:4\n",
            "23:1:5\n",
            "23:1:6\n",
            "23:1:7\n",
            "23:1:8\n",
            "23:1:9\n",
            "23:1:10\n",
            "23:1:11\n",
            "23:1:12\n",
            "23:1:13\n",
            "23:1:14\n",
            "23:1:15\n",
            "23:1:16\n",
            "23:1:17\n",
            "23:1:18\n",
            "23:1:19\n",
            "23:1:20\n",
            "23:1:21\n",
            "23:1:22\n",
            "23:1:23\n",
            "23:1:24\n",
            "23:1:25\n",
            "23:1:26\n",
            "23:1:27\n",
            "23:1:28\n",
            "23:1:29\n",
            "23:1:30\n",
            "23:1:31\n",
            "23:1:32\n",
            "23:1:33\n",
            "23:1:34\n",
            "23:1:35\n",
            "23:1:36\n",
            "23:1:37\n",
            "23:1:38\n",
            "23:1:39\n",
            "23:1:40\n",
            "23:1:41\n",
            "23:1:42\n",
            "23:1:43\n",
            "23:1:44\n",
            "23:1:45\n",
            "23:1:46\n",
            "23:1:47\n",
            "23:1:48\n",
            "23:1:49\n",
            "23:1:50\n",
            "23:1:51\n",
            "23:1:52\n",
            "23:1:53\n",
            "23:1:54\n",
            "23:1:55\n",
            "23:1:56\n",
            "23:1:57\n",
            "23:1:58\n",
            "23:1:59\n",
            "23:2:0\n",
            "23:2:1\n",
            "23:2:2\n",
            "23:2:3\n",
            "23:2:4\n",
            "23:2:5\n",
            "23:2:6\n",
            "23:2:7\n",
            "23:2:8\n",
            "23:2:9\n",
            "23:2:10\n",
            "23:2:11\n",
            "23:2:12\n",
            "23:2:13\n",
            "23:2:14\n",
            "23:2:15\n",
            "23:2:16\n",
            "23:2:17\n",
            "23:2:18\n",
            "23:2:19\n",
            "23:2:20\n",
            "23:2:21\n",
            "23:2:22\n",
            "23:2:23\n",
            "23:2:24\n",
            "23:2:25\n",
            "23:2:26\n",
            "23:2:27\n",
            "23:2:28\n",
            "23:2:29\n",
            "23:2:30\n",
            "23:2:31\n",
            "23:2:32\n",
            "23:2:33\n",
            "23:2:34\n",
            "23:2:35\n",
            "23:2:36\n",
            "23:2:37\n",
            "23:2:38\n",
            "23:2:39\n",
            "23:2:40\n",
            "23:2:41\n",
            "23:2:42\n",
            "23:2:43\n",
            "23:2:44\n",
            "23:2:45\n",
            "23:2:46\n",
            "23:2:47\n",
            "23:2:48\n",
            "23:2:49\n",
            "23:2:50\n",
            "23:2:51\n",
            "23:2:52\n",
            "23:2:53\n",
            "23:2:54\n",
            "23:2:55\n",
            "23:2:56\n",
            "23:2:57\n",
            "23:2:58\n",
            "23:2:59\n",
            "23:3:0\n",
            "23:3:1\n",
            "23:3:2\n",
            "23:3:3\n",
            "23:3:4\n",
            "23:3:5\n",
            "23:3:6\n",
            "23:3:7\n",
            "23:3:8\n",
            "23:3:9\n",
            "23:3:10\n",
            "23:3:11\n",
            "23:3:12\n",
            "23:3:13\n",
            "23:3:14\n",
            "23:3:15\n",
            "23:3:16\n",
            "23:3:17\n",
            "23:3:18\n",
            "23:3:19\n",
            "23:3:20\n",
            "23:3:21\n",
            "23:3:22\n",
            "23:3:23\n",
            "23:3:24\n",
            "23:3:25\n",
            "23:3:26\n",
            "23:3:27\n",
            "23:3:28\n",
            "23:3:29\n",
            "23:3:30\n",
            "23:3:31\n",
            "23:3:32\n",
            "23:3:33\n",
            "23:3:34\n",
            "23:3:35\n",
            "23:3:36\n",
            "23:3:37\n",
            "23:3:38\n",
            "23:3:39\n",
            "23:3:40\n",
            "23:3:41\n",
            "23:3:42\n",
            "23:3:43\n",
            "23:3:44\n",
            "23:3:45\n",
            "23:3:46\n",
            "23:3:47\n",
            "23:3:48\n",
            "23:3:49\n",
            "23:3:50\n",
            "23:3:51\n",
            "23:3:52\n",
            "23:3:53\n",
            "23:3:54\n",
            "23:3:55\n",
            "23:3:56\n",
            "23:3:57\n",
            "23:3:58\n",
            "23:3:59\n",
            "23:4:0\n",
            "23:4:1\n",
            "23:4:2\n",
            "23:4:3\n",
            "23:4:4\n",
            "23:4:5\n",
            "23:4:6\n",
            "23:4:7\n",
            "23:4:8\n",
            "23:4:9\n",
            "23:4:10\n",
            "23:4:11\n",
            "23:4:12\n",
            "23:4:13\n",
            "23:4:14\n",
            "23:4:15\n",
            "23:4:16\n",
            "23:4:17\n",
            "23:4:18\n",
            "23:4:19\n",
            "23:4:20\n",
            "23:4:21\n",
            "23:4:22\n",
            "23:4:23\n",
            "23:4:24\n",
            "23:4:25\n",
            "23:4:26\n",
            "23:4:27\n",
            "23:4:28\n",
            "23:4:29\n",
            "23:4:30\n",
            "23:4:31\n",
            "23:4:32\n",
            "23:4:33\n",
            "23:4:34\n",
            "23:4:35\n",
            "23:4:36\n",
            "23:4:37\n",
            "23:4:38\n",
            "23:4:39\n",
            "23:4:40\n",
            "23:4:41\n",
            "23:4:42\n",
            "23:4:43\n",
            "23:4:44\n",
            "23:4:45\n",
            "23:4:46\n",
            "23:4:47\n",
            "23:4:48\n",
            "23:4:49\n",
            "23:4:50\n",
            "23:4:51\n",
            "23:4:52\n",
            "23:4:53\n",
            "23:4:54\n",
            "23:4:55\n",
            "23:4:56\n",
            "23:4:57\n",
            "23:4:58\n",
            "23:4:59\n",
            "23:5:0\n",
            "23:5:1\n",
            "23:5:2\n",
            "23:5:3\n",
            "23:5:4\n",
            "23:5:5\n",
            "23:5:6\n",
            "23:5:7\n",
            "23:5:8\n",
            "23:5:9\n",
            "23:5:10\n",
            "23:5:11\n",
            "23:5:12\n",
            "23:5:13\n",
            "23:5:14\n",
            "23:5:15\n",
            "23:5:16\n",
            "23:5:17\n",
            "23:5:18\n",
            "23:5:19\n",
            "23:5:20\n",
            "23:5:21\n",
            "23:5:22\n",
            "23:5:23\n",
            "23:5:24\n",
            "23:5:25\n",
            "23:5:26\n",
            "23:5:27\n",
            "23:5:28\n",
            "23:5:29\n",
            "23:5:30\n",
            "23:5:31\n",
            "23:5:32\n",
            "23:5:33\n",
            "23:5:34\n",
            "23:5:35\n",
            "23:5:36\n",
            "23:5:37\n",
            "23:5:38\n",
            "23:5:39\n",
            "23:5:40\n",
            "23:5:41\n",
            "23:5:42\n",
            "23:5:43\n",
            "23:5:44\n",
            "23:5:45\n",
            "23:5:46\n",
            "23:5:47\n",
            "23:5:48\n",
            "23:5:49\n",
            "23:5:50\n",
            "23:5:51\n",
            "23:5:52\n",
            "23:5:53\n",
            "23:5:54\n",
            "23:5:55\n",
            "23:5:56\n",
            "23:5:57\n",
            "23:5:58\n",
            "23:5:59\n",
            "23:6:0\n",
            "23:6:1\n",
            "23:6:2\n",
            "23:6:3\n",
            "23:6:4\n",
            "23:6:5\n",
            "23:6:6\n",
            "23:6:7\n",
            "23:6:8\n",
            "23:6:9\n",
            "23:6:10\n",
            "23:6:11\n",
            "23:6:12\n",
            "23:6:13\n",
            "23:6:14\n",
            "23:6:15\n",
            "23:6:16\n",
            "23:6:17\n",
            "23:6:18\n",
            "23:6:19\n",
            "23:6:20\n",
            "23:6:21\n",
            "23:6:22\n",
            "23:6:23\n",
            "23:6:24\n",
            "23:6:25\n",
            "23:6:26\n",
            "23:6:27\n",
            "23:6:28\n",
            "23:6:29\n",
            "23:6:30\n",
            "23:6:31\n",
            "23:6:32\n",
            "23:6:33\n",
            "23:6:34\n",
            "23:6:35\n",
            "23:6:36\n",
            "23:6:37\n",
            "23:6:38\n",
            "23:6:39\n",
            "23:6:40\n",
            "23:6:41\n",
            "23:6:42\n",
            "23:6:43\n",
            "23:6:44\n",
            "23:6:45\n",
            "23:6:46\n",
            "23:6:47\n",
            "23:6:48\n",
            "23:6:49\n",
            "23:6:50\n",
            "23:6:51\n",
            "23:6:52\n",
            "23:6:53\n",
            "23:6:54\n",
            "23:6:55\n",
            "23:6:56\n",
            "23:6:57\n",
            "23:6:58\n",
            "23:6:59\n",
            "23:7:0\n",
            "23:7:1\n",
            "23:7:2\n",
            "23:7:3\n",
            "23:7:4\n",
            "23:7:5\n",
            "23:7:6\n",
            "23:7:7\n",
            "23:7:8\n",
            "23:7:9\n",
            "23:7:10\n",
            "23:7:11\n",
            "23:7:12\n",
            "23:7:13\n",
            "23:7:14\n",
            "23:7:15\n",
            "23:7:16\n",
            "23:7:17\n",
            "23:7:18\n",
            "23:7:19\n",
            "23:7:20\n",
            "23:7:21\n",
            "23:7:22\n",
            "23:7:23\n",
            "23:7:24\n",
            "23:7:25\n",
            "23:7:26\n",
            "23:7:27\n",
            "23:7:28\n",
            "23:7:29\n",
            "23:7:30\n",
            "23:7:31\n",
            "23:7:32\n",
            "23:7:33\n",
            "23:7:34\n",
            "23:7:35\n",
            "23:7:36\n",
            "23:7:37\n",
            "23:7:38\n",
            "23:7:39\n",
            "23:7:40\n",
            "23:7:41\n",
            "23:7:42\n",
            "23:7:43\n",
            "23:7:44\n",
            "23:7:45\n",
            "23:7:46\n",
            "23:7:47\n",
            "23:7:48\n",
            "23:7:49\n",
            "23:7:50\n",
            "23:7:51\n",
            "23:7:52\n",
            "23:7:53\n",
            "23:7:54\n",
            "23:7:55\n",
            "23:7:56\n",
            "23:7:57\n",
            "23:7:58\n",
            "23:7:59\n",
            "23:8:0\n",
            "23:8:1\n",
            "23:8:2\n",
            "23:8:3\n",
            "23:8:4\n",
            "23:8:5\n",
            "23:8:6\n",
            "23:8:7\n",
            "23:8:8\n",
            "23:8:9\n",
            "23:8:10\n",
            "23:8:11\n",
            "23:8:12\n",
            "23:8:13\n",
            "23:8:14\n",
            "23:8:15\n",
            "23:8:16\n",
            "23:8:17\n",
            "23:8:18\n",
            "23:8:19\n",
            "23:8:20\n",
            "23:8:21\n",
            "23:8:22\n",
            "23:8:23\n",
            "23:8:24\n",
            "23:8:25\n",
            "23:8:26\n",
            "23:8:27\n",
            "23:8:28\n",
            "23:8:29\n",
            "23:8:30\n",
            "23:8:31\n",
            "23:8:32\n",
            "23:8:33\n",
            "23:8:34\n",
            "23:8:35\n",
            "23:8:36\n",
            "23:8:37\n",
            "23:8:38\n",
            "23:8:39\n",
            "23:8:40\n",
            "23:8:41\n",
            "23:8:42\n",
            "23:8:43\n",
            "23:8:44\n",
            "23:8:45\n",
            "23:8:46\n",
            "23:8:47\n",
            "23:8:48\n",
            "23:8:49\n",
            "23:8:50\n",
            "23:8:51\n",
            "23:8:52\n",
            "23:8:53\n",
            "23:8:54\n",
            "23:8:55\n",
            "23:8:56\n",
            "23:8:57\n",
            "23:8:58\n",
            "23:8:59\n",
            "23:9:0\n",
            "23:9:1\n",
            "23:9:2\n",
            "23:9:3\n",
            "23:9:4\n",
            "23:9:5\n",
            "23:9:6\n",
            "23:9:7\n",
            "23:9:8\n",
            "23:9:9\n",
            "23:9:10\n",
            "23:9:11\n",
            "23:9:12\n",
            "23:9:13\n",
            "23:9:14\n",
            "23:9:15\n",
            "23:9:16\n",
            "23:9:17\n",
            "23:9:18\n",
            "23:9:19\n",
            "23:9:20\n",
            "23:9:21\n",
            "23:9:22\n",
            "23:9:23\n",
            "23:9:24\n",
            "23:9:25\n",
            "23:9:26\n",
            "23:9:27\n",
            "23:9:28\n",
            "23:9:29\n",
            "23:9:30\n",
            "23:9:31\n",
            "23:9:32\n",
            "23:9:33\n",
            "23:9:34\n",
            "23:9:35\n",
            "23:9:36\n",
            "23:9:37\n",
            "23:9:38\n",
            "23:9:39\n",
            "23:9:40\n",
            "23:9:41\n",
            "23:9:42\n",
            "23:9:43\n",
            "23:9:44\n",
            "23:9:45\n",
            "23:9:46\n",
            "23:9:47\n",
            "23:9:48\n",
            "23:9:49\n",
            "23:9:50\n",
            "23:9:51\n",
            "23:9:52\n",
            "23:9:53\n",
            "23:9:54\n",
            "23:9:55\n",
            "23:9:56\n",
            "23:9:57\n",
            "23:9:58\n",
            "23:9:59\n",
            "23:10:0\n",
            "23:10:1\n",
            "23:10:2\n",
            "23:10:3\n",
            "23:10:4\n",
            "23:10:5\n",
            "23:10:6\n",
            "23:10:7\n",
            "23:10:8\n",
            "23:10:9\n",
            "23:10:10\n",
            "23:10:11\n",
            "23:10:12\n",
            "23:10:13\n",
            "23:10:14\n",
            "23:10:15\n",
            "23:10:16\n",
            "23:10:17\n",
            "23:10:18\n",
            "23:10:19\n",
            "23:10:20\n",
            "23:10:21\n",
            "23:10:22\n",
            "23:10:23\n",
            "23:10:24\n",
            "23:10:25\n",
            "23:10:26\n",
            "23:10:27\n",
            "23:10:28\n",
            "23:10:29\n",
            "23:10:30\n",
            "23:10:31\n",
            "23:10:32\n",
            "23:10:33\n",
            "23:10:34\n",
            "23:10:35\n",
            "23:10:36\n",
            "23:10:37\n",
            "23:10:38\n",
            "23:10:39\n",
            "23:10:40\n",
            "23:10:41\n",
            "23:10:42\n",
            "23:10:43\n",
            "23:10:44\n",
            "23:10:45\n",
            "23:10:46\n",
            "23:10:47\n",
            "23:10:48\n",
            "23:10:49\n",
            "23:10:50\n",
            "23:10:51\n",
            "23:10:52\n",
            "23:10:53\n",
            "23:10:54\n",
            "23:10:55\n",
            "23:10:56\n",
            "23:10:57\n",
            "23:10:58\n",
            "23:10:59\n",
            "23:11:0\n",
            "23:11:1\n",
            "23:11:2\n",
            "23:11:3\n",
            "23:11:4\n",
            "23:11:5\n",
            "23:11:6\n",
            "23:11:7\n",
            "23:11:8\n",
            "23:11:9\n",
            "23:11:10\n",
            "23:11:11\n",
            "23:11:12\n",
            "23:11:13\n",
            "23:11:14\n",
            "23:11:15\n",
            "23:11:16\n",
            "23:11:17\n",
            "23:11:18\n",
            "23:11:19\n",
            "23:11:20\n",
            "23:11:21\n",
            "23:11:22\n",
            "23:11:23\n",
            "23:11:24\n",
            "23:11:25\n",
            "23:11:26\n",
            "23:11:27\n",
            "23:11:28\n",
            "23:11:29\n",
            "23:11:30\n",
            "23:11:31\n",
            "23:11:32\n",
            "23:11:33\n",
            "23:11:34\n",
            "23:11:35\n",
            "23:11:36\n",
            "23:11:37\n",
            "23:11:38\n",
            "23:11:39\n",
            "23:11:40\n",
            "23:11:41\n",
            "23:11:42\n",
            "23:11:43\n",
            "23:11:44\n",
            "23:11:45\n",
            "23:11:46\n",
            "23:11:47\n",
            "23:11:48\n",
            "23:11:49\n",
            "23:11:50\n",
            "23:11:51\n",
            "23:11:52\n",
            "23:11:53\n",
            "23:11:54\n",
            "23:11:55\n",
            "23:11:56\n",
            "23:11:57\n",
            "23:11:58\n",
            "23:11:59\n",
            "23:12:0\n",
            "23:12:1\n",
            "23:12:2\n",
            "23:12:3\n",
            "23:12:4\n",
            "23:12:5\n",
            "23:12:6\n",
            "23:12:7\n",
            "23:12:8\n",
            "23:12:9\n",
            "23:12:10\n",
            "23:12:11\n",
            "23:12:12\n",
            "23:12:13\n",
            "23:12:14\n",
            "23:12:15\n",
            "23:12:16\n",
            "23:12:17\n",
            "23:12:18\n",
            "23:12:19\n",
            "23:12:20\n",
            "23:12:21\n",
            "23:12:22\n",
            "23:12:23\n",
            "23:12:24\n",
            "23:12:25\n",
            "23:12:26\n",
            "23:12:27\n",
            "23:12:28\n",
            "23:12:29\n",
            "23:12:30\n",
            "23:12:31\n",
            "23:12:32\n",
            "23:12:33\n",
            "23:12:34\n",
            "23:12:35\n",
            "23:12:36\n",
            "23:12:37\n",
            "23:12:38\n",
            "23:12:39\n",
            "23:12:40\n",
            "23:12:41\n",
            "23:12:42\n",
            "23:12:43\n",
            "23:12:44\n",
            "23:12:45\n",
            "23:12:46\n",
            "23:12:47\n",
            "23:12:48\n",
            "23:12:49\n",
            "23:12:50\n",
            "23:12:51\n",
            "23:12:52\n",
            "23:12:53\n",
            "23:12:54\n",
            "23:12:55\n",
            "23:12:56\n",
            "23:12:57\n",
            "23:12:58\n",
            "23:12:59\n",
            "23:13:0\n",
            "23:13:1\n",
            "23:13:2\n",
            "23:13:3\n",
            "23:13:4\n",
            "23:13:5\n",
            "23:13:6\n",
            "23:13:7\n",
            "23:13:8\n",
            "23:13:9\n",
            "23:13:10\n",
            "23:13:11\n",
            "23:13:12\n",
            "23:13:13\n",
            "23:13:14\n",
            "23:13:15\n",
            "23:13:16\n",
            "23:13:17\n",
            "23:13:18\n",
            "23:13:19\n",
            "23:13:20\n",
            "23:13:21\n",
            "23:13:22\n",
            "23:13:23\n",
            "23:13:24\n",
            "23:13:25\n",
            "23:13:26\n",
            "23:13:27\n",
            "23:13:28\n",
            "23:13:29\n",
            "23:13:30\n",
            "23:13:31\n",
            "23:13:32\n",
            "23:13:33\n",
            "23:13:34\n",
            "23:13:35\n",
            "23:13:36\n",
            "23:13:37\n",
            "23:13:38\n",
            "23:13:39\n",
            "23:13:40\n",
            "23:13:41\n",
            "23:13:42\n",
            "23:13:43\n",
            "23:13:44\n",
            "23:13:45\n",
            "23:13:46\n",
            "23:13:47\n",
            "23:13:48\n",
            "23:13:49\n",
            "23:13:50\n",
            "23:13:51\n",
            "23:13:52\n",
            "23:13:53\n",
            "23:13:54\n",
            "23:13:55\n",
            "23:13:56\n",
            "23:13:57\n",
            "23:13:58\n",
            "23:13:59\n",
            "23:14:0\n",
            "23:14:1\n",
            "23:14:2\n",
            "23:14:3\n",
            "23:14:4\n",
            "23:14:5\n",
            "23:14:6\n",
            "23:14:7\n",
            "23:14:8\n",
            "23:14:9\n",
            "23:14:10\n",
            "23:14:11\n",
            "23:14:12\n",
            "23:14:13\n",
            "23:14:14\n",
            "23:14:15\n",
            "23:14:16\n",
            "23:14:17\n",
            "23:14:18\n",
            "23:14:19\n",
            "23:14:20\n",
            "23:14:21\n",
            "23:14:22\n",
            "23:14:23\n",
            "23:14:24\n",
            "23:14:25\n",
            "23:14:26\n",
            "23:14:27\n",
            "23:14:28\n",
            "23:14:29\n",
            "23:14:30\n",
            "23:14:31\n",
            "23:14:32\n",
            "23:14:33\n",
            "23:14:34\n",
            "23:14:35\n",
            "23:14:36\n",
            "23:14:37\n",
            "23:14:38\n",
            "23:14:39\n",
            "23:14:40\n",
            "23:14:41\n",
            "23:14:42\n",
            "23:14:43\n",
            "23:14:44\n",
            "23:14:45\n",
            "23:14:46\n",
            "23:14:47\n",
            "23:14:48\n",
            "23:14:49\n",
            "23:14:50\n",
            "23:14:51\n",
            "23:14:52\n",
            "23:14:53\n",
            "23:14:54\n",
            "23:14:55\n",
            "23:14:56\n",
            "23:14:57\n",
            "23:14:58\n",
            "23:14:59\n",
            "23:15:0\n",
            "23:15:1\n",
            "23:15:2\n",
            "23:15:3\n",
            "23:15:4\n",
            "23:15:5\n",
            "23:15:6\n",
            "23:15:7\n",
            "23:15:8\n",
            "23:15:9\n",
            "23:15:10\n",
            "23:15:11\n",
            "23:15:12\n",
            "23:15:13\n",
            "23:15:14\n",
            "23:15:15\n",
            "23:15:16\n",
            "23:15:17\n",
            "23:15:18\n",
            "23:15:19\n",
            "23:15:20\n",
            "23:15:21\n",
            "23:15:22\n",
            "23:15:23\n",
            "23:15:24\n",
            "23:15:25\n",
            "23:15:26\n",
            "23:15:27\n",
            "23:15:28\n",
            "23:15:29\n",
            "23:15:30\n",
            "23:15:31\n",
            "23:15:32\n",
            "23:15:33\n",
            "23:15:34\n",
            "23:15:35\n",
            "23:15:36\n",
            "23:15:37\n",
            "23:15:38\n",
            "23:15:39\n",
            "23:15:40\n",
            "23:15:41\n",
            "23:15:42\n",
            "23:15:43\n",
            "23:15:44\n",
            "23:15:45\n",
            "23:15:46\n",
            "23:15:47\n",
            "23:15:48\n",
            "23:15:49\n",
            "23:15:50\n",
            "23:15:51\n",
            "23:15:52\n",
            "23:15:53\n",
            "23:15:54\n",
            "23:15:55\n",
            "23:15:56\n",
            "23:15:57\n",
            "23:15:58\n",
            "23:15:59\n",
            "23:16:0\n",
            "23:16:1\n",
            "23:16:2\n",
            "23:16:3\n",
            "23:16:4\n",
            "23:16:5\n",
            "23:16:6\n",
            "23:16:7\n",
            "23:16:8\n",
            "23:16:9\n",
            "23:16:10\n",
            "23:16:11\n",
            "23:16:12\n",
            "23:16:13\n",
            "23:16:14\n",
            "23:16:15\n",
            "23:16:16\n",
            "23:16:17\n",
            "23:16:18\n",
            "23:16:19\n",
            "23:16:20\n",
            "23:16:21\n",
            "23:16:22\n",
            "23:16:23\n",
            "23:16:24\n",
            "23:16:25\n",
            "23:16:26\n",
            "23:16:27\n",
            "23:16:28\n",
            "23:16:29\n",
            "23:16:30\n",
            "23:16:31\n",
            "23:16:32\n",
            "23:16:33\n",
            "23:16:34\n",
            "23:16:35\n",
            "23:16:36\n",
            "23:16:37\n",
            "23:16:38\n",
            "23:16:39\n",
            "23:16:40\n",
            "23:16:41\n",
            "23:16:42\n",
            "23:16:43\n",
            "23:16:44\n",
            "23:16:45\n",
            "23:16:46\n",
            "23:16:47\n",
            "23:16:48\n",
            "23:16:49\n",
            "23:16:50\n",
            "23:16:51\n",
            "23:16:52\n",
            "23:16:53\n",
            "23:16:54\n",
            "23:16:55\n",
            "23:16:56\n",
            "23:16:57\n",
            "23:16:58\n",
            "23:16:59\n",
            "23:17:0\n",
            "23:17:1\n",
            "23:17:2\n",
            "23:17:3\n",
            "23:17:4\n",
            "23:17:5\n",
            "23:17:6\n",
            "23:17:7\n",
            "23:17:8\n",
            "23:17:9\n",
            "23:17:10\n",
            "23:17:11\n",
            "23:17:12\n",
            "23:17:13\n",
            "23:17:14\n",
            "23:17:15\n",
            "23:17:16\n",
            "23:17:17\n",
            "23:17:18\n",
            "23:17:19\n",
            "23:17:20\n",
            "23:17:21\n",
            "23:17:22\n",
            "23:17:23\n",
            "23:17:24\n",
            "23:17:25\n",
            "23:17:26\n",
            "23:17:27\n",
            "23:17:28\n",
            "23:17:29\n",
            "23:17:30\n",
            "23:17:31\n",
            "23:17:32\n",
            "23:17:33\n",
            "23:17:34\n",
            "23:17:35\n",
            "23:17:36\n",
            "23:17:37\n",
            "23:17:38\n",
            "23:17:39\n",
            "23:17:40\n",
            "23:17:41\n",
            "23:17:42\n",
            "23:17:43\n",
            "23:17:44\n",
            "23:17:45\n",
            "23:17:46\n",
            "23:17:47\n",
            "23:17:48\n",
            "23:17:49\n",
            "23:17:50\n",
            "23:17:51\n",
            "23:17:52\n",
            "23:17:53\n",
            "23:17:54\n",
            "23:17:55\n",
            "23:17:56\n",
            "23:17:57\n",
            "23:17:58\n",
            "23:17:59\n",
            "23:18:0\n",
            "23:18:1\n",
            "23:18:2\n",
            "23:18:3\n",
            "23:18:4\n",
            "23:18:5\n",
            "23:18:6\n",
            "23:18:7\n",
            "23:18:8\n",
            "23:18:9\n",
            "23:18:10\n",
            "23:18:11\n",
            "23:18:12\n",
            "23:18:13\n",
            "23:18:14\n",
            "23:18:15\n",
            "23:18:16\n",
            "23:18:17\n",
            "23:18:18\n",
            "23:18:19\n",
            "23:18:20\n",
            "23:18:21\n",
            "23:18:22\n",
            "23:18:23\n",
            "23:18:24\n",
            "23:18:25\n",
            "23:18:26\n",
            "23:18:27\n",
            "23:18:28\n",
            "23:18:29\n",
            "23:18:30\n",
            "23:18:31\n",
            "23:18:32\n",
            "23:18:33\n",
            "23:18:34\n",
            "23:18:35\n",
            "23:18:36\n",
            "23:18:37\n",
            "23:18:38\n",
            "23:18:39\n",
            "23:18:40\n",
            "23:18:41\n",
            "23:18:42\n",
            "23:18:43\n",
            "23:18:44\n",
            "23:18:45\n",
            "23:18:46\n",
            "23:18:47\n",
            "23:18:48\n",
            "23:18:49\n",
            "23:18:50\n",
            "23:18:51\n",
            "23:18:52\n",
            "23:18:53\n",
            "23:18:54\n",
            "23:18:55\n",
            "23:18:56\n",
            "23:18:57\n",
            "23:18:58\n",
            "23:18:59\n",
            "23:19:0\n",
            "23:19:1\n",
            "23:19:2\n",
            "23:19:3\n",
            "23:19:4\n",
            "23:19:5\n",
            "23:19:6\n",
            "23:19:7\n",
            "23:19:8\n",
            "23:19:9\n",
            "23:19:10\n",
            "23:19:11\n",
            "23:19:12\n",
            "23:19:13\n",
            "23:19:14\n",
            "23:19:15\n",
            "23:19:16\n",
            "23:19:17\n",
            "23:19:18\n",
            "23:19:19\n",
            "23:19:20\n",
            "23:19:21\n",
            "23:19:22\n",
            "23:19:23\n",
            "23:19:24\n",
            "23:19:25\n",
            "23:19:26\n",
            "23:19:27\n",
            "23:19:28\n",
            "23:19:29\n",
            "23:19:30\n",
            "23:19:31\n",
            "23:19:32\n",
            "23:19:33\n",
            "23:19:34\n",
            "23:19:35\n",
            "23:19:36\n",
            "23:19:37\n",
            "23:19:38\n",
            "23:19:39\n",
            "23:19:40\n",
            "23:19:41\n",
            "23:19:42\n",
            "23:19:43\n",
            "23:19:44\n",
            "23:19:45\n",
            "23:19:46\n",
            "23:19:47\n",
            "23:19:48\n",
            "23:19:49\n",
            "23:19:50\n",
            "23:19:51\n",
            "23:19:52\n",
            "23:19:53\n",
            "23:19:54\n",
            "23:19:55\n",
            "23:19:56\n",
            "23:19:57\n",
            "23:19:58\n",
            "23:19:59\n",
            "23:20:0\n",
            "23:20:1\n",
            "23:20:2\n",
            "23:20:3\n",
            "23:20:4\n",
            "23:20:5\n",
            "23:20:6\n",
            "23:20:7\n",
            "23:20:8\n",
            "23:20:9\n",
            "23:20:10\n",
            "23:20:11\n",
            "23:20:12\n",
            "23:20:13\n",
            "23:20:14\n",
            "23:20:15\n",
            "23:20:16\n",
            "23:20:17\n",
            "23:20:18\n",
            "23:20:19\n",
            "23:20:20\n",
            "23:20:21\n",
            "23:20:22\n",
            "23:20:23\n",
            "23:20:24\n",
            "23:20:25\n",
            "23:20:26\n",
            "23:20:27\n",
            "23:20:28\n",
            "23:20:29\n",
            "23:20:30\n",
            "23:20:31\n",
            "23:20:32\n",
            "23:20:33\n",
            "23:20:34\n",
            "23:20:35\n",
            "23:20:36\n",
            "23:20:37\n",
            "23:20:38\n",
            "23:20:39\n",
            "23:20:40\n",
            "23:20:41\n",
            "23:20:42\n",
            "23:20:43\n",
            "23:20:44\n",
            "23:20:45\n",
            "23:20:46\n",
            "23:20:47\n",
            "23:20:48\n",
            "23:20:49\n",
            "23:20:50\n",
            "23:20:51\n",
            "23:20:52\n",
            "23:20:53\n",
            "23:20:54\n",
            "23:20:55\n",
            "23:20:56\n",
            "23:20:57\n",
            "23:20:58\n",
            "23:20:59\n",
            "23:21:0\n",
            "23:21:1\n",
            "23:21:2\n",
            "23:21:3\n",
            "23:21:4\n",
            "23:21:5\n",
            "23:21:6\n",
            "23:21:7\n",
            "23:21:8\n",
            "23:21:9\n",
            "23:21:10\n",
            "23:21:11\n",
            "23:21:12\n",
            "23:21:13\n",
            "23:21:14\n",
            "23:21:15\n",
            "23:21:16\n",
            "23:21:17\n",
            "23:21:18\n",
            "23:21:19\n",
            "23:21:20\n",
            "23:21:21\n",
            "23:21:22\n",
            "23:21:23\n",
            "23:21:24\n",
            "23:21:25\n",
            "23:21:26\n",
            "23:21:27\n",
            "23:21:28\n",
            "23:21:29\n",
            "23:21:30\n",
            "23:21:31\n",
            "23:21:32\n",
            "23:21:33\n",
            "23:21:34\n",
            "23:21:35\n",
            "23:21:36\n",
            "23:21:37\n",
            "23:21:38\n",
            "23:21:39\n",
            "23:21:40\n",
            "23:21:41\n",
            "23:21:42\n",
            "23:21:43\n",
            "23:21:44\n",
            "23:21:45\n",
            "23:21:46\n",
            "23:21:47\n",
            "23:21:48\n",
            "23:21:49\n",
            "23:21:50\n",
            "23:21:51\n",
            "23:21:52\n",
            "23:21:53\n",
            "23:21:54\n",
            "23:21:55\n",
            "23:21:56\n",
            "23:21:57\n",
            "23:21:58\n",
            "23:21:59\n",
            "23:22:0\n",
            "23:22:1\n",
            "23:22:2\n",
            "23:22:3\n",
            "23:22:4\n",
            "23:22:5\n",
            "23:22:6\n",
            "23:22:7\n",
            "23:22:8\n",
            "23:22:9\n",
            "23:22:10\n",
            "23:22:11\n",
            "23:22:12\n",
            "23:22:13\n",
            "23:22:14\n",
            "23:22:15\n",
            "23:22:16\n",
            "23:22:17\n",
            "23:22:18\n",
            "23:22:19\n",
            "23:22:20\n",
            "23:22:21\n",
            "23:22:22\n",
            "23:22:23\n",
            "23:22:24\n",
            "23:22:25\n",
            "23:22:26\n",
            "23:22:27\n",
            "23:22:28\n",
            "23:22:29\n",
            "23:22:30\n",
            "23:22:31\n",
            "23:22:32\n",
            "23:22:33\n",
            "23:22:34\n",
            "23:22:35\n",
            "23:22:36\n",
            "23:22:37\n",
            "23:22:38\n",
            "23:22:39\n",
            "23:22:40\n",
            "23:22:41\n",
            "23:22:42\n",
            "23:22:43\n",
            "23:22:44\n",
            "23:22:45\n",
            "23:22:46\n",
            "23:22:47\n",
            "23:22:48\n",
            "23:22:49\n",
            "23:22:50\n",
            "23:22:51\n",
            "23:22:52\n",
            "23:22:53\n",
            "23:22:54\n",
            "23:22:55\n",
            "23:22:56\n",
            "23:22:57\n",
            "23:22:58\n",
            "23:22:59\n",
            "23:23:0\n",
            "23:23:1\n",
            "23:23:2\n",
            "23:23:3\n",
            "23:23:4\n",
            "23:23:5\n",
            "23:23:6\n",
            "23:23:7\n",
            "23:23:8\n",
            "23:23:9\n",
            "23:23:10\n",
            "23:23:11\n",
            "23:23:12\n",
            "23:23:13\n",
            "23:23:14\n",
            "23:23:15\n",
            "23:23:16\n",
            "23:23:17\n",
            "23:23:18\n",
            "23:23:19\n",
            "23:23:20\n",
            "23:23:21\n",
            "23:23:22\n",
            "23:23:23\n",
            "23:23:24\n",
            "23:23:25\n",
            "23:23:26\n",
            "23:23:27\n",
            "23:23:28\n",
            "23:23:29\n",
            "23:23:30\n",
            "23:23:31\n",
            "23:23:32\n",
            "23:23:33\n",
            "23:23:34\n",
            "23:23:35\n",
            "23:23:36\n",
            "23:23:37\n",
            "23:23:38\n",
            "23:23:39\n",
            "23:23:40\n",
            "23:23:41\n",
            "23:23:42\n",
            "23:23:43\n",
            "23:23:44\n",
            "23:23:45\n",
            "23:23:46\n",
            "23:23:47\n",
            "23:23:48\n",
            "23:23:49\n",
            "23:23:50\n",
            "23:23:51\n",
            "23:23:52\n",
            "23:23:53\n",
            "23:23:54\n",
            "23:23:55\n",
            "23:23:56\n",
            "23:23:57\n",
            "23:23:58\n",
            "23:23:59\n",
            "23:24:0\n",
            "23:24:1\n",
            "23:24:2\n",
            "23:24:3\n",
            "23:24:4\n",
            "23:24:5\n",
            "23:24:6\n",
            "23:24:7\n",
            "23:24:8\n",
            "23:24:9\n",
            "23:24:10\n",
            "23:24:11\n",
            "23:24:12\n",
            "23:24:13\n",
            "23:24:14\n",
            "23:24:15\n",
            "23:24:16\n",
            "23:24:17\n",
            "23:24:18\n",
            "23:24:19\n",
            "23:24:20\n",
            "23:24:21\n",
            "23:24:22\n",
            "23:24:23\n",
            "23:24:24\n",
            "23:24:25\n",
            "23:24:26\n",
            "23:24:27\n",
            "23:24:28\n",
            "23:24:29\n",
            "23:24:30\n",
            "23:24:31\n",
            "23:24:32\n",
            "23:24:33\n",
            "23:24:34\n",
            "23:24:35\n",
            "23:24:36\n",
            "23:24:37\n",
            "23:24:38\n",
            "23:24:39\n",
            "23:24:40\n",
            "23:24:41\n",
            "23:24:42\n",
            "23:24:43\n",
            "23:24:44\n",
            "23:24:45\n",
            "23:24:46\n",
            "23:24:47\n",
            "23:24:48\n",
            "23:24:49\n",
            "23:24:50\n",
            "23:24:51\n",
            "23:24:52\n",
            "23:24:53\n",
            "23:24:54\n",
            "23:24:55\n",
            "23:24:56\n",
            "23:24:57\n",
            "23:24:58\n",
            "23:24:59\n",
            "23:25:0\n",
            "23:25:1\n",
            "23:25:2\n",
            "23:25:3\n",
            "23:25:4\n",
            "23:25:5\n",
            "23:25:6\n",
            "23:25:7\n",
            "23:25:8\n",
            "23:25:9\n",
            "23:25:10\n",
            "23:25:11\n",
            "23:25:12\n",
            "23:25:13\n",
            "23:25:14\n",
            "23:25:15\n",
            "23:25:16\n",
            "23:25:17\n",
            "23:25:18\n",
            "23:25:19\n",
            "23:25:20\n",
            "23:25:21\n",
            "23:25:22\n",
            "23:25:23\n",
            "23:25:24\n",
            "23:25:25\n",
            "23:25:26\n",
            "23:25:27\n",
            "23:25:28\n",
            "23:25:29\n",
            "23:25:30\n",
            "23:25:31\n",
            "23:25:32\n",
            "23:25:33\n",
            "23:25:34\n",
            "23:25:35\n",
            "23:25:36\n",
            "23:25:37\n",
            "23:25:38\n",
            "23:25:39\n",
            "23:25:40\n",
            "23:25:41\n",
            "23:25:42\n",
            "23:25:43\n",
            "23:25:44\n",
            "23:25:45\n",
            "23:25:46\n",
            "23:25:47\n",
            "23:25:48\n",
            "23:25:49\n",
            "23:25:50\n",
            "23:25:51\n",
            "23:25:52\n",
            "23:25:53\n",
            "23:25:54\n",
            "23:25:55\n",
            "23:25:56\n",
            "23:25:57\n",
            "23:25:58\n",
            "23:25:59\n",
            "23:26:0\n",
            "23:26:1\n",
            "23:26:2\n",
            "23:26:3\n",
            "23:26:4\n",
            "23:26:5\n",
            "23:26:6\n",
            "23:26:7\n",
            "23:26:8\n",
            "23:26:9\n",
            "23:26:10\n",
            "23:26:11\n",
            "23:26:12\n",
            "23:26:13\n",
            "23:26:14\n",
            "23:26:15\n",
            "23:26:16\n",
            "23:26:17\n",
            "23:26:18\n",
            "23:26:19\n",
            "23:26:20\n",
            "23:26:21\n",
            "23:26:22\n",
            "23:26:23\n",
            "23:26:24\n",
            "23:26:25\n",
            "23:26:26\n",
            "23:26:27\n",
            "23:26:28\n",
            "23:26:29\n",
            "23:26:30\n",
            "23:26:31\n",
            "23:26:32\n",
            "23:26:33\n",
            "23:26:34\n",
            "23:26:35\n",
            "23:26:36\n",
            "23:26:37\n",
            "23:26:38\n",
            "23:26:39\n",
            "23:26:40\n",
            "23:26:41\n",
            "23:26:42\n",
            "23:26:43\n",
            "23:26:44\n",
            "23:26:45\n",
            "23:26:46\n",
            "23:26:47\n",
            "23:26:48\n",
            "23:26:49\n",
            "23:26:50\n",
            "23:26:51\n",
            "23:26:52\n",
            "23:26:53\n",
            "23:26:54\n",
            "23:26:55\n",
            "23:26:56\n",
            "23:26:57\n",
            "23:26:58\n",
            "23:26:59\n",
            "23:27:0\n",
            "23:27:1\n",
            "23:27:2\n",
            "23:27:3\n",
            "23:27:4\n",
            "23:27:5\n",
            "23:27:6\n",
            "23:27:7\n",
            "23:27:8\n",
            "23:27:9\n",
            "23:27:10\n",
            "23:27:11\n",
            "23:27:12\n",
            "23:27:13\n",
            "23:27:14\n",
            "23:27:15\n",
            "23:27:16\n",
            "23:27:17\n",
            "23:27:18\n",
            "23:27:19\n",
            "23:27:20\n",
            "23:27:21\n",
            "23:27:22\n",
            "23:27:23\n",
            "23:27:24\n",
            "23:27:25\n",
            "23:27:26\n",
            "23:27:27\n",
            "23:27:28\n",
            "23:27:29\n",
            "23:27:30\n",
            "23:27:31\n",
            "23:27:32\n",
            "23:27:33\n",
            "23:27:34\n",
            "23:27:35\n",
            "23:27:36\n",
            "23:27:37\n",
            "23:27:38\n",
            "23:27:39\n",
            "23:27:40\n",
            "23:27:41\n",
            "23:27:42\n",
            "23:27:43\n",
            "23:27:44\n",
            "23:27:45\n",
            "23:27:46\n",
            "23:27:47\n",
            "23:27:48\n",
            "23:27:49\n",
            "23:27:50\n",
            "23:27:51\n",
            "23:27:52\n",
            "23:27:53\n",
            "23:27:54\n",
            "23:27:55\n",
            "23:27:56\n",
            "23:27:57\n",
            "23:27:58\n",
            "23:27:59\n",
            "23:28:0\n",
            "23:28:1\n",
            "23:28:2\n",
            "23:28:3\n",
            "23:28:4\n",
            "23:28:5\n",
            "23:28:6\n",
            "23:28:7\n",
            "23:28:8\n",
            "23:28:9\n",
            "23:28:10\n",
            "23:28:11\n",
            "23:28:12\n",
            "23:28:13\n",
            "23:28:14\n",
            "23:28:15\n",
            "23:28:16\n",
            "23:28:17\n",
            "23:28:18\n",
            "23:28:19\n",
            "23:28:20\n",
            "23:28:21\n",
            "23:28:22\n",
            "23:28:23\n",
            "23:28:24\n",
            "23:28:25\n",
            "23:28:26\n",
            "23:28:27\n",
            "23:28:28\n",
            "23:28:29\n",
            "23:28:30\n",
            "23:28:31\n",
            "23:28:32\n",
            "23:28:33\n",
            "23:28:34\n",
            "23:28:35\n",
            "23:28:36\n",
            "23:28:37\n",
            "23:28:38\n",
            "23:28:39\n",
            "23:28:40\n",
            "23:28:41\n",
            "23:28:42\n",
            "23:28:43\n",
            "23:28:44\n",
            "23:28:45\n",
            "23:28:46\n",
            "23:28:47\n",
            "23:28:48\n",
            "23:28:49\n",
            "23:28:50\n",
            "23:28:51\n",
            "23:28:52\n",
            "23:28:53\n",
            "23:28:54\n",
            "23:28:55\n",
            "23:28:56\n",
            "23:28:57\n",
            "23:28:58\n",
            "23:28:59\n",
            "23:29:0\n",
            "23:29:1\n",
            "23:29:2\n",
            "23:29:3\n",
            "23:29:4\n",
            "23:29:5\n",
            "23:29:6\n",
            "23:29:7\n",
            "23:29:8\n",
            "23:29:9\n",
            "23:29:10\n",
            "23:29:11\n",
            "23:29:12\n",
            "23:29:13\n",
            "23:29:14\n",
            "23:29:15\n",
            "23:29:16\n",
            "23:29:17\n",
            "23:29:18\n",
            "23:29:19\n",
            "23:29:20\n",
            "23:29:21\n",
            "23:29:22\n",
            "23:29:23\n",
            "23:29:24\n",
            "23:29:25\n",
            "23:29:26\n",
            "23:29:27\n",
            "23:29:28\n",
            "23:29:29\n",
            "23:29:30\n",
            "23:29:31\n",
            "23:29:32\n",
            "23:29:33\n",
            "23:29:34\n",
            "23:29:35\n",
            "23:29:36\n",
            "23:29:37\n",
            "23:29:38\n",
            "23:29:39\n",
            "23:29:40\n",
            "23:29:41\n",
            "23:29:42\n",
            "23:29:43\n",
            "23:29:44\n",
            "23:29:45\n",
            "23:29:46\n",
            "23:29:47\n",
            "23:29:48\n",
            "23:29:49\n",
            "23:29:50\n",
            "23:29:51\n",
            "23:29:52\n",
            "23:29:53\n",
            "23:29:54\n",
            "23:29:55\n",
            "23:29:56\n",
            "23:29:57\n",
            "23:29:58\n",
            "23:29:59\n",
            "23:30:0\n",
            "23:30:1\n",
            "23:30:2\n",
            "23:30:3\n",
            "23:30:4\n",
            "23:30:5\n",
            "23:30:6\n",
            "23:30:7\n",
            "23:30:8\n",
            "23:30:9\n",
            "23:30:10\n",
            "23:30:11\n",
            "23:30:12\n",
            "23:30:13\n",
            "23:30:14\n",
            "23:30:15\n",
            "23:30:16\n",
            "23:30:17\n",
            "23:30:18\n",
            "23:30:19\n",
            "23:30:20\n",
            "23:30:21\n",
            "23:30:22\n",
            "23:30:23\n",
            "23:30:24\n",
            "23:30:25\n",
            "23:30:26\n",
            "23:30:27\n",
            "23:30:28\n",
            "23:30:29\n",
            "23:30:30\n",
            "23:30:31\n",
            "23:30:32\n",
            "23:30:33\n",
            "23:30:34\n",
            "23:30:35\n",
            "23:30:36\n",
            "23:30:37\n",
            "23:30:38\n",
            "23:30:39\n",
            "23:30:40\n",
            "23:30:41\n",
            "23:30:42\n",
            "23:30:43\n",
            "23:30:44\n",
            "23:30:45\n",
            "23:30:46\n",
            "23:30:47\n",
            "23:30:48\n",
            "23:30:49\n",
            "23:30:50\n",
            "23:30:51\n",
            "23:30:52\n",
            "23:30:53\n",
            "23:30:54\n",
            "23:30:55\n",
            "23:30:56\n",
            "23:30:57\n",
            "23:30:58\n",
            "23:30:59\n",
            "23:31:0\n",
            "23:31:1\n",
            "23:31:2\n",
            "23:31:3\n",
            "23:31:4\n",
            "23:31:5\n",
            "23:31:6\n",
            "23:31:7\n",
            "23:31:8\n",
            "23:31:9\n",
            "23:31:10\n",
            "23:31:11\n",
            "23:31:12\n",
            "23:31:13\n",
            "23:31:14\n",
            "23:31:15\n",
            "23:31:16\n",
            "23:31:17\n",
            "23:31:18\n",
            "23:31:19\n",
            "23:31:20\n",
            "23:31:21\n",
            "23:31:22\n",
            "23:31:23\n",
            "23:31:24\n",
            "23:31:25\n",
            "23:31:26\n",
            "23:31:27\n",
            "23:31:28\n",
            "23:31:29\n",
            "23:31:30\n",
            "23:31:31\n",
            "23:31:32\n",
            "23:31:33\n",
            "23:31:34\n",
            "23:31:35\n",
            "23:31:36\n",
            "23:31:37\n",
            "23:31:38\n",
            "23:31:39\n",
            "23:31:40\n",
            "23:31:41\n",
            "23:31:42\n",
            "23:31:43\n",
            "23:31:44\n",
            "23:31:45\n",
            "23:31:46\n",
            "23:31:47\n",
            "23:31:48\n",
            "23:31:49\n",
            "23:31:50\n",
            "23:31:51\n",
            "23:31:52\n",
            "23:31:53\n",
            "23:31:54\n",
            "23:31:55\n",
            "23:31:56\n",
            "23:31:57\n",
            "23:31:58\n",
            "23:31:59\n",
            "23:32:0\n",
            "23:32:1\n",
            "23:32:2\n",
            "23:32:3\n",
            "23:32:4\n",
            "23:32:5\n",
            "23:32:6\n",
            "23:32:7\n",
            "23:32:8\n",
            "23:32:9\n",
            "23:32:10\n",
            "23:32:11\n",
            "23:32:12\n",
            "23:32:13\n",
            "23:32:14\n",
            "23:32:15\n",
            "23:32:16\n",
            "23:32:17\n",
            "23:32:18\n",
            "23:32:19\n",
            "23:32:20\n",
            "23:32:21\n",
            "23:32:22\n",
            "23:32:23\n",
            "23:32:24\n",
            "23:32:25\n",
            "23:32:26\n",
            "23:32:27\n",
            "23:32:28\n",
            "23:32:29\n",
            "23:32:30\n",
            "23:32:31\n",
            "23:32:32\n",
            "23:32:33\n",
            "23:32:34\n",
            "23:32:35\n",
            "23:32:36\n",
            "23:32:37\n",
            "23:32:38\n",
            "23:32:39\n",
            "23:32:40\n",
            "23:32:41\n",
            "23:32:42\n",
            "23:32:43\n",
            "23:32:44\n",
            "23:32:45\n",
            "23:32:46\n",
            "23:32:47\n",
            "23:32:48\n",
            "23:32:49\n",
            "23:32:50\n",
            "23:32:51\n",
            "23:32:52\n",
            "23:32:53\n",
            "23:32:54\n",
            "23:32:55\n",
            "23:32:56\n",
            "23:32:57\n",
            "23:32:58\n",
            "23:32:59\n",
            "23:33:0\n",
            "23:33:1\n",
            "23:33:2\n",
            "23:33:3\n",
            "23:33:4\n",
            "23:33:5\n",
            "23:33:6\n",
            "23:33:7\n",
            "23:33:8\n",
            "23:33:9\n",
            "23:33:10\n",
            "23:33:11\n",
            "23:33:12\n",
            "23:33:13\n",
            "23:33:14\n",
            "23:33:15\n",
            "23:33:16\n",
            "23:33:17\n",
            "23:33:18\n",
            "23:33:19\n",
            "23:33:20\n",
            "23:33:21\n",
            "23:33:22\n",
            "23:33:23\n",
            "23:33:24\n",
            "23:33:25\n",
            "23:33:26\n",
            "23:33:27\n",
            "23:33:28\n",
            "23:33:29\n",
            "23:33:30\n",
            "23:33:31\n",
            "23:33:32\n",
            "23:33:33\n",
            "23:33:34\n",
            "23:33:35\n",
            "23:33:36\n",
            "23:33:37\n",
            "23:33:38\n",
            "23:33:39\n",
            "23:33:40\n",
            "23:33:41\n",
            "23:33:42\n",
            "23:33:43\n",
            "23:33:44\n",
            "23:33:45\n",
            "23:33:46\n",
            "23:33:47\n",
            "23:33:48\n",
            "23:33:49\n",
            "23:33:50\n",
            "23:33:51\n",
            "23:33:52\n",
            "23:33:53\n",
            "23:33:54\n",
            "23:33:55\n",
            "23:33:56\n",
            "23:33:57\n",
            "23:33:58\n",
            "23:33:59\n",
            "23:34:0\n",
            "23:34:1\n",
            "23:34:2\n",
            "23:34:3\n",
            "23:34:4\n",
            "23:34:5\n",
            "23:34:6\n",
            "23:34:7\n",
            "23:34:8\n",
            "23:34:9\n",
            "23:34:10\n",
            "23:34:11\n",
            "23:34:12\n",
            "23:34:13\n",
            "23:34:14\n",
            "23:34:15\n",
            "23:34:16\n",
            "23:34:17\n",
            "23:34:18\n",
            "23:34:19\n",
            "23:34:20\n",
            "23:34:21\n",
            "23:34:22\n",
            "23:34:23\n",
            "23:34:24\n",
            "23:34:25\n",
            "23:34:26\n",
            "23:34:27\n",
            "23:34:28\n",
            "23:34:29\n",
            "23:34:30\n",
            "23:34:31\n",
            "23:34:32\n",
            "23:34:33\n",
            "23:34:34\n",
            "23:34:35\n",
            "23:34:36\n",
            "23:34:37\n",
            "23:34:38\n",
            "23:34:39\n",
            "23:34:40\n",
            "23:34:41\n",
            "23:34:42\n",
            "23:34:43\n",
            "23:34:44\n",
            "23:34:45\n",
            "23:34:46\n",
            "23:34:47\n",
            "23:34:48\n",
            "23:34:49\n",
            "23:34:50\n",
            "23:34:51\n",
            "23:34:52\n",
            "23:34:53\n",
            "23:34:54\n",
            "23:34:55\n",
            "23:34:56\n",
            "23:34:57\n",
            "23:34:58\n",
            "23:34:59\n",
            "23:35:0\n",
            "23:35:1\n",
            "23:35:2\n",
            "23:35:3\n",
            "23:35:4\n",
            "23:35:5\n",
            "23:35:6\n",
            "23:35:7\n",
            "23:35:8\n",
            "23:35:9\n",
            "23:35:10\n",
            "23:35:11\n",
            "23:35:12\n",
            "23:35:13\n",
            "23:35:14\n",
            "23:35:15\n",
            "23:35:16\n",
            "23:35:17\n",
            "23:35:18\n",
            "23:35:19\n",
            "23:35:20\n",
            "23:35:21\n",
            "23:35:22\n",
            "23:35:23\n",
            "23:35:24\n",
            "23:35:25\n",
            "23:35:26\n",
            "23:35:27\n",
            "23:35:28\n",
            "23:35:29\n",
            "23:35:30\n",
            "23:35:31\n",
            "23:35:32\n",
            "23:35:33\n",
            "23:35:34\n",
            "23:35:35\n",
            "23:35:36\n",
            "23:35:37\n",
            "23:35:38\n",
            "23:35:39\n",
            "23:35:40\n",
            "23:35:41\n",
            "23:35:42\n",
            "23:35:43\n",
            "23:35:44\n",
            "23:35:45\n",
            "23:35:46\n",
            "23:35:47\n",
            "23:35:48\n",
            "23:35:49\n",
            "23:35:50\n",
            "23:35:51\n",
            "23:35:52\n",
            "23:35:53\n",
            "23:35:54\n",
            "23:35:55\n",
            "23:35:56\n",
            "23:35:57\n",
            "23:35:58\n",
            "23:35:59\n",
            "23:36:0\n",
            "23:36:1\n",
            "23:36:2\n",
            "23:36:3\n",
            "23:36:4\n",
            "23:36:5\n",
            "23:36:6\n",
            "23:36:7\n",
            "23:36:8\n",
            "23:36:9\n",
            "23:36:10\n",
            "23:36:11\n",
            "23:36:12\n",
            "23:36:13\n",
            "23:36:14\n",
            "23:36:15\n",
            "23:36:16\n",
            "23:36:17\n",
            "23:36:18\n",
            "23:36:19\n",
            "23:36:20\n",
            "23:36:21\n",
            "23:36:22\n",
            "23:36:23\n",
            "23:36:24\n",
            "23:36:25\n",
            "23:36:26\n",
            "23:36:27\n",
            "23:36:28\n",
            "23:36:29\n",
            "23:36:30\n",
            "23:36:31\n",
            "23:36:32\n",
            "23:36:33\n",
            "23:36:34\n",
            "23:36:35\n",
            "23:36:36\n",
            "23:36:37\n",
            "23:36:38\n",
            "23:36:39\n",
            "23:36:40\n",
            "23:36:41\n",
            "23:36:42\n",
            "23:36:43\n",
            "23:36:44\n",
            "23:36:45\n",
            "23:36:46\n",
            "23:36:47\n",
            "23:36:48\n",
            "23:36:49\n",
            "23:36:50\n",
            "23:36:51\n",
            "23:36:52\n",
            "23:36:53\n",
            "23:36:54\n",
            "23:36:55\n",
            "23:36:56\n",
            "23:36:57\n",
            "23:36:58\n",
            "23:36:59\n",
            "23:37:0\n",
            "23:37:1\n",
            "23:37:2\n",
            "23:37:3\n",
            "23:37:4\n",
            "23:37:5\n",
            "23:37:6\n",
            "23:37:7\n",
            "23:37:8\n",
            "23:37:9\n",
            "23:37:10\n",
            "23:37:11\n",
            "23:37:12\n",
            "23:37:13\n",
            "23:37:14\n",
            "23:37:15\n",
            "23:37:16\n",
            "23:37:17\n",
            "23:37:18\n",
            "23:37:19\n",
            "23:37:20\n",
            "23:37:21\n",
            "23:37:22\n",
            "23:37:23\n",
            "23:37:24\n",
            "23:37:25\n",
            "23:37:26\n",
            "23:37:27\n",
            "23:37:28\n",
            "23:37:29\n",
            "23:37:30\n",
            "23:37:31\n",
            "23:37:32\n",
            "23:37:33\n",
            "23:37:34\n",
            "23:37:35\n",
            "23:37:36\n",
            "23:37:37\n",
            "23:37:38\n",
            "23:37:39\n",
            "23:37:40\n",
            "23:37:41\n",
            "23:37:42\n",
            "23:37:43\n",
            "23:37:44\n",
            "23:37:45\n",
            "23:37:46\n",
            "23:37:47\n",
            "23:37:48\n",
            "23:37:49\n",
            "23:37:50\n",
            "23:37:51\n",
            "23:37:52\n",
            "23:37:53\n",
            "23:37:54\n",
            "23:37:55\n",
            "23:37:56\n",
            "23:37:57\n",
            "23:37:58\n",
            "23:37:59\n",
            "23:38:0\n",
            "23:38:1\n",
            "23:38:2\n",
            "23:38:3\n",
            "23:38:4\n",
            "23:38:5\n",
            "23:38:6\n",
            "23:38:7\n",
            "23:38:8\n",
            "23:38:9\n",
            "23:38:10\n",
            "23:38:11\n",
            "23:38:12\n",
            "23:38:13\n",
            "23:38:14\n",
            "23:38:15\n",
            "23:38:16\n",
            "23:38:17\n",
            "23:38:18\n",
            "23:38:19\n",
            "23:38:20\n",
            "23:38:21\n",
            "23:38:22\n",
            "23:38:23\n",
            "23:38:24\n",
            "23:38:25\n",
            "23:38:26\n",
            "23:38:27\n",
            "23:38:28\n",
            "23:38:29\n",
            "23:38:30\n",
            "23:38:31\n",
            "23:38:32\n",
            "23:38:33\n",
            "23:38:34\n",
            "23:38:35\n",
            "23:38:36\n",
            "23:38:37\n",
            "23:38:38\n",
            "23:38:39\n",
            "23:38:40\n",
            "23:38:41\n",
            "23:38:42\n",
            "23:38:43\n",
            "23:38:44\n",
            "23:38:45\n",
            "23:38:46\n",
            "23:38:47\n",
            "23:38:48\n",
            "23:38:49\n",
            "23:38:50\n",
            "23:38:51\n",
            "23:38:52\n",
            "23:38:53\n",
            "23:38:54\n",
            "23:38:55\n",
            "23:38:56\n",
            "23:38:57\n",
            "23:38:58\n",
            "23:38:59\n",
            "23:39:0\n",
            "23:39:1\n",
            "23:39:2\n",
            "23:39:3\n",
            "23:39:4\n",
            "23:39:5\n",
            "23:39:6\n",
            "23:39:7\n",
            "23:39:8\n",
            "23:39:9\n",
            "23:39:10\n",
            "23:39:11\n",
            "23:39:12\n",
            "23:39:13\n",
            "23:39:14\n",
            "23:39:15\n",
            "23:39:16\n",
            "23:39:17\n",
            "23:39:18\n",
            "23:39:19\n",
            "23:39:20\n",
            "23:39:21\n",
            "23:39:22\n",
            "23:39:23\n",
            "23:39:24\n",
            "23:39:25\n",
            "23:39:26\n",
            "23:39:27\n",
            "23:39:28\n",
            "23:39:29\n",
            "23:39:30\n",
            "23:39:31\n",
            "23:39:32\n",
            "23:39:33\n",
            "23:39:34\n",
            "23:39:35\n",
            "23:39:36\n",
            "23:39:37\n",
            "23:39:38\n",
            "23:39:39\n",
            "23:39:40\n",
            "23:39:41\n",
            "23:39:42\n",
            "23:39:43\n",
            "23:39:44\n",
            "23:39:45\n",
            "23:39:46\n",
            "23:39:47\n",
            "23:39:48\n",
            "23:39:49\n",
            "23:39:50\n",
            "23:39:51\n",
            "23:39:52\n",
            "23:39:53\n",
            "23:39:54\n",
            "23:39:55\n",
            "23:39:56\n",
            "23:39:57\n",
            "23:39:58\n",
            "23:39:59\n",
            "23:40:0\n",
            "23:40:1\n",
            "23:40:2\n",
            "23:40:3\n",
            "23:40:4\n",
            "23:40:5\n",
            "23:40:6\n",
            "23:40:7\n",
            "23:40:8\n",
            "23:40:9\n",
            "23:40:10\n",
            "23:40:11\n",
            "23:40:12\n",
            "23:40:13\n",
            "23:40:14\n",
            "23:40:15\n",
            "23:40:16\n",
            "23:40:17\n",
            "23:40:18\n",
            "23:40:19\n",
            "23:40:20\n",
            "23:40:21\n",
            "23:40:22\n",
            "23:40:23\n",
            "23:40:24\n",
            "23:40:25\n",
            "23:40:26\n",
            "23:40:27\n",
            "23:40:28\n",
            "23:40:29\n",
            "23:40:30\n",
            "23:40:31\n",
            "23:40:32\n",
            "23:40:33\n",
            "23:40:34\n",
            "23:40:35\n",
            "23:40:36\n",
            "23:40:37\n",
            "23:40:38\n",
            "23:40:39\n",
            "23:40:40\n",
            "23:40:41\n",
            "23:40:42\n",
            "23:40:43\n",
            "23:40:44\n",
            "23:40:45\n",
            "23:40:46\n",
            "23:40:47\n",
            "23:40:48\n",
            "23:40:49\n",
            "23:40:50\n",
            "23:40:51\n",
            "23:40:52\n",
            "23:40:53\n",
            "23:40:54\n",
            "23:40:55\n",
            "23:40:56\n",
            "23:40:57\n",
            "23:40:58\n",
            "23:40:59\n",
            "23:41:0\n",
            "23:41:1\n",
            "23:41:2\n",
            "23:41:3\n",
            "23:41:4\n",
            "23:41:5\n",
            "23:41:6\n",
            "23:41:7\n",
            "23:41:8\n",
            "23:41:9\n",
            "23:41:10\n",
            "23:41:11\n",
            "23:41:12\n",
            "23:41:13\n",
            "23:41:14\n",
            "23:41:15\n",
            "23:41:16\n",
            "23:41:17\n",
            "23:41:18\n",
            "23:41:19\n",
            "23:41:20\n",
            "23:41:21\n",
            "23:41:22\n",
            "23:41:23\n",
            "23:41:24\n",
            "23:41:25\n",
            "23:41:26\n",
            "23:41:27\n",
            "23:41:28\n",
            "23:41:29\n",
            "23:41:30\n",
            "23:41:31\n",
            "23:41:32\n",
            "23:41:33\n",
            "23:41:34\n",
            "23:41:35\n",
            "23:41:36\n",
            "23:41:37\n",
            "23:41:38\n",
            "23:41:39\n",
            "23:41:40\n",
            "23:41:41\n",
            "23:41:42\n",
            "23:41:43\n",
            "23:41:44\n",
            "23:41:45\n",
            "23:41:46\n",
            "23:41:47\n",
            "23:41:48\n",
            "23:41:49\n",
            "23:41:50\n",
            "23:41:51\n",
            "23:41:52\n",
            "23:41:53\n",
            "23:41:54\n",
            "23:41:55\n",
            "23:41:56\n",
            "23:41:57\n",
            "23:41:58\n",
            "23:41:59\n",
            "23:42:0\n",
            "23:42:1\n",
            "23:42:2\n",
            "23:42:3\n",
            "23:42:4\n",
            "23:42:5\n",
            "23:42:6\n",
            "23:42:7\n",
            "23:42:8\n",
            "23:42:9\n",
            "23:42:10\n",
            "23:42:11\n",
            "23:42:12\n",
            "23:42:13\n",
            "23:42:14\n",
            "23:42:15\n",
            "23:42:16\n",
            "23:42:17\n",
            "23:42:18\n",
            "23:42:19\n",
            "23:42:20\n",
            "23:42:21\n",
            "23:42:22\n",
            "23:42:23\n",
            "23:42:24\n",
            "23:42:25\n",
            "23:42:26\n",
            "23:42:27\n",
            "23:42:28\n",
            "23:42:29\n",
            "23:42:30\n",
            "23:42:31\n",
            "23:42:32\n",
            "23:42:33\n",
            "23:42:34\n",
            "23:42:35\n",
            "23:42:36\n",
            "23:42:37\n",
            "23:42:38\n",
            "23:42:39\n",
            "23:42:40\n",
            "23:42:41\n",
            "23:42:42\n",
            "23:42:43\n",
            "23:42:44\n",
            "23:42:45\n",
            "23:42:46\n",
            "23:42:47\n",
            "23:42:48\n",
            "23:42:49\n",
            "23:42:50\n",
            "23:42:51\n",
            "23:42:52\n",
            "23:42:53\n",
            "23:42:54\n",
            "23:42:55\n",
            "23:42:56\n",
            "23:42:57\n",
            "23:42:58\n",
            "23:42:59\n",
            "23:43:0\n",
            "23:43:1\n",
            "23:43:2\n",
            "23:43:3\n",
            "23:43:4\n",
            "23:43:5\n",
            "23:43:6\n",
            "23:43:7\n",
            "23:43:8\n",
            "23:43:9\n",
            "23:43:10\n",
            "23:43:11\n",
            "23:43:12\n",
            "23:43:13\n",
            "23:43:14\n",
            "23:43:15\n",
            "23:43:16\n",
            "23:43:17\n",
            "23:43:18\n",
            "23:43:19\n",
            "23:43:20\n",
            "23:43:21\n",
            "23:43:22\n",
            "23:43:23\n",
            "23:43:24\n",
            "23:43:25\n",
            "23:43:26\n",
            "23:43:27\n",
            "23:43:28\n",
            "23:43:29\n",
            "23:43:30\n",
            "23:43:31\n",
            "23:43:32\n",
            "23:43:33\n",
            "23:43:34\n",
            "23:43:35\n",
            "23:43:36\n",
            "23:43:37\n",
            "23:43:38\n",
            "23:43:39\n",
            "23:43:40\n",
            "23:43:41\n",
            "23:43:42\n",
            "23:43:43\n",
            "23:43:44\n",
            "23:43:45\n",
            "23:43:46\n",
            "23:43:47\n",
            "23:43:48\n",
            "23:43:49\n",
            "23:43:50\n",
            "23:43:51\n",
            "23:43:52\n",
            "23:43:53\n",
            "23:43:54\n",
            "23:43:55\n",
            "23:43:56\n",
            "23:43:57\n",
            "23:43:58\n",
            "23:43:59\n",
            "23:44:0\n",
            "23:44:1\n",
            "23:44:2\n",
            "23:44:3\n",
            "23:44:4\n",
            "23:44:5\n",
            "23:44:6\n",
            "23:44:7\n",
            "23:44:8\n",
            "23:44:9\n",
            "23:44:10\n",
            "23:44:11\n",
            "23:44:12\n",
            "23:44:13\n",
            "23:44:14\n",
            "23:44:15\n",
            "23:44:16\n",
            "23:44:17\n",
            "23:44:18\n",
            "23:44:19\n",
            "23:44:20\n",
            "23:44:21\n",
            "23:44:22\n",
            "23:44:23\n",
            "23:44:24\n",
            "23:44:25\n",
            "23:44:26\n",
            "23:44:27\n",
            "23:44:28\n",
            "23:44:29\n",
            "23:44:30\n",
            "23:44:31\n",
            "23:44:32\n",
            "23:44:33\n",
            "23:44:34\n",
            "23:44:35\n",
            "23:44:36\n",
            "23:44:37\n",
            "23:44:38\n",
            "23:44:39\n",
            "23:44:40\n",
            "23:44:41\n",
            "23:44:42\n",
            "23:44:43\n",
            "23:44:44\n",
            "23:44:45\n",
            "23:44:46\n",
            "23:44:47\n",
            "23:44:48\n",
            "23:44:49\n",
            "23:44:50\n",
            "23:44:51\n",
            "23:44:52\n",
            "23:44:53\n",
            "23:44:54\n",
            "23:44:55\n",
            "23:44:56\n",
            "23:44:57\n",
            "23:44:58\n",
            "23:44:59\n",
            "23:45:0\n",
            "23:45:1\n",
            "23:45:2\n",
            "23:45:3\n",
            "23:45:4\n",
            "23:45:5\n",
            "23:45:6\n",
            "23:45:7\n",
            "23:45:8\n",
            "23:45:9\n",
            "23:45:10\n",
            "23:45:11\n",
            "23:45:12\n",
            "23:45:13\n",
            "23:45:14\n",
            "23:45:15\n",
            "23:45:16\n",
            "23:45:17\n",
            "23:45:18\n",
            "23:45:19\n",
            "23:45:20\n",
            "23:45:21\n",
            "23:45:22\n",
            "23:45:23\n",
            "23:45:24\n",
            "23:45:25\n",
            "23:45:26\n",
            "23:45:27\n",
            "23:45:28\n",
            "23:45:29\n",
            "23:45:30\n",
            "23:45:31\n",
            "23:45:32\n",
            "23:45:33\n",
            "23:45:34\n",
            "23:45:35\n",
            "23:45:36\n",
            "23:45:37\n",
            "23:45:38\n",
            "23:45:39\n",
            "23:45:40\n",
            "23:45:41\n",
            "23:45:42\n",
            "23:45:43\n",
            "23:45:44\n",
            "23:45:45\n",
            "23:45:46\n",
            "23:45:47\n",
            "23:45:48\n",
            "23:45:49\n",
            "23:45:50\n",
            "23:45:51\n",
            "23:45:52\n",
            "23:45:53\n",
            "23:45:54\n",
            "23:45:55\n",
            "23:45:56\n",
            "23:45:57\n",
            "23:45:58\n",
            "23:45:59\n",
            "23:46:0\n",
            "23:46:1\n",
            "23:46:2\n",
            "23:46:3\n",
            "23:46:4\n",
            "23:46:5\n",
            "23:46:6\n",
            "23:46:7\n",
            "23:46:8\n",
            "23:46:9\n",
            "23:46:10\n",
            "23:46:11\n",
            "23:46:12\n",
            "23:46:13\n",
            "23:46:14\n",
            "23:46:15\n",
            "23:46:16\n",
            "23:46:17\n",
            "23:46:18\n",
            "23:46:19\n",
            "23:46:20\n",
            "23:46:21\n",
            "23:46:22\n",
            "23:46:23\n",
            "23:46:24\n",
            "23:46:25\n",
            "23:46:26\n",
            "23:46:27\n",
            "23:46:28\n",
            "23:46:29\n",
            "23:46:30\n",
            "23:46:31\n",
            "23:46:32\n",
            "23:46:33\n",
            "23:46:34\n",
            "23:46:35\n",
            "23:46:36\n",
            "23:46:37\n",
            "23:46:38\n",
            "23:46:39\n",
            "23:46:40\n",
            "23:46:41\n",
            "23:46:42\n",
            "23:46:43\n",
            "23:46:44\n",
            "23:46:45\n",
            "23:46:46\n",
            "23:46:47\n",
            "23:46:48\n",
            "23:46:49\n",
            "23:46:50\n",
            "23:46:51\n",
            "23:46:52\n",
            "23:46:53\n",
            "23:46:54\n",
            "23:46:55\n",
            "23:46:56\n",
            "23:46:57\n",
            "23:46:58\n",
            "23:46:59\n",
            "23:47:0\n",
            "23:47:1\n",
            "23:47:2\n",
            "23:47:3\n",
            "23:47:4\n",
            "23:47:5\n",
            "23:47:6\n",
            "23:47:7\n",
            "23:47:8\n",
            "23:47:9\n",
            "23:47:10\n",
            "23:47:11\n",
            "23:47:12\n",
            "23:47:13\n",
            "23:47:14\n",
            "23:47:15\n",
            "23:47:16\n",
            "23:47:17\n",
            "23:47:18\n",
            "23:47:19\n",
            "23:47:20\n",
            "23:47:21\n",
            "23:47:22\n",
            "23:47:23\n",
            "23:47:24\n",
            "23:47:25\n",
            "23:47:26\n",
            "23:47:27\n",
            "23:47:28\n",
            "23:47:29\n",
            "23:47:30\n",
            "23:47:31\n",
            "23:47:32\n",
            "23:47:33\n",
            "23:47:34\n",
            "23:47:35\n",
            "23:47:36\n",
            "23:47:37\n",
            "23:47:38\n",
            "23:47:39\n",
            "23:47:40\n",
            "23:47:41\n",
            "23:47:42\n",
            "23:47:43\n",
            "23:47:44\n",
            "23:47:45\n",
            "23:47:46\n",
            "23:47:47\n",
            "23:47:48\n",
            "23:47:49\n",
            "23:47:50\n",
            "23:47:51\n",
            "23:47:52\n",
            "23:47:53\n",
            "23:47:54\n",
            "23:47:55\n",
            "23:47:56\n",
            "23:47:57\n",
            "23:47:58\n",
            "23:47:59\n",
            "23:48:0\n",
            "23:48:1\n",
            "23:48:2\n",
            "23:48:3\n",
            "23:48:4\n",
            "23:48:5\n",
            "23:48:6\n",
            "23:48:7\n",
            "23:48:8\n",
            "23:48:9\n",
            "23:48:10\n",
            "23:48:11\n",
            "23:48:12\n",
            "23:48:13\n",
            "23:48:14\n",
            "23:48:15\n",
            "23:48:16\n",
            "23:48:17\n",
            "23:48:18\n",
            "23:48:19\n",
            "23:48:20\n",
            "23:48:21\n",
            "23:48:22\n",
            "23:48:23\n",
            "23:48:24\n",
            "23:48:25\n",
            "23:48:26\n",
            "23:48:27\n",
            "23:48:28\n",
            "23:48:29\n",
            "23:48:30\n",
            "23:48:31\n",
            "23:48:32\n",
            "23:48:33\n",
            "23:48:34\n",
            "23:48:35\n",
            "23:48:36\n",
            "23:48:37\n",
            "23:48:38\n",
            "23:48:39\n",
            "23:48:40\n",
            "23:48:41\n",
            "23:48:42\n",
            "23:48:43\n",
            "23:48:44\n",
            "23:48:45\n",
            "23:48:46\n",
            "23:48:47\n",
            "23:48:48\n",
            "23:48:49\n",
            "23:48:50\n",
            "23:48:51\n",
            "23:48:52\n",
            "23:48:53\n",
            "23:48:54\n",
            "23:48:55\n",
            "23:48:56\n",
            "23:48:57\n",
            "23:48:58\n",
            "23:48:59\n",
            "23:49:0\n",
            "23:49:1\n",
            "23:49:2\n",
            "23:49:3\n",
            "23:49:4\n",
            "23:49:5\n",
            "23:49:6\n",
            "23:49:7\n",
            "23:49:8\n",
            "23:49:9\n",
            "23:49:10\n",
            "23:49:11\n",
            "23:49:12\n",
            "23:49:13\n",
            "23:49:14\n",
            "23:49:15\n",
            "23:49:16\n",
            "23:49:17\n",
            "23:49:18\n",
            "23:49:19\n",
            "23:49:20\n",
            "23:49:21\n",
            "23:49:22\n",
            "23:49:23\n",
            "23:49:24\n",
            "23:49:25\n",
            "23:49:26\n",
            "23:49:27\n",
            "23:49:28\n",
            "23:49:29\n",
            "23:49:30\n",
            "23:49:31\n",
            "23:49:32\n",
            "23:49:33\n",
            "23:49:34\n",
            "23:49:35\n",
            "23:49:36\n",
            "23:49:37\n",
            "23:49:38\n",
            "23:49:39\n",
            "23:49:40\n",
            "23:49:41\n",
            "23:49:42\n",
            "23:49:43\n",
            "23:49:44\n",
            "23:49:45\n",
            "23:49:46\n",
            "23:49:47\n",
            "23:49:48\n",
            "23:49:49\n",
            "23:49:50\n",
            "23:49:51\n",
            "23:49:52\n",
            "23:49:53\n",
            "23:49:54\n",
            "23:49:55\n",
            "23:49:56\n",
            "23:49:57\n",
            "23:49:58\n",
            "23:49:59\n",
            "23:50:0\n",
            "23:50:1\n",
            "23:50:2\n",
            "23:50:3\n",
            "23:50:4\n",
            "23:50:5\n",
            "23:50:6\n",
            "23:50:7\n",
            "23:50:8\n",
            "23:50:9\n",
            "23:50:10\n",
            "23:50:11\n",
            "23:50:12\n",
            "23:50:13\n",
            "23:50:14\n",
            "23:50:15\n",
            "23:50:16\n",
            "23:50:17\n",
            "23:50:18\n",
            "23:50:19\n",
            "23:50:20\n",
            "23:50:21\n",
            "23:50:22\n",
            "23:50:23\n",
            "23:50:24\n",
            "23:50:25\n",
            "23:50:26\n",
            "23:50:27\n",
            "23:50:28\n",
            "23:50:29\n",
            "23:50:30\n",
            "23:50:31\n",
            "23:50:32\n",
            "23:50:33\n",
            "23:50:34\n",
            "23:50:35\n",
            "23:50:36\n",
            "23:50:37\n",
            "23:50:38\n",
            "23:50:39\n",
            "23:50:40\n",
            "23:50:41\n",
            "23:50:42\n",
            "23:50:43\n",
            "23:50:44\n",
            "23:50:45\n",
            "23:50:46\n",
            "23:50:47\n",
            "23:50:48\n",
            "23:50:49\n",
            "23:50:50\n",
            "23:50:51\n",
            "23:50:52\n",
            "23:50:53\n",
            "23:50:54\n",
            "23:50:55\n",
            "23:50:56\n",
            "23:50:57\n",
            "23:50:58\n",
            "23:50:59\n",
            "23:51:0\n",
            "23:51:1\n",
            "23:51:2\n",
            "23:51:3\n",
            "23:51:4\n",
            "23:51:5\n",
            "23:51:6\n",
            "23:51:7\n",
            "23:51:8\n",
            "23:51:9\n",
            "23:51:10\n",
            "23:51:11\n",
            "23:51:12\n",
            "23:51:13\n",
            "23:51:14\n",
            "23:51:15\n",
            "23:51:16\n",
            "23:51:17\n",
            "23:51:18\n",
            "23:51:19\n",
            "23:51:20\n",
            "23:51:21\n",
            "23:51:22\n",
            "23:51:23\n",
            "23:51:24\n",
            "23:51:25\n",
            "23:51:26\n",
            "23:51:27\n",
            "23:51:28\n",
            "23:51:29\n",
            "23:51:30\n",
            "23:51:31\n",
            "23:51:32\n",
            "23:51:33\n",
            "23:51:34\n",
            "23:51:35\n",
            "23:51:36\n",
            "23:51:37\n",
            "23:51:38\n",
            "23:51:39\n",
            "23:51:40\n",
            "23:51:41\n",
            "23:51:42\n",
            "23:51:43\n",
            "23:51:44\n",
            "23:51:45\n",
            "23:51:46\n",
            "23:51:47\n",
            "23:51:48\n",
            "23:51:49\n",
            "23:51:50\n",
            "23:51:51\n",
            "23:51:52\n",
            "23:51:53\n",
            "23:51:54\n",
            "23:51:55\n",
            "23:51:56\n",
            "23:51:57\n",
            "23:51:58\n",
            "23:51:59\n",
            "23:52:0\n",
            "23:52:1\n",
            "23:52:2\n",
            "23:52:3\n",
            "23:52:4\n",
            "23:52:5\n",
            "23:52:6\n",
            "23:52:7\n",
            "23:52:8\n",
            "23:52:9\n",
            "23:52:10\n",
            "23:52:11\n",
            "23:52:12\n",
            "23:52:13\n",
            "23:52:14\n",
            "23:52:15\n",
            "23:52:16\n",
            "23:52:17\n",
            "23:52:18\n",
            "23:52:19\n",
            "23:52:20\n",
            "23:52:21\n",
            "23:52:22\n",
            "23:52:23\n",
            "23:52:24\n",
            "23:52:25\n",
            "23:52:26\n",
            "23:52:27\n",
            "23:52:28\n",
            "23:52:29\n",
            "23:52:30\n",
            "23:52:31\n",
            "23:52:32\n",
            "23:52:33\n",
            "23:52:34\n",
            "23:52:35\n",
            "23:52:36\n",
            "23:52:37\n",
            "23:52:38\n",
            "23:52:39\n",
            "23:52:40\n",
            "23:52:41\n",
            "23:52:42\n",
            "23:52:43\n",
            "23:52:44\n",
            "23:52:45\n",
            "23:52:46\n",
            "23:52:47\n",
            "23:52:48\n",
            "23:52:49\n",
            "23:52:50\n",
            "23:52:51\n",
            "23:52:52\n",
            "23:52:53\n",
            "23:52:54\n",
            "23:52:55\n",
            "23:52:56\n",
            "23:52:57\n",
            "23:52:58\n",
            "23:52:59\n",
            "23:53:0\n",
            "23:53:1\n",
            "23:53:2\n",
            "23:53:3\n",
            "23:53:4\n",
            "23:53:5\n",
            "23:53:6\n",
            "23:53:7\n",
            "23:53:8\n",
            "23:53:9\n",
            "23:53:10\n",
            "23:53:11\n",
            "23:53:12\n",
            "23:53:13\n",
            "23:53:14\n",
            "23:53:15\n",
            "23:53:16\n",
            "23:53:17\n",
            "23:53:18\n",
            "23:53:19\n",
            "23:53:20\n",
            "23:53:21\n",
            "23:53:22\n",
            "23:53:23\n",
            "23:53:24\n",
            "23:53:25\n",
            "23:53:26\n",
            "23:53:27\n",
            "23:53:28\n",
            "23:53:29\n",
            "23:53:30\n",
            "23:53:31\n",
            "23:53:32\n",
            "23:53:33\n",
            "23:53:34\n",
            "23:53:35\n",
            "23:53:36\n",
            "23:53:37\n",
            "23:53:38\n",
            "23:53:39\n",
            "23:53:40\n",
            "23:53:41\n",
            "23:53:42\n",
            "23:53:43\n",
            "23:53:44\n",
            "23:53:45\n",
            "23:53:46\n",
            "23:53:47\n",
            "23:53:48\n",
            "23:53:49\n",
            "23:53:50\n",
            "23:53:51\n",
            "23:53:52\n",
            "23:53:53\n",
            "23:53:54\n",
            "23:53:55\n",
            "23:53:56\n",
            "23:53:57\n",
            "23:53:58\n",
            "23:53:59\n",
            "23:54:0\n",
            "23:54:1\n",
            "23:54:2\n",
            "23:54:3\n",
            "23:54:4\n",
            "23:54:5\n",
            "23:54:6\n",
            "23:54:7\n",
            "23:54:8\n",
            "23:54:9\n",
            "23:54:10\n",
            "23:54:11\n",
            "23:54:12\n",
            "23:54:13\n",
            "23:54:14\n",
            "23:54:15\n",
            "23:54:16\n",
            "23:54:17\n",
            "23:54:18\n",
            "23:54:19\n",
            "23:54:20\n",
            "23:54:21\n",
            "23:54:22\n",
            "23:54:23\n",
            "23:54:24\n",
            "23:54:25\n",
            "23:54:26\n",
            "23:54:27\n",
            "23:54:28\n",
            "23:54:29\n",
            "23:54:30\n",
            "23:54:31\n",
            "23:54:32\n",
            "23:54:33\n",
            "23:54:34\n",
            "23:54:35\n",
            "23:54:36\n",
            "23:54:37\n",
            "23:54:38\n",
            "23:54:39\n",
            "23:54:40\n",
            "23:54:41\n",
            "23:54:42\n",
            "23:54:43\n",
            "23:54:44\n",
            "23:54:45\n",
            "23:54:46\n",
            "23:54:47\n",
            "23:54:48\n",
            "23:54:49\n",
            "23:54:50\n",
            "23:54:51\n",
            "23:54:52\n",
            "23:54:53\n",
            "23:54:54\n",
            "23:54:55\n",
            "23:54:56\n",
            "23:54:57\n",
            "23:54:58\n",
            "23:54:59\n",
            "23:55:0\n",
            "23:55:1\n",
            "23:55:2\n",
            "23:55:3\n",
            "23:55:4\n",
            "23:55:5\n",
            "23:55:6\n",
            "23:55:7\n",
            "23:55:8\n",
            "23:55:9\n",
            "23:55:10\n",
            "23:55:11\n",
            "23:55:12\n",
            "23:55:13\n",
            "23:55:14\n",
            "23:55:15\n",
            "23:55:16\n",
            "23:55:17\n",
            "23:55:18\n",
            "23:55:19\n",
            "23:55:20\n",
            "23:55:21\n",
            "23:55:22\n",
            "23:55:23\n",
            "23:55:24\n",
            "23:55:25\n",
            "23:55:26\n",
            "23:55:27\n",
            "23:55:28\n",
            "23:55:29\n",
            "23:55:30\n",
            "23:55:31\n",
            "23:55:32\n",
            "23:55:33\n",
            "23:55:34\n",
            "23:55:35\n",
            "23:55:36\n",
            "23:55:37\n",
            "23:55:38\n",
            "23:55:39\n",
            "23:55:40\n",
            "23:55:41\n",
            "23:55:42\n",
            "23:55:43\n",
            "23:55:44\n",
            "23:55:45\n",
            "23:55:46\n",
            "23:55:47\n",
            "23:55:48\n",
            "23:55:49\n",
            "23:55:50\n",
            "23:55:51\n",
            "23:55:52\n",
            "23:55:53\n",
            "23:55:54\n",
            "23:55:55\n",
            "23:55:56\n",
            "23:55:57\n",
            "23:55:58\n",
            "23:55:59\n",
            "23:56:0\n",
            "23:56:1\n",
            "23:56:2\n",
            "23:56:3\n",
            "23:56:4\n",
            "23:56:5\n",
            "23:56:6\n",
            "23:56:7\n",
            "23:56:8\n",
            "23:56:9\n",
            "23:56:10\n",
            "23:56:11\n",
            "23:56:12\n",
            "23:56:13\n",
            "23:56:14\n",
            "23:56:15\n",
            "23:56:16\n",
            "23:56:17\n",
            "23:56:18\n",
            "23:56:19\n",
            "23:56:20\n",
            "23:56:21\n",
            "23:56:22\n",
            "23:56:23\n",
            "23:56:24\n",
            "23:56:25\n",
            "23:56:26\n",
            "23:56:27\n",
            "23:56:28\n",
            "23:56:29\n",
            "23:56:30\n",
            "23:56:31\n",
            "23:56:32\n",
            "23:56:33\n",
            "23:56:34\n",
            "23:56:35\n",
            "23:56:36\n",
            "23:56:37\n",
            "23:56:38\n",
            "23:56:39\n",
            "23:56:40\n",
            "23:56:41\n",
            "23:56:42\n",
            "23:56:43\n",
            "23:56:44\n",
            "23:56:45\n",
            "23:56:46\n",
            "23:56:47\n",
            "23:56:48\n",
            "23:56:49\n",
            "23:56:50\n",
            "23:56:51\n",
            "23:56:52\n",
            "23:56:53\n",
            "23:56:54\n",
            "23:56:55\n",
            "23:56:56\n",
            "23:56:57\n",
            "23:56:58\n",
            "23:56:59\n",
            "23:57:0\n",
            "23:57:1\n",
            "23:57:2\n",
            "23:57:3\n",
            "23:57:4\n",
            "23:57:5\n",
            "23:57:6\n",
            "23:57:7\n",
            "23:57:8\n",
            "23:57:9\n",
            "23:57:10\n",
            "23:57:11\n",
            "23:57:12\n",
            "23:57:13\n",
            "23:57:14\n",
            "23:57:15\n",
            "23:57:16\n",
            "23:57:17\n",
            "23:57:18\n",
            "23:57:19\n",
            "23:57:20\n",
            "23:57:21\n",
            "23:57:22\n",
            "23:57:23\n",
            "23:57:24\n",
            "23:57:25\n",
            "23:57:26\n",
            "23:57:27\n",
            "23:57:28\n",
            "23:57:29\n",
            "23:57:30\n",
            "23:57:31\n",
            "23:57:32\n",
            "23:57:33\n",
            "23:57:34\n",
            "23:57:35\n",
            "23:57:36\n",
            "23:57:37\n",
            "23:57:38\n",
            "23:57:39\n",
            "23:57:40\n",
            "23:57:41\n",
            "23:57:42\n",
            "23:57:43\n",
            "23:57:44\n",
            "23:57:45\n",
            "23:57:46\n",
            "23:57:47\n",
            "23:57:48\n",
            "23:57:49\n",
            "23:57:50\n",
            "23:57:51\n",
            "23:57:52\n",
            "23:57:53\n",
            "23:57:54\n",
            "23:57:55\n",
            "23:57:56\n",
            "23:57:57\n",
            "23:57:58\n",
            "23:57:59\n",
            "23:58:0\n",
            "23:58:1\n",
            "23:58:2\n",
            "23:58:3\n",
            "23:58:4\n",
            "23:58:5\n",
            "23:58:6\n",
            "23:58:7\n",
            "23:58:8\n",
            "23:58:9\n",
            "23:58:10\n",
            "23:58:11\n",
            "23:58:12\n",
            "23:58:13\n",
            "23:58:14\n",
            "23:58:15\n",
            "23:58:16\n",
            "23:58:17\n",
            "23:58:18\n",
            "23:58:19\n",
            "23:58:20\n",
            "23:58:21\n",
            "23:58:22\n",
            "23:58:23\n",
            "23:58:24\n",
            "23:58:25\n",
            "23:58:26\n",
            "23:58:27\n",
            "23:58:28\n",
            "23:58:29\n",
            "23:58:30\n",
            "23:58:31\n",
            "23:58:32\n",
            "23:58:33\n",
            "23:58:34\n",
            "23:58:35\n",
            "23:58:36\n",
            "23:58:37\n",
            "23:58:38\n",
            "23:58:39\n",
            "23:58:40\n",
            "23:58:41\n",
            "23:58:42\n",
            "23:58:43\n",
            "23:58:44\n",
            "23:58:45\n",
            "23:58:46\n",
            "23:58:47\n",
            "23:58:48\n",
            "23:58:49\n",
            "23:58:50\n",
            "23:58:51\n",
            "23:58:52\n",
            "23:58:53\n",
            "23:58:54\n",
            "23:58:55\n",
            "23:58:56\n",
            "23:58:57\n",
            "23:58:58\n",
            "23:58:59\n",
            "23:59:0\n",
            "23:59:1\n",
            "23:59:2\n",
            "23:59:3\n",
            "23:59:4\n",
            "23:59:5\n",
            "23:59:6\n",
            "23:59:7\n",
            "23:59:8\n",
            "23:59:9\n",
            "23:59:10\n",
            "23:59:11\n",
            "23:59:12\n",
            "23:59:13\n",
            "23:59:14\n",
            "23:59:15\n",
            "23:59:16\n",
            "23:59:17\n",
            "23:59:18\n",
            "23:59:19\n",
            "23:59:20\n",
            "23:59:21\n",
            "23:59:22\n",
            "23:59:23\n",
            "23:59:24\n",
            "23:59:25\n",
            "23:59:26\n",
            "23:59:27\n",
            "23:59:28\n",
            "23:59:29\n",
            "23:59:30\n",
            "23:59:31\n",
            "23:59:32\n",
            "23:59:33\n",
            "23:59:34\n",
            "23:59:35\n",
            "23:59:36\n",
            "23:59:37\n",
            "23:59:38\n",
            "23:59:39\n",
            "23:59:40\n",
            "23:59:41\n",
            "23:59:42\n",
            "23:59:43\n",
            "23:59:44\n",
            "23:59:45\n",
            "23:59:46\n",
            "23:59:47\n",
            "23:59:48\n",
            "23:59:49\n",
            "23:59:50\n",
            "23:59:51\n",
            "23:59:52\n",
            "23:59:53\n",
            "23:59:54\n",
            "23:59:55\n",
            "23:59:56\n",
            "23:59:57\n",
            "23:59:58\n",
            "23:59:59\n"
          ],
          "name": "stdout"
        }
      ]
    },
    {
      "cell_type": "markdown",
      "metadata": {
        "id": "FGJo5cbUwo2a"
      },
      "source": [
        "4.\tLeer 20 números e imprimir cuantos son  positivos, cuantos negativos y cuantos neutros."
      ]
    },
    {
      "cell_type": "code",
      "metadata": {
        "colab": {
          "base_uri": "https://localhost:8080/"
        },
        "id": "OZ7bKh5nwujB",
        "outputId": "1a07ba14-1049-4f96-acff-8425111da1e1"
      },
      "source": [
        "i = 0\n",
        "positivos = 0\n",
        "negativos = 0\n",
        "neutros = 0\n",
        "while i < 3:\n",
        "  n = float(input(\"Ingrese un numero\"))\n",
        "  if n > 0:\n",
        "    positivos += 1 #positivos = positivos + 1\n",
        "  elif n==0:\n",
        "    neutros += 1\n",
        "  else:\n",
        "    negativos += 1\n",
        "  i = i + 1\n",
        "print(\"positivos: \"+str(positivos))\n",
        "print(\"negativos: \"+str(negativos))\n",
        "print(\"neutros: \"+str(neutros))"
      ],
      "execution_count": null,
      "outputs": [
        {
          "output_type": "stream",
          "text": [
            "Ingrese un numero5\n",
            "Ingrese un numero7\n",
            "Ingrese un numero2\n",
            "positivos: 3\n",
            "negativos: 0\n",
            "neutros: 0\n"
          ],
          "name": "stdout"
        }
      ]
    },
    {
      "cell_type": "markdown",
      "metadata": {
        "id": "65k7eGnjwu3h"
      },
      "source": [
        "6.\tSuponga que se tiene un conjunto de calificaciones de un grupo de 40 alumnos. Realizar un algoritmo para calcular la calificación media y la calificación más baja de todo el grupo."
      ]
    },
    {
      "cell_type": "code",
      "metadata": {
        "colab": {
          "base_uri": "https://localhost:8080/"
        },
        "id": "_yjs5Elcw3rL",
        "outputId": "c3a74324-0180-4301-de42-f30f6374d593"
      },
      "source": [
        "i = 0\n",
        "baja = 7\n",
        "suma = 0\n",
        "while i<3:\n",
        "  nota = float(input(\"Ingrese nota \"+str((i+1))+\": \"))\n",
        "  suma += nota # suma = suma + nota\n",
        "  if nota<baja:\n",
        "    baja = nota\n",
        "  i+=1  #i = i + 1\n",
        "promedio = suma / 3\n",
        "print(\"promedio: \"+str(promedio))\n",
        "print(\"nota mas baja: \"+str(baja))"
      ],
      "execution_count": null,
      "outputs": [
        {
          "output_type": "stream",
          "text": [
            "Ingrese nota 1: 4.2\n",
            "Ingrese nota 2: 3.5\n",
            "Ingrese nota 3: 6\n",
            "promedio: 4.566666666666666\n",
            "nota mas baja: 3.5\n"
          ],
          "name": "stdout"
        }
      ]
    },
    {
      "cell_type": "markdown",
      "metadata": {
        "id": "NZU7hCPTw37K"
      },
      "source": [
        "11.\tEscriba un programa que pida al usuario dos números enteros, y luego entregue la suma de todos los números que están entre ellos. Por ejemplo, si los números son 1 y 7, debe entregar como resultado 2 + 3 + 4 + 5 + 6 = 20."
      ]
    },
    {
      "cell_type": "code",
      "metadata": {
        "colab": {
          "base_uri": "https://localhost:8080/"
        },
        "id": "mpbC-hfBw7DB",
        "outputId": "97fe53a7-dfdf-442d-f6e5-588e9be2f270"
      },
      "source": [
        "n1 = int(input(\"Ingrese un valor \"))\n",
        "n2 = int(input(\"Ingrese otro valor\"))\n",
        "suma = 0\n",
        "\n",
        "if n1 < n2 :\n",
        "  i = n1 + 1 \n",
        "  f = n2\n",
        "elif n2 < n1:\n",
        "  i = n2 + 1\n",
        "  f = n1\n",
        "while i < f :\n",
        "  suma += i\n",
        "  i += 1\n",
        "print(suma)\n"
      ],
      "execution_count": null,
      "outputs": [
        {
          "output_type": "stream",
          "text": [
            "Ingrese un valor 7\n",
            "Ingrese otro valor7\n",
            "0\n"
          ],
          "name": "stdout"
        }
      ]
    },
    {
      "cell_type": "markdown",
      "metadata": {
        "id": "hxbaQGZr3cFj"
      },
      "source": [
        "# for"
      ]
    },
    {
      "cell_type": "code",
      "metadata": {
        "colab": {
          "base_uri": "https://localhost:8080/"
        },
        "id": "JIhIQ7Tm3j0u",
        "outputId": "7aec3e40-ed92-4159-ce83-74060b80b7fb"
      },
      "source": [
        "for numeros in range(6):\n",
        "  print(numeros)"
      ],
      "execution_count": null,
      "outputs": [
        {
          "output_type": "stream",
          "text": [
            "0\n",
            "1\n",
            "2\n",
            "3\n",
            "4\n",
            "5\n"
          ],
          "name": "stdout"
        }
      ]
    },
    {
      "cell_type": "code",
      "metadata": {
        "colab": {
          "base_uri": "https://localhost:8080/"
        },
        "id": "dDAzh1NN4inV",
        "outputId": "52b280ef-9487-4f94-84e1-2fcc2aa2b5a5"
      },
      "source": [
        "i = 0\n",
        "positivos = 0\n",
        "negativos = 0\n",
        "neutros = 0\n",
        "for i in range(3): #while i < 3:\n",
        "  n = float(input(\"Ingrese un numero\"))\n",
        "  if n > 0:\n",
        "    positivos += 1 #positivos = positivos + 1\n",
        "  elif n==0:\n",
        "    neutros += 1\n",
        "  else:\n",
        "    negativos += 1\n",
        "  #i = i + 1\n",
        "print(\"positivos: \"+str(positivos))\n",
        "print(\"negativos: \"+str(negativos))\n",
        "print(\"neutros: \"+str(neutros))"
      ],
      "execution_count": null,
      "outputs": [
        {
          "output_type": "stream",
          "text": [
            "Ingrese un numero5\n",
            "Ingrese un numero-7\n",
            "Ingrese un numero55\n",
            "positivos: 2\n",
            "negativos: 1\n",
            "neutros: 0\n"
          ],
          "name": "stdout"
        }
      ]
    },
    {
      "cell_type": "code",
      "metadata": {
        "colab": {
          "base_uri": "https://localhost:8080/"
        },
        "id": "w3B3Wmg25CQH",
        "outputId": "966683a8-2c2d-40fd-e552-2af476fd120b"
      },
      "source": [
        "op = \"s\"\n",
        "while op==\"s\":\n",
        "  print(\"hola\")\n",
        "  op = input(\"Desea continuar: (s/n) \")\n",
        "print(\"chao\")"
      ],
      "execution_count": null,
      "outputs": [
        {
          "output_type": "stream",
          "text": [
            "hola\n",
            "Desea continuar: (s/n) s\n",
            "hola\n",
            "Desea continuar: (s/n) s\n",
            "hola\n",
            "Desea continuar: (s/n) s\n",
            "hola\n",
            "Desea continuar: (s/n) n\n",
            "chao\n"
          ],
          "name": "stdout"
        }
      ]
    },
    {
      "cell_type": "code",
      "metadata": {
        "colab": {
          "base_uri": "https://localhost:8080/"
        },
        "id": "RS-XKqgN502i",
        "outputId": "e7a3dafd-2b41-4a7d-dd83-6a32bb14387f"
      },
      "source": [
        "for i in range(3,10):\n",
        "  print(i)"
      ],
      "execution_count": null,
      "outputs": [
        {
          "output_type": "stream",
          "text": [
            "3\n",
            "4\n",
            "5\n",
            "6\n",
            "7\n",
            "8\n",
            "9\n"
          ],
          "name": "stdout"
        }
      ]
    },
    {
      "cell_type": "code",
      "metadata": {
        "colab": {
          "base_uri": "https://localhost:8080/"
        },
        "id": "Nx0CC7p26Mkp",
        "outputId": "e134936e-8728-4649-cf1f-d6148d4572e1"
      },
      "source": [
        "n1 = int(input(\"Ingrese un valor \"))\n",
        "n2 = int(input(\"Ingrese otro valor\"))\n",
        "suma = 0\n",
        "\n",
        "if n1 < n2 :\n",
        "  i = n1 + 1 \n",
        "  f = n2\n",
        "elif n2 < n1:\n",
        "  i = n2 + 1\n",
        "  f = n1\n",
        "for x in range(i,f):\n",
        "  suma += x\n",
        "  \n",
        "print(suma)"
      ],
      "execution_count": null,
      "outputs": [
        {
          "output_type": "stream",
          "text": [
            "Ingrese un valor 7\n",
            "Ingrese otro valor1\n",
            "20\n"
          ],
          "name": "stdout"
        }
      ]
    },
    {
      "cell_type": "code",
      "metadata": {
        "colab": {
          "base_uri": "https://localhost:8080/"
        },
        "id": "fpsuxEOP6fWa",
        "outputId": "68fcf1d3-a60f-44e7-b65c-a9eb958ccd08"
      },
      "source": [
        "for i in range(1,10,5):\n",
        "  print(i)"
      ],
      "execution_count": null,
      "outputs": [
        {
          "output_type": "stream",
          "text": [
            "1\n",
            "6\n"
          ],
          "name": "stdout"
        }
      ]
    },
    {
      "cell_type": "code",
      "metadata": {
        "colab": {
          "base_uri": "https://localhost:8080/"
        },
        "id": "trgmqMhv6pnZ",
        "outputId": "2ab06fce-dd5a-43f2-d1fa-c7e067c89457"
      },
      "source": [
        "i = 1\n",
        "while i < 10:\n",
        "  print(i)\n",
        "  i += 2"
      ],
      "execution_count": null,
      "outputs": [
        {
          "output_type": "stream",
          "text": [
            "1\n",
            "3\n",
            "5\n",
            "7\n",
            "9\n"
          ],
          "name": "stdout"
        }
      ]
    },
    {
      "cell_type": "code",
      "metadata": {
        "colab": {
          "base_uri": "https://localhost:8080/"
        },
        "id": "2tmZMyYd66qT",
        "outputId": "c962cb0f-7bf5-4135-e087-011c57f1d528"
      },
      "source": [
        "for i in range(10,2,-1):\n",
        "  print(i)"
      ],
      "execution_count": null,
      "outputs": [
        {
          "output_type": "stream",
          "text": [
            "10\n",
            "9\n",
            "8\n",
            "7\n",
            "6\n",
            "5\n",
            "4\n",
            "3\n"
          ],
          "name": "stdout"
        }
      ]
    },
    {
      "cell_type": "code",
      "metadata": {
        "colab": {
          "base_uri": "https://localhost:8080/"
        },
        "id": "fKKmInSO7HNi",
        "outputId": "a157ca08-a3cb-4169-eec1-230d30fe6e92"
      },
      "source": [
        "for i in range(10,1,-1):\n",
        "  print(i)"
      ],
      "execution_count": null,
      "outputs": [
        {
          "output_type": "stream",
          "text": [
            "10\n",
            "9\n",
            "8\n",
            "7\n",
            "6\n",
            "5\n",
            "4\n",
            "3\n",
            "2\n"
          ],
          "name": "stdout"
        }
      ]
    },
    {
      "cell_type": "markdown",
      "metadata": {
        "id": "mbCoLhMl7aty"
      },
      "source": [
        "Imprimir los números entre el 5 y el 20, saltando de tres en tres."
      ]
    },
    {
      "cell_type": "code",
      "metadata": {
        "colab": {
          "base_uri": "https://localhost:8080/"
        },
        "id": "x-PyrNs27bPC",
        "outputId": "4ce12590-998d-4c58-cfce-391555c4f683"
      },
      "source": [
        "for i in range(6,20,3):\n",
        "  print(i)"
      ],
      "execution_count": null,
      "outputs": [
        {
          "output_type": "stream",
          "text": [
            "6\n",
            "9\n",
            "12\n",
            "15\n",
            "18\n"
          ],
          "name": "stdout"
        }
      ]
    },
    {
      "cell_type": "markdown",
      "metadata": {
        "id": "b6BJ1a3N7v9C"
      },
      "source": [
        "Recorrer desde el 1 al 20 y solo mostrar los multiplos de 3"
      ]
    },
    {
      "cell_type": "code",
      "metadata": {
        "colab": {
          "base_uri": "https://localhost:8080/"
        },
        "id": "tZgINWyR7vce",
        "outputId": "1e509d4f-bca4-4f6a-b98c-7d7a44eb21c7"
      },
      "source": [
        "for i in range(3,20,3):\n",
        "  print(i)"
      ],
      "execution_count": null,
      "outputs": [
        {
          "output_type": "stream",
          "text": [
            "3\n",
            "6\n",
            "9\n",
            "12\n",
            "15\n",
            "18\n"
          ],
          "name": "stdout"
        }
      ]
    },
    {
      "cell_type": "code",
      "metadata": {
        "colab": {
          "base_uri": "https://localhost:8080/"
        },
        "id": "ulaELre18Gs6",
        "outputId": "4106b0e4-925e-4d63-9880-ca51525e48f3"
      },
      "source": [
        "for i in range(1,20):\n",
        "  if i%3 == 0:\n",
        "    print(i)\n",
        " "
      ],
      "execution_count": null,
      "outputs": [
        {
          "output_type": "stream",
          "text": [
            "3\n",
            "6\n",
            "9\n",
            "12\n",
            "15\n",
            "18\n"
          ],
          "name": "stdout"
        }
      ]
    },
    {
      "cell_type": "markdown",
      "metadata": {
        "id": "M4U4taEDoIKz"
      },
      "source": [
        "## Guia 4"
      ]
    },
    {
      "cell_type": "markdown",
      "metadata": {
        "id": "vIcP0-21oV3A"
      },
      "source": [
        "10.\tEscriba un programa que genere todas las potencias de 2, desde 0 hasta la ingresada por el usuario"
      ]
    },
    {
      "cell_type": "code",
      "metadata": {
        "colab": {
          "base_uri": "https://localhost:8080/"
        },
        "id": "GY2jox8UoKox",
        "outputId": "12856130-a1c8-4fd6-cb92-1b3081b64f9a"
      },
      "source": [
        "t = int(input(\"Ingrese potencias a calcular: \"))\n",
        "for i in range(t):\n",
        "  print(2**i)"
      ],
      "execution_count": null,
      "outputs": [
        {
          "output_type": "stream",
          "text": [
            "Ingrese potencias a calcular: 4\n",
            "1\n",
            "2\n",
            "4\n",
            "8\n"
          ],
          "name": "stdout"
        }
      ]
    },
    {
      "cell_type": "markdown",
      "metadata": {
        "id": "XfztWAHqoO-H"
      },
      "source": [
        "12.\tImprimir del 0 al 9 con un incremento de 0.1. Ej.- 0, 0.1, 0.2 … 0.9, 1,1.1,…8.9,9"
      ]
    },
    {
      "cell_type": "code",
      "metadata": {
        "colab": {
          "base_uri": "https://localhost:8080/"
        },
        "id": "VZKvYKjJoP5X",
        "outputId": "18aa78b0-32f1-4ebc-84f5-388baab0fa7c"
      },
      "source": [
        "n = 0\n",
        "l = 0\n",
        "for i in range(0,90): \n",
        "  l += 0.1\n",
        "  print(\"{0:.1f}\".format(l))\n",
        "  "
      ],
      "execution_count": null,
      "outputs": [
        {
          "output_type": "stream",
          "text": [
            "0.1\n",
            "0.2\n",
            "0.3\n",
            "0.4\n",
            "0.5\n",
            "0.6\n",
            "0.7\n",
            "0.8\n",
            "0.9\n",
            "1.0\n",
            "1.1\n",
            "1.2\n",
            "1.3\n",
            "1.4\n",
            "1.5\n",
            "1.6\n",
            "1.7\n",
            "1.8\n",
            "1.9\n",
            "2.0\n",
            "2.1\n",
            "2.2\n",
            "2.3\n",
            "2.4\n",
            "2.5\n",
            "2.6\n",
            "2.7\n",
            "2.8\n",
            "2.9\n",
            "3.0\n",
            "3.1\n",
            "3.2\n",
            "3.3\n",
            "3.4\n",
            "3.5\n",
            "3.6\n",
            "3.7\n",
            "3.8\n",
            "3.9\n",
            "4.0\n",
            "4.1\n",
            "4.2\n",
            "4.3\n",
            "4.4\n",
            "4.5\n",
            "4.6\n",
            "4.7\n",
            "4.8\n",
            "4.9\n",
            "5.0\n",
            "5.1\n",
            "5.2\n",
            "5.3\n",
            "5.4\n",
            "5.5\n",
            "5.6\n",
            "5.7\n",
            "5.8\n",
            "5.9\n",
            "6.0\n",
            "6.1\n",
            "6.2\n",
            "6.3\n",
            "6.4\n",
            "6.5\n",
            "6.6\n",
            "6.7\n",
            "6.8\n",
            "6.9\n",
            "7.0\n",
            "7.1\n",
            "7.2\n",
            "7.3\n",
            "7.4\n",
            "7.5\n",
            "7.6\n",
            "7.7\n",
            "7.8\n",
            "7.9\n",
            "8.0\n",
            "8.1\n",
            "8.2\n",
            "8.3\n",
            "8.4\n",
            "8.5\n",
            "8.6\n",
            "8.7\n",
            "8.8\n",
            "8.9\n",
            "9.0\n"
          ],
          "name": "stdout"
        }
      ]
    },
    {
      "cell_type": "code",
      "metadata": {
        "colab": {
          "base_uri": "https://localhost:8080/"
        },
        "id": "Hbj1qG5wpt2P",
        "outputId": "36af8231-fe2f-45cf-da4e-a8b9b497c4b7"
      },
      "source": [
        "for n in range(0,91):\n",
        "  n = n*0.1\n",
        "  print(n)"
      ],
      "execution_count": null,
      "outputs": [
        {
          "output_type": "stream",
          "text": [
            "0.0\n",
            "0.1\n",
            "0.2\n",
            "0.30000000000000004\n",
            "0.4\n",
            "0.5\n",
            "0.6000000000000001\n",
            "0.7000000000000001\n",
            "0.8\n",
            "0.9\n",
            "1.0\n",
            "1.1\n",
            "1.2000000000000002\n",
            "1.3\n",
            "1.4000000000000001\n",
            "1.5\n",
            "1.6\n",
            "1.7000000000000002\n",
            "1.8\n",
            "1.9000000000000001\n",
            "2.0\n",
            "2.1\n",
            "2.2\n",
            "2.3000000000000003\n",
            "2.4000000000000004\n",
            "2.5\n",
            "2.6\n",
            "2.7\n",
            "2.8000000000000003\n",
            "2.9000000000000004\n",
            "3.0\n",
            "3.1\n",
            "3.2\n",
            "3.3000000000000003\n",
            "3.4000000000000004\n",
            "3.5\n",
            "3.6\n",
            "3.7\n",
            "3.8000000000000003\n",
            "3.9000000000000004\n",
            "4.0\n",
            "4.1000000000000005\n",
            "4.2\n",
            "4.3\n",
            "4.4\n",
            "4.5\n",
            "4.6000000000000005\n",
            "4.7\n",
            "4.800000000000001\n",
            "4.9\n",
            "5.0\n",
            "5.1000000000000005\n",
            "5.2\n",
            "5.300000000000001\n",
            "5.4\n",
            "5.5\n",
            "5.6000000000000005\n",
            "5.7\n",
            "5.800000000000001\n",
            "5.9\n",
            "6.0\n",
            "6.1000000000000005\n",
            "6.2\n",
            "6.300000000000001\n",
            "6.4\n",
            "6.5\n",
            "6.6000000000000005\n",
            "6.7\n",
            "6.800000000000001\n",
            "6.9\n",
            "7.0\n",
            "7.1000000000000005\n",
            "7.2\n",
            "7.300000000000001\n",
            "7.4\n",
            "7.5\n",
            "7.6000000000000005\n",
            "7.7\n",
            "7.800000000000001\n",
            "7.9\n",
            "8.0\n",
            "8.1\n",
            "8.200000000000001\n",
            "8.3\n",
            "8.4\n",
            "8.5\n",
            "8.6\n",
            "8.700000000000001\n",
            "8.8\n",
            "8.9\n",
            "9.0\n"
          ],
          "name": "stdout"
        }
      ]
    },
    {
      "cell_type": "code",
      "metadata": {
        "id": "l3bruU9qrZZQ"
      },
      "source": [
        "i 0 j 0\n",
        "i 0 j 1\n",
        "i 0 j 2\n",
        "i 0 j 9\n",
        "i 1 j 0"
      ],
      "execution_count": null,
      "outputs": []
    },
    {
      "cell_type": "code",
      "metadata": {
        "colab": {
          "base_uri": "https://localhost:8080/"
        },
        "id": "78_5Z6j2q7Qn",
        "outputId": "6b167955-7b67-48a6-d8c8-7215149e01ea"
      },
      "source": [
        "for i in range(0,10):\n",
        "  if i != 9:\n",
        "    for j in range(0,10):\n",
        "      print(str(i)+\".\"+str(j))\n",
        "  else:\n",
        "    print(str(i)) "
      ],
      "execution_count": null,
      "outputs": [
        {
          "output_type": "stream",
          "text": [
            "0.0\n",
            "0.1\n",
            "0.2\n",
            "0.3\n",
            "0.4\n",
            "0.5\n",
            "0.6\n",
            "0.7\n",
            "0.8\n",
            "0.9\n",
            "1.0\n",
            "1.1\n",
            "1.2\n",
            "1.3\n",
            "1.4\n",
            "1.5\n",
            "1.6\n",
            "1.7\n",
            "1.8\n",
            "1.9\n",
            "2.0\n",
            "2.1\n",
            "2.2\n",
            "2.3\n",
            "2.4\n",
            "2.5\n",
            "2.6\n",
            "2.7\n",
            "2.8\n",
            "2.9\n",
            "3.0\n",
            "3.1\n",
            "3.2\n",
            "3.3\n",
            "3.4\n",
            "3.5\n",
            "3.6\n",
            "3.7\n",
            "3.8\n",
            "3.9\n",
            "4.0\n",
            "4.1\n",
            "4.2\n",
            "4.3\n",
            "4.4\n",
            "4.5\n",
            "4.6\n",
            "4.7\n",
            "4.8\n",
            "4.9\n",
            "5.0\n",
            "5.1\n",
            "5.2\n",
            "5.3\n",
            "5.4\n",
            "5.5\n",
            "5.6\n",
            "5.7\n",
            "5.8\n",
            "5.9\n",
            "6.0\n",
            "6.1\n",
            "6.2\n",
            "6.3\n",
            "6.4\n",
            "6.5\n",
            "6.6\n",
            "6.7\n",
            "6.8\n",
            "6.9\n",
            "7.0\n",
            "7.1\n",
            "7.2\n",
            "7.3\n",
            "7.4\n",
            "7.5\n",
            "7.6\n",
            "7.7\n",
            "7.8\n",
            "7.9\n",
            "8.0\n",
            "8.1\n",
            "8.2\n",
            "8.3\n",
            "8.4\n",
            "8.5\n",
            "8.6\n",
            "8.7\n",
            "8.8\n",
            "8.9\n",
            "9\n"
          ],
          "name": "stdout"
        }
      ]
    },
    {
      "cell_type": "markdown",
      "metadata": {
        "id": "bxCjMN3soW-2"
      },
      "source": [
        "15.\tEscribir un programa que permita al usuario ingresar 6 números enteros, que pueden ser positivos o negativos. Al finalizar, mostrar la sumatoria de los números negativos y el promedio de los positivos. No olvides que no es posible dividir por cero, por lo que es necesario evitar que el programa arroje un error si no se ingresaron números positivos."
      ]
    },
    {
      "cell_type": "code",
      "metadata": {
        "colab": {
          "base_uri": "https://localhost:8080/"
        },
        "id": "pGKnTUrpoZ-P",
        "outputId": "eb132cca-5309-43e8-e796-46573ba2ad78"
      },
      "source": [
        "negativos = 0\n",
        "positivos = 0\n",
        "c_positivos = 0\n",
        "for i in range(6):\n",
        "  n = float(input(\"Ingrese un valor: \"))\n",
        "  if n < 0:\n",
        "    negativos += n\n",
        "  else:\n",
        "    positivos += n\n",
        "    c_positivos += 1\n",
        "print(\"Sumatoria negativos: \"+str(negativos))\n",
        "if c_positivos>0:\n",
        "  promedio = positivos / c_positivos\n",
        "  print(\"Promedio positivos: \"+str(promedio))\n",
        "else:\n",
        "  print(\"No habian numeros positivos\")"
      ],
      "execution_count": null,
      "outputs": [
        {
          "output_type": "stream",
          "text": [
            "Ingrese un valor: -5\n",
            "Ingrese un valor: -6\n",
            "Ingrese un valor: -7\n",
            "Ingrese un valor: -8\n",
            "Ingrese un valor: -10\n",
            "Ingrese un valor: -8\n",
            "Sumatoria negativos: -44.0\n",
            "No habian numeros positivos\n"
          ],
          "name": "stdout"
        }
      ]
    },
    {
      "cell_type": "markdown",
      "metadata": {
        "id": "qniizqlit1oA"
      },
      "source": [
        "# Strings"
      ]
    },
    {
      "cell_type": "code",
      "metadata": {
        "colab": {
          "base_uri": "https://localhost:8080/"
        },
        "id": "PCTJ9Pjit34_",
        "outputId": "5feba131-fbcb-4b51-f058-97329c471281"
      },
      "source": [
        "#Contar cuantas letras tiene tu nombre\n",
        "nombre = input(\"Ingrese su nombre: \")\n",
        "largo = len(nombre)\n",
        "print(largo)"
      ],
      "execution_count": null,
      "outputs": [
        {
          "output_type": "stream",
          "text": [
            "Ingrese su nombre: luis14\n",
            "6\n"
          ],
          "name": "stdout"
        }
      ]
    },
    {
      "cell_type": "code",
      "metadata": {
        "colab": {
          "base_uri": "https://localhost:8080/"
        },
        "id": "8PrM9pAeuVvI",
        "outputId": "70454c98-f069-47f3-adf5-346dfa4f0e65"
      },
      "source": [
        "nombre = input(\"Ingrese su nombre: \")\n",
        "largo = len(nombre)\n",
        "if largo > 4 and largo < 8:\n",
        "  print(\"Registro exitoso\")\n",
        "else:\n",
        "  print(\"tu usuario debe tener mas de 4 caracteres\")"
      ],
      "execution_count": null,
      "outputs": [
        {
          "output_type": "stream",
          "text": [
            "Ingrese su nombre: benjamin\n",
            "Registro exitoso\n"
          ],
          "name": "stdout"
        }
      ]
    },
    {
      "cell_type": "code",
      "metadata": {
        "colab": {
          "base_uri": "https://localhost:8080/"
        },
        "id": "NyQrsTK4uw_o",
        "outputId": "387b9f1e-36a6-45c8-8f89-e7f28ff9f336"
      },
      "source": [
        "#buscar un caracter en una cadena\n",
        "nombre = input(\"Ingrese su nombre: \")\n",
        "print(\"i\" in nombre)"
      ],
      "execution_count": null,
      "outputs": [
        {
          "output_type": "stream",
          "text": [
            "Ingrese su nombre: jose\n",
            "False\n"
          ],
          "name": "stdout"
        }
      ]
    },
    {
      "cell_type": "code",
      "metadata": {
        "colab": {
          "base_uri": "https://localhost:8080/"
        },
        "id": "8pdOmdV4wFU_",
        "outputId": "0892c530-bf13-4b9f-80f0-438d5c4a5c6c"
      },
      "source": [
        "#buscar un caracter en una cadena\n",
        "nombre = input(\"Ingrese su nombre: \")\n",
        "print(\"han\" in nombre)"
      ],
      "execution_count": null,
      "outputs": [
        {
          "output_type": "stream",
          "text": [
            "Ingrese su nombre: hans\n",
            "True\n"
          ],
          "name": "stdout"
        }
      ]
    },
    {
      "cell_type": "code",
      "metadata": {
        "colab": {
          "base_uri": "https://localhost:8080/"
        },
        "id": "Qnb-sW3kw0xh",
        "outputId": "a9c36f14-478e-493f-d9d8-60da7ecd04b0"
      },
      "source": [
        "nombre = input(\"Ingrese su nombre: \")\n",
        "print(\"o\" in nombre or \"a\" in nombre)"
      ],
      "execution_count": null,
      "outputs": [
        {
          "output_type": "stream",
          "text": [
            "Ingrese su nombre: latita\n",
            "True\n"
          ],
          "name": "stdout"
        }
      ]
    },
    {
      "cell_type": "code",
      "metadata": {
        "colab": {
          "base_uri": "https://localhost:8080/"
        },
        "id": "2IRbmaSmxjyV",
        "outputId": "43fdf303-935a-4a3b-d289-3b7286855345"
      },
      "source": [
        "#buscar si un caracter NO esta en una cadena\n",
        "nombre = input(\"Ingrese su nombre: \")\n",
        "print(\"a\" not in nombre)"
      ],
      "execution_count": null,
      "outputs": [
        {
          "output_type": "stream",
          "text": [
            "Ingrese su nombre: jose\n",
            "True\n"
          ],
          "name": "stdout"
        }
      ]
    },
    {
      "cell_type": "code",
      "metadata": {
        "colab": {
          "base_uri": "https://localhost:8080/"
        },
        "id": "jWG1FmmgyJpO",
        "outputId": "0117a1f6-de1d-4ea0-8563-3e8a57a34df5"
      },
      "source": [
        "nombre = \"HoLa mundo soy JoaQuin\"\n",
        "print(nombre.capitalize())\n",
        "print(nombre.upper())\n",
        "print(nombre.lower())\n",
        "print(nombre.swapcase())\n",
        "print(nombre.title())"
      ],
      "execution_count": null,
      "outputs": [
        {
          "output_type": "stream",
          "text": [
            "Hola mundo soy joaquin\n",
            "HOLA MUNDO SOY JOAQUIN\n",
            "hola mundo soy joaquin\n",
            "hOlA MUNDO SOY jOAqUIN\n",
            "Hola Mundo Soy Joaquin\n"
          ],
          "name": "stdout"
        }
      ]
    },
    {
      "cell_type": "code",
      "metadata": {
        "colab": {
          "base_uri": "https://localhost:8080/"
        },
        "id": "i0O3c3pL00h5",
        "outputId": "5b6d0c8a-ec1a-42cd-d939-94803e03bff5"
      },
      "source": [
        "sexo = input(\"Ingrese sexo: \")\n",
        "sexo = sexo.lower()\n",
        "if sexo=='f':\n",
        "  print(\"Sexo femenino\")\n",
        "elif sexo==\"m\":\n",
        "  print(\"Sexo masculino\")\n",
        "else:\n",
        "  print(\"Te equivocaste\")"
      ],
      "execution_count": null,
      "outputs": [
        {
          "output_type": "stream",
          "text": [
            "Ingrese sexo: F\n",
            "Sexo femenino\n"
          ],
          "name": "stdout"
        }
      ]
    },
    {
      "cell_type": "code",
      "metadata": {
        "colab": {
          "base_uri": "https://localhost:8080/"
        },
        "id": "k3cgEkBwzqOv",
        "outputId": "7d7f8ace-73e6-4f9c-c3cf-ca43f9616627"
      },
      "source": [
        "saludo = \"bienvenido al huertito\"\n",
        "\n",
        "for i in range(10):\n",
        "  print(saludo)\n",
        "  saludo = saludo.swapcase()"
      ],
      "execution_count": null,
      "outputs": [
        {
          "output_type": "stream",
          "text": [
            "bienvenido al huertito\n",
            "BIENVENIDO AL HUERTITO\n",
            "bienvenido al huertito\n",
            "BIENVENIDO AL HUERTITO\n",
            "bienvenido al huertito\n",
            "BIENVENIDO AL HUERTITO\n",
            "bienvenido al huertito\n",
            "BIENVENIDO AL HUERTITO\n",
            "bienvenido al huertito\n",
            "BIENVENIDO AL HUERTITO\n"
          ],
          "name": "stdout"
        }
      ]
    },
    {
      "cell_type": "code",
      "metadata": {
        "colab": {
          "base_uri": "https://localhost:8080/"
        },
        "id": "HOVNrxNO0aai",
        "outputId": "04648547-f280-4f46-98ec-8111af54d363"
      },
      "source": [
        "#Slicing\n",
        "cadena = \"Bievenidos al curso de Introduccion a la programacion\"\n",
        "print(cadena[::-1])"
      ],
      "execution_count": null,
      "outputs": [
        {
          "output_type": "stream",
          "text": [
            "noicamargorp al a noiccudortnI ed osruc la sodineveiB\n"
          ],
          "name": "stdout"
        }
      ]
    },
    {
      "cell_type": "code",
      "metadata": {
        "colab": {
          "base_uri": "https://localhost:8080/"
        },
        "id": "tMQLBz4b0CSp",
        "outputId": "a9b866b8-b9f2-45de-9c8f-f29849ab755c"
      },
      "source": [
        "cadena = \"Bievenidos al curso de Introduccion a la programacion\"\n",
        "print(cadena[0])"
      ],
      "execution_count": null,
      "outputs": [
        {
          "output_type": "stream",
          "text": [
            "B\n"
          ],
          "name": "stdout"
        }
      ]
    },
    {
      "cell_type": "code",
      "metadata": {
        "colab": {
          "base_uri": "https://localhost:8080/"
        },
        "id": "xc9xruXR0boY",
        "outputId": "867554ef-fcdf-4d15-f5ea-9213e03455fa"
      },
      "source": [
        "cadena = \"Bievenidos al curso de Introduccion a la programacion\"\n",
        "print(cadena[5])"
      ],
      "execution_count": null,
      "outputs": [
        {
          "output_type": "stream",
          "text": [
            "n\n"
          ],
          "name": "stdout"
        }
      ]
    },
    {
      "cell_type": "code",
      "metadata": {
        "colab": {
          "base_uri": "https://localhost:8080/"
        },
        "id": "K0b00tgT0lt4",
        "outputId": "1e2e61ff-aebc-49ce-b9ee-058745268d80"
      },
      "source": [
        "cadena = \"Bievenidos al curso de Introduccion a la programacion\"\n",
        "contador = 0\n",
        "for i in cadena:\n",
        "  if \"on\" == i:\n",
        "    contador += 1\n",
        "print(contador)"
      ],
      "execution_count": null,
      "outputs": [
        {
          "output_type": "stream",
          "text": [
            "0\n"
          ],
          "name": "stdout"
        }
      ]
    },
    {
      "cell_type": "code",
      "metadata": {
        "colab": {
          "base_uri": "https://localhost:8080/"
        },
        "id": "M41RSYra1tNf",
        "outputId": "3606d5ac-3c5c-48ea-d80e-49012146ebf6"
      },
      "source": [
        "cadena = \"Bievenidos al curso de Introduccion a la programacion\"\n",
        "print(cadena[0]) #Imprime el primer caracter\n",
        "print(cadena[0:5]) #Imprimer desde el caracter 0 hasta el 4\n",
        "print(cadena[:5]) #Imprime desde el primer caracter hasta el 4\n",
        "print(cadena[2:6]) #Imprime desde el caracter 2 hasta el 5\n",
        "print(cadena[4:]) #Imprime desde el caracter 4 hasta el final\n",
        "print(cadena[2:10:2]) #Imprime desde el caracter 2 hasta el 9, pero saltando de 2 en 2\n",
        "print(cadena[::3]) #Imprime desde el primer caracter hasta el ultimo, pero saltando de 3 en 3\n",
        "print(cadena[::-1]) #Imprime desde el final hasta el inicio"
      ],
      "execution_count": null,
      "outputs": [
        {
          "output_type": "stream",
          "text": [
            "B\n",
            "Bieve\n",
            "Bieve\n",
            "even\n",
            "enidos al curso de Introduccion a la programacion\n",
            "eeio\n",
            "Bvisluoenocoaarrao\n",
            "noicamargorp al a noiccudortnI ed osruc la sodineveiB\n"
          ],
          "name": "stdout"
        }
      ]
    },
    {
      "cell_type": "code",
      "metadata": {
        "colab": {
          "base_uri": "https://localhost:8080/"
        },
        "id": "-otqqsyX38DN",
        "outputId": "e34816c4-3ae4-4279-a125-f5b7ad6fdfd6"
      },
      "source": [
        "n = 204.236268\n",
        "print(n)\n",
        "print(\"El valor es: {0:.2f}\".format(n))\n",
        "print(\"El valor es: {0:.4f}\".format(n))"
      ],
      "execution_count": null,
      "outputs": [
        {
          "output_type": "stream",
          "text": [
            "204.236268\n",
            "El valor es: 204.24\n",
            "El valor es: 204.2363\n"
          ],
          "name": "stdout"
        }
      ]
    },
    {
      "cell_type": "markdown",
      "metadata": {
        "id": "K3dU7QX35LUB"
      },
      "source": [
        "# Libreria Math"
      ]
    },
    {
      "cell_type": "code",
      "metadata": {
        "colab": {
          "base_uri": "https://localhost:8080/"
        },
        "id": "oai9BnXp5Ntp",
        "outputId": "66fb564b-584f-4538-bbdf-678e4f6571c5"
      },
      "source": [
        "import math\n",
        "a = float(input(\"Ingrese un valor: \"))\n",
        "r = math.pow(a,3) \n",
        "print(r)\n"
      ],
      "execution_count": null,
      "outputs": [
        {
          "output_type": "stream",
          "text": [
            "Ingrese un valor: 2\n",
            "8.0\n"
          ],
          "name": "stdout"
        }
      ]
    },
    {
      "cell_type": "code",
      "metadata": {
        "colab": {
          "base_uri": "https://localhost:8080/"
        },
        "id": "iRLS8AN25s8Z",
        "outputId": "5c9b4350-0f19-4dd7-891b-a0e3b9bdb6fa"
      },
      "source": [
        "import math\n",
        "a = float(input(\"Ingrese un valor: \"))\n",
        "r = math.sqrt(a)\n",
        "r1 =  a**(1/2)\n",
        "print(r)\n",
        "print(r1)"
      ],
      "execution_count": null,
      "outputs": [
        {
          "output_type": "stream",
          "text": [
            "Ingrese un valor: 16\n",
            "4.0\n",
            "4.0\n"
          ],
          "name": "stdout"
        }
      ]
    },
    {
      "cell_type": "code",
      "metadata": {
        "colab": {
          "base_uri": "https://localhost:8080/"
        },
        "id": "OO0p0wcZ6FG4",
        "outputId": "ab8be5fc-1d0f-448e-974f-ae6f5db9001c"
      },
      "source": [
        "import math\n",
        "a = float(input(\"Ingrese un valor: \"))\n",
        "r = math.trunc(a) #Truncar, significa quitar ciertos digitos, en este caso la parte decimal\n",
        "print(r)"
      ],
      "execution_count": null,
      "outputs": [
        {
          "output_type": "stream",
          "text": [
            "Ingrese un valor: 17.2496\n",
            "17\n"
          ],
          "name": "stdout"
        }
      ]
    },
    {
      "cell_type": "code",
      "metadata": {
        "colab": {
          "base_uri": "https://localhost:8080/"
        },
        "id": "3XpPXZGk7Fmn",
        "outputId": "55e8dd98-4208-4126-a283-138558257def"
      },
      "source": [
        "import math\n",
        "print(math.pi) #Muestra el valor de la constante pi\n",
        "print(math.e)  #Muestra el valor de la constante euler"
      ],
      "execution_count": null,
      "outputs": [
        {
          "output_type": "stream",
          "text": [
            "3.141592653589793\n",
            "2.718281828459045\n"
          ],
          "name": "stdout"
        }
      ]
    },
    {
      "cell_type": "code",
      "metadata": {
        "colab": {
          "base_uri": "https://localhost:8080/"
        },
        "id": "5_QRmvDV7r6R",
        "outputId": "bf83461f-790c-4b64-9a44-27d391b3e752"
      },
      "source": [
        "import math\n",
        "r = float(input(\"Ingrese un valor para el radio: \"))\n",
        "area = math.pi  * math.pow(r,2)\n",
        "potencia = math.pi  * math.pow(r,3)\n",
        "print(area)\n",
        "print(\"{0:.2f}\".format(area))\n",
        "print(\"{0:.2f}  {1:.4f}\".format(area,potencia))\n",
        "print(\"{0:.2f}  {0:.4f}\".format(area))"
      ],
      "execution_count": null,
      "outputs": [
        {
          "output_type": "stream",
          "text": [
            "Ingrese un valor para el radio: 2\n",
            "12.566370614359172\n",
            "12.57\n",
            "12.57  25.1327\n",
            "12.57  12.5664\n"
          ],
          "name": "stdout"
        }
      ]
    },
    {
      "cell_type": "markdown",
      "metadata": {
        "id": "4LK_o_O9r38E"
      },
      "source": [
        "## Guia 5"
      ]
    },
    {
      "cell_type": "markdown",
      "metadata": {
        "id": "AdXj_dPzsBvy"
      },
      "source": [
        "10.\tLeer un nombre y mostrar solo las consonantes."
      ]
    },
    {
      "cell_type": "code",
      "metadata": {
        "colab": {
          "base_uri": "https://localhost:8080/"
        },
        "id": "BALxx01KsCd6",
        "outputId": "117f06ab-5566-4f07-d515-c93684d1c988"
      },
      "source": [
        "nombre = input(\"ingrese un nombre: \")\n",
        "for x in nombre:\n",
        "  if x ==\"a\" or x == \"e\" or x == \"i\" or x == \"o\" or x == \"u\":\n",
        "    pass\n",
        "  else:\n",
        "    print(x)"
      ],
      "execution_count": null,
      "outputs": [
        {
          "output_type": "stream",
          "text": [
            "ingrese un nombre: luis\n",
            "l\n",
            "s\n"
          ],
          "name": "stdout"
        }
      ]
    },
    {
      "cell_type": "code",
      "metadata": {
        "colab": {
          "base_uri": "https://localhost:8080/"
        },
        "id": "_arFfbCAtJHy",
        "outputId": "bf5be0be-f648-402c-9fef-3e3e56d61574"
      },
      "source": [
        "nombre = input(\"ingrese un nombre: \")\n",
        "for x in nombre:\n",
        "  if x !=\"a\" and x != \"e\" and x != \"i\" and x != \"o\" and x != \"u\":  \n",
        "   print(x)"
      ],
      "execution_count": null,
      "outputs": [
        {
          "output_type": "stream",
          "text": [
            "ingrese un nombre: luis\n",
            "l\n",
            "s\n"
          ],
          "name": "stdout"
        }
      ]
    },
    {
      "cell_type": "markdown",
      "metadata": {
        "id": "WRXFsqR3r6_K"
      },
      "source": [
        "13.\tLeer los dos nombres y apellidos de una persona, solo debe mostrar las iniciales de cada uno. EJ.\n",
        "a.\tSe ingreso “Esteban Bonifacio Dido Perez”\n",
        "b.\tSe muestra EBDP\n"
      ]
    },
    {
      "cell_type": "code",
      "metadata": {
        "colab": {
          "base_uri": "https://localhost:8080/"
        },
        "id": "qv1ShVFDr_CS",
        "outputId": "fd7a08c3-b1e3-4317-8c8d-59d11623a808"
      },
      "source": [
        "nombreCompleto = input(\"Ingrese su nombre completo: \")\n",
        "largo = len(nombreCompleto)\n",
        "for i in range(largo):\n",
        "  if nombreCompleto[i] == \" \":\n",
        "    print(nombreCompleto[i+1])\n",
        "  elif i == 0:\n",
        "    print(nombreCompleto[i])"
      ],
      "execution_count": null,
      "outputs": [
        {
          "output_type": "stream",
          "text": [
            "Ingrese su nombre completo: Luis Alberto Rojas Rubio\n",
            "L\n",
            "A\n",
            "R\n",
            "R\n"
          ],
          "name": "stdout"
        }
      ]
    },
    {
      "cell_type": "markdown",
      "metadata": {
        "id": "eAoD-zCGr6c7"
      },
      "source": [
        "14.\tLeer una cadena y dos caracteres, debe generar una nueva cadena que reemplace el primer carácter por el segundo. Ej.\n",
        "a.\tSe ingresa la cadena “Juaniquillo”.\n",
        "b.\tSe ingresa el carácter “i”\n",
        "c.\tSe ingresa el carácter “s”\n",
        "d.\tSe muestra al final “Juansqusllo”\n"
      ]
    },
    {
      "cell_type": "code",
      "metadata": {
        "colab": {
          "base_uri": "https://localhost:8080/"
        },
        "id": "LL4szO6pr56C",
        "outputId": "5b87ca79-f8c8-45ea-fff0-0f19657d1089"
      },
      "source": [
        "cadena = input(\"Ingrese una cadena: \")\n",
        "c1 = input(\"Ingrese un caracter: \")\n",
        "c2 = input(\"Ingrese un caracter distinto: \")\n",
        "\n",
        "resultado = \"\"\n",
        "for c in cadena:\n",
        "  if c1 == c:\n",
        "    resultado = resultado + c2\n",
        "  else:\n",
        "    resultado = resultado + c\n",
        "print(resultado)"
      ],
      "execution_count": null,
      "outputs": [
        {
          "output_type": "stream",
          "text": [
            "Ingrese una cadena: luis\n",
            "Ingrese un caracter: u\n",
            "Ingrese un caracter distinto: a\n",
            "lais\n"
          ],
          "name": "stdout"
        }
      ]
    },
    {
      "cell_type": "markdown",
      "metadata": {
        "id": "G-Q8VODhsDBy"
      },
      "source": [
        "16.\tLeer una cadena e indicar si es palíndromo. Una palabra palíndroma es aquella que se lee igual adelante que atrás. Ej.\n",
        "a.\treconocer -> palíndromo\n",
        "b.\tanitalavalatina -> palíndromo\n",
        "c.\tcomer -> no es palíndromo\n"
      ]
    },
    {
      "cell_type": "code",
      "metadata": {
        "colab": {
          "base_uri": "https://localhost:8080/"
        },
        "id": "M613TmERsGOy",
        "outputId": "3cddc520-d7b2-4499-b96f-fe6c96bc84a8"
      },
      "source": [
        "cadena = input(\"Ingrese una cadena: \")\n",
        "cadena_inv = cadena[::-1]\n",
        "print(cadena_inv)\n",
        "if cadena == cadena_inv:\n",
        "  print(\"Es palindroma\")\n",
        "else:\n",
        "  print(\"No es palindroma\")"
      ],
      "execution_count": null,
      "outputs": [
        {
          "output_type": "stream",
          "text": [
            "Ingrese una cadena: anita lava la tina\n",
            "anit al aval atina\n",
            "No es palindroma\n"
          ],
          "name": "stdout"
        }
      ]
    },
    {
      "cell_type": "markdown",
      "metadata": {
        "id": "jwEp3XwdyCC-"
      },
      "source": [
        "# Funciones\n"
      ]
    },
    {
      "cell_type": "code",
      "metadata": {
        "colab": {
          "base_uri": "https://localhost:8080/"
        },
        "id": "3uKJOnilyD-E",
        "outputId": "25117f00-8497-482b-d94b-34aaea4ddc1f"
      },
      "source": [
        "def saludar():\n",
        "  print(\"Hola\")\n",
        "\n",
        "for i in range(5):\n",
        "  saludar()\n"
      ],
      "execution_count": null,
      "outputs": [
        {
          "output_type": "stream",
          "text": [
            "Hola\n",
            "Hola\n",
            "Hola\n",
            "Hola\n",
            "Hola\n"
          ],
          "name": "stdout"
        }
      ]
    },
    {
      "cell_type": "code",
      "metadata": {
        "colab": {
          "base_uri": "https://localhost:8080/"
        },
        "id": "ggAav0PeyvS7",
        "outputId": "315ac556-dd28-4483-d7bb-818a9c105427"
      },
      "source": [
        "def sumar():\n",
        "  global c\n",
        "  a = 1\n",
        "  b = 2\n",
        "  c = 2\n",
        "  suma = a + c\n",
        "  print(c)\n",
        "  \n",
        "c = 1\n",
        "sumar()\n",
        "print(c)"
      ],
      "execution_count": null,
      "outputs": [
        {
          "output_type": "stream",
          "text": [
            "2\n",
            "2\n"
          ],
          "name": "stdout"
        }
      ]
    },
    {
      "cell_type": "code",
      "metadata": {
        "colab": {
          "base_uri": "https://localhost:8080/"
        },
        "id": "L3jvbcQv0JGE",
        "outputId": "3677782f-ea12-45e6-a36e-f1c38cf268dc"
      },
      "source": [
        "def test():\n",
        "  return \"hola\"\n",
        "\n",
        "r = test()\n",
        "print(r)"
      ],
      "execution_count": null,
      "outputs": [
        {
          "output_type": "stream",
          "text": [
            "hola\n"
          ],
          "name": "stdout"
        }
      ]
    },
    {
      "cell_type": "code",
      "metadata": {
        "colab": {
          "base_uri": "https://localhost:8080/"
        },
        "id": "ofUJ5iAC0gGj",
        "outputId": "59a811cb-4ba5-4f79-c689-5edacea96e3f"
      },
      "source": [
        "def sumar():\n",
        "  a = 1\n",
        "  b = 2\n",
        "  suma = a + b\n",
        "  return suma\n",
        "resultado = sumar()\n",
        "print(resultado)"
      ],
      "execution_count": null,
      "outputs": [
        {
          "output_type": "stream",
          "text": [
            "3\n"
          ],
          "name": "stdout"
        }
      ]
    },
    {
      "cell_type": "code",
      "metadata": {
        "colab": {
          "base_uri": "https://localhost:8080/"
        },
        "id": "aBT7Yl5m0wwm",
        "outputId": "46cb5d92-a3ab-49ea-efb1-da7d15739699"
      },
      "source": [
        "def calcular():\n",
        "  a = 1\n",
        "  b = 2\n",
        "  suma = a + b\n",
        "  resta = b - a\n",
        "  cadena = \"Hola\"\n",
        "  nota = 4.2\n",
        "  return suma,resta,cadena,nota\n",
        "\n",
        "r1,r2,saludo,r4 = calcular()  \n",
        "print(r1)  \n",
        "print(r2)\n",
        "print(saludo)\n",
        "print(r4)"
      ],
      "execution_count": null,
      "outputs": [
        {
          "output_type": "stream",
          "text": [
            "3\n",
            "1\n",
            "Hola\n",
            "4.2\n"
          ],
          "name": "stdout"
        }
      ]
    },
    {
      "cell_type": "code",
      "metadata": {
        "colab": {
          "base_uri": "https://localhost:8080/"
        },
        "id": "bViLfYf_1zBN",
        "outputId": "1c7f3d30-e3cb-43d7-b866-80c2f00c2aff"
      },
      "source": [
        "def sumatoria(a,b):\n",
        "  suma = a + b\n",
        "  return suma\n",
        "\n",
        "r = sumatoria(4,2)\n",
        "print(r)"
      ],
      "execution_count": null,
      "outputs": [
        {
          "output_type": "stream",
          "text": [
            "6\n"
          ],
          "name": "stdout"
        }
      ]
    },
    {
      "cell_type": "code",
      "metadata": {
        "colab": {
          "base_uri": "https://localhost:8080/"
        },
        "id": "mDM8GtQ42GRK",
        "outputId": "c8bdbd91-c7f7-4fab-80f8-ef0a12edd781"
      },
      "source": [
        "import math\n",
        "r = math.pow(4,2)\n",
        "print(r)"
      ],
      "execution_count": null,
      "outputs": [
        {
          "output_type": "stream",
          "text": [
            "16.0\n"
          ],
          "name": "stdout"
        }
      ]
    },
    {
      "cell_type": "code",
      "metadata": {
        "colab": {
          "base_uri": "https://localhost:8080/"
        },
        "id": "Uu68rbFP2U9D",
        "outputId": "6d902c3e-5e37-4321-d7d3-e3ce80018241"
      },
      "source": [
        "def hola(a,b):\n",
        "  resultado = a ** b\n",
        "  return resultado\n",
        "\n",
        "r = hola(4,2)\n",
        "print(r)"
      ],
      "execution_count": null,
      "outputs": [
        {
          "output_type": "stream",
          "text": [
            "16\n"
          ],
          "name": "stdout"
        }
      ]
    },
    {
      "cell_type": "code",
      "metadata": {
        "id": "of2W0y0xGij9"
      },
      "source": [
        "def sumar3(a,b,c):\n",
        "  r = a + b + c\n",
        "  return r\n",
        "n1 = 2\n",
        "n2 = 4\n",
        "n3 = 5\n",
        "r = sumar(n1,n2,n3)\n",
        "n1 = 3\n",
        "n2 = 5\n",
        "n3 = 6\n",
        "r = sumar(n1,n2,n3)\n"
      ],
      "execution_count": null,
      "outputs": []
    },
    {
      "cell_type": "code",
      "metadata": {
        "colab": {
          "base_uri": "https://localhost:8080/"
        },
        "id": "sWZX0BRFHJ2U",
        "outputId": "3527c5bd-f79a-404e-e4d8-7110d3673f8e"
      },
      "source": [
        "def promedio(n,curso):\n",
        "  suma = 0\n",
        "  print(\"Esta ingresando las notas de: \"+curso)\n",
        "  for i in range(n):\n",
        "    nota = float(input(\"Ingrese una nota \"+str(i+1)+\": \"))\n",
        "    suma += nota\n",
        "  promedio = suma / n\n",
        "  return promedio\n",
        "\n",
        "p1 = promedio(3,\"Intro a la progra\") #Intro a la progra\n",
        "p2 = promedio(2,\"Mate\") #Mate\n",
        "p3 = promedio(4, \"Tics\") #Tics\n",
        "print(p1)\n",
        "print(p2)\n",
        "print(p3)"
      ],
      "execution_count": null,
      "outputs": [
        {
          "output_type": "stream",
          "text": [
            "Esta ingresando las notas de: Intro a la progra\n",
            "Ingrese una nota 1: 7\n",
            "Ingrese una nota 2: 4\n",
            "Ingrese una nota 3: 5\n",
            "Esta ingresando las notas de: Mate\n",
            "Ingrese una nota 1: 4\n",
            "Ingrese una nota 2: 6\n",
            "Esta ingresando las notas de: Tics\n",
            "Ingrese una nota 1: 7\n",
            "Ingrese una nota 2: 1\n",
            "Ingrese una nota 3: 2\n",
            "Ingrese una nota 4: 4\n",
            "3\n",
            "2\n",
            "4\n"
          ],
          "name": "stdout"
        }
      ]
    },
    {
      "cell_type": "code",
      "metadata": {
        "colab": {
          "base_uri": "https://localhost:8080/"
        },
        "id": "1I1kHxQpIgT0",
        "outputId": "f31ef15b-f2ad-40de-e07c-6522bbe150ca"
      },
      "source": [
        "def promedio(n,curso):\n",
        "  suma = 0\n",
        "  print(\"Esta ingresando las notas de: \"+curso)\n",
        "  for i in range(n):\n",
        "    nota = float(input(\"Ingrese una nota \"+str(i+1)+\": \"))\n",
        "    suma += nota\n",
        "  promedio = suma / n\n",
        "  return promedio\n",
        "\n",
        "for i in range(3):\n",
        "  asignatura = input(\"Ingrese nombre de la asignatura: \")\n",
        "  notas = int(input(\"Ingrese numero de notas de la asignatura: \"))\n",
        "  p = promedio(notas,asignatura)\n",
        "  print(p)"
      ],
      "execution_count": null,
      "outputs": [
        {
          "output_type": "stream",
          "text": [
            "Ingrese nombre de la asignatura: Lenguaje\n",
            "Ingrese numero de notas de la asignatura: 2\n",
            "Esta ingresando las notas de: Lenguaje\n",
            "Ingrese una nota 1: 6\n",
            "Ingrese una nota 2: 4\n",
            "5.0\n",
            "Ingrese nombre de la asignatura: Mate\n",
            "Ingrese numero de notas de la asignatura: 4\n",
            "Esta ingresando las notas de: Mate\n",
            "Ingrese una nota 1: 1\n",
            "Ingrese una nota 2: 2\n",
            "Ingrese una nota 3: 3\n",
            "Ingrese una nota 4: 4\n",
            "2.5\n",
            "Ingrese nombre de la asignatura: Progra\n",
            "Ingrese numero de notas de la asignatura: 3\n",
            "Esta ingresando las notas de: Progra\n",
            "Ingrese una nota 1: 4\n",
            "Ingrese una nota 2: 6\n",
            "Ingrese una nota 3: 7\n",
            "5.666666666666667\n"
          ],
          "name": "stdout"
        }
      ]
    },
    {
      "cell_type": "markdown",
      "metadata": {
        "id": "vysDjS0xJRkd"
      },
      "source": [
        "Desarrolle una funcion que reciba por parametro una cadena y retorne si es palindroma o no"
      ]
    },
    {
      "cell_type": "code",
      "metadata": {
        "colab": {
          "base_uri": "https://localhost:8080/"
        },
        "id": "WB3TX-pYJVzc",
        "outputId": "e8f95676-6fb0-499c-80f6-7017dbd52577"
      },
      "source": [
        "def palindromo(cadena):\n",
        "  cadena_invertida = cadena[::-1]\n",
        "  if cadena == cadena_invertida:\n",
        "    return \"Si es palindroma\"\n",
        "  else:\n",
        "    return \"No es palindroma\"\n",
        "\n",
        "c = \"reconocer\"\n",
        "respuesta = palindromo(c)\n",
        "print(respuesta)\n",
        "c = \"jose\"\n",
        "respuesta = palindromo(c)\n",
        "print(respuesta)"
      ],
      "execution_count": null,
      "outputs": [
        {
          "output_type": "stream",
          "text": [
            "Si es palindroma\n",
            "No es palindroma\n"
          ],
          "name": "stdout"
        }
      ]
    },
    {
      "cell_type": "markdown",
      "metadata": {
        "id": "0O8lMdoMLS-v"
      },
      "source": [
        "Desarrollar una función que reciba por parametro un numero entero positivo, que imprima todos los números correlativos entre el ingresado por el usuario y uno menos del doble del mismo."
      ]
    },
    {
      "cell_type": "code",
      "metadata": {
        "colab": {
          "base_uri": "https://localhost:8080/"
        },
        "id": "MsTl8hd6LTfF",
        "outputId": "e66572d4-0d60-4716-a0b0-f80a0488f7ee"
      },
      "source": [
        "def imprimir_correlativos(n):\n",
        "  for i in range(n,2*n):\n",
        "    print(i)\n",
        "\n",
        "imprimir_correlativos(5)\n"
      ],
      "execution_count": null,
      "outputs": [
        {
          "output_type": "stream",
          "text": [
            "5\n",
            "6\n",
            "7\n",
            "8\n",
            "9\n"
          ],
          "name": "stdout"
        }
      ]
    },
    {
      "cell_type": "markdown",
      "metadata": {
        "id": "MaTo4eKaMkOV"
      },
      "source": [
        "Desarrollar una funcion que reciba por parametro una cadena la cual es un nombre, la funcion debe imprimir \"Hola \"... , donde ... es la cadena"
      ]
    },
    {
      "cell_type": "code",
      "metadata": {
        "colab": {
          "base_uri": "https://localhost:8080/"
        },
        "id": "QTBm92xcMvp0",
        "outputId": "0fd7eef0-bd88-4a46-b42b-2d7136fdcece"
      },
      "source": [
        "def saludar(nombre):\n",
        " print(\"hola \"+nombre)\n",
        "\n",
        "saludar(\"Javier\")\n",
        "saludar(\"Miguel\")"
      ],
      "execution_count": null,
      "outputs": [
        {
          "output_type": "stream",
          "text": [
            "hola Javier\n",
            "hola Miguel\n"
          ],
          "name": "stdout"
        }
      ]
    },
    {
      "cell_type": "markdown",
      "metadata": {
        "id": "G581OkJDOWnX"
      },
      "source": [
        "Desarrollar una funcion que reciba por parametro un nombre de un color y un numero, la funcion debe imprimir, \"El cielo es de color X y veo Y pajaros\". Donde X es el color e Y el numero."
      ]
    },
    {
      "cell_type": "code",
      "metadata": {
        "colab": {
          "base_uri": "https://localhost:8080/"
        },
        "id": "3K3jomU6OlL9",
        "outputId": "d8bcc8a7-aed8-485e-cc4d-276a397ca08a"
      },
      "source": [
        "def cielo(color,numero):\n",
        "  #print(\"El cielo es de color \"+color+\" y veo \"+str(numero)+\" pajaros\")\n",
        "  print(f\"El cielo es de color {color} y veo {numero} pajaros\")\n",
        "cielo(\"azul\",4)\n",
        "cielo(\"morado\",5)"
      ],
      "execution_count": null,
      "outputs": [
        {
          "output_type": "stream",
          "text": [
            "El cielo es de color azul y veo 4 pajaros\n",
            "El cielo es de color morado y veo 5 pajaros\n"
          ],
          "name": "stdout"
        }
      ]
    },
    {
      "cell_type": "markdown",
      "metadata": {
        "id": "s0Hi5GwdPvdV"
      },
      "source": [
        "Desarrollar una funcion que reciba el radio y la altura de un circulo, la funcion debe calcular el area del circulo y retornarla"
      ]
    },
    {
      "cell_type": "code",
      "metadata": {
        "colab": {
          "base_uri": "https://localhost:8080/"
        },
        "id": "7Q2GixABP55u",
        "outputId": "85d7a328-d89f-4780-85d8-8b7167d42e16"
      },
      "source": [
        "import math\n",
        "def area(radio, altura):\n",
        "  #area = pi * radio elevado a 2\n",
        "  area = math.pi * (radio ** 2)\n",
        "  return area\n",
        "\n",
        "area1 = area(4,5)\n",
        "print(area1)\n",
        "area2 = area(6,5)\n",
        "print(area2)"
      ],
      "execution_count": null,
      "outputs": [
        {
          "output_type": "stream",
          "text": [
            "50.26548245743669\n",
            "113.09733552923255\n"
          ],
          "name": "stdout"
        }
      ]
    },
    {
      "cell_type": "markdown",
      "metadata": {
        "id": "lEzbkPuEQ3Tb"
      },
      "source": [
        "Utilizando la funcion anterior, agregar otra que permita calcular el perimetro de un circulo."
      ]
    },
    {
      "cell_type": "code",
      "metadata": {
        "colab": {
          "base_uri": "https://localhost:8080/"
        },
        "id": "Cq8ebSf_RAYd",
        "outputId": "79dd6004-6ceb-4dfc-8708-4f404bbb0d58"
      },
      "source": [
        "#perimetro = 2 * pi * r\n",
        "import math\n",
        "\n",
        "def circulo(radio):\n",
        "\n",
        "    p = 2 * math.pi * radio \n",
        "\n",
        "    return p\n",
        "\n",
        "p1 = circulo(5)\n",
        "\n",
        "print(p1)"
      ],
      "execution_count": null,
      "outputs": [
        {
          "output_type": "stream",
          "text": [
            "31.41592653589793\n"
          ],
          "name": "stdout"
        }
      ]
    },
    {
      "cell_type": "markdown",
      "metadata": {
        "id": "mXjCEYvkSKXZ"
      },
      "source": [
        "Definir una funcion que reciba por parametro el radio y la altura de un circulo, la funcion debe calcular el area y el perimetro. Debe retornar el area y el perimetro."
      ]
    },
    {
      "cell_type": "code",
      "metadata": {
        "colab": {
          "base_uri": "https://localhost:8080/"
        },
        "id": "Z500eAwOSW0P",
        "outputId": "5813b981-0354-4fab-c5d3-589726b19261"
      },
      "source": [
        "import math\n",
        "def circulo(radio,altura):\n",
        "  area = math.pi * (radio ** 2)\n",
        "  p = 2 * math.pi * radio \n",
        "  return area,p\n",
        "\n",
        "\n",
        "r = float(input(\"Ingrese area: \"))\n",
        "alt = float(input(\"Ingrese altura: \"))\n",
        "a,p = circulo(r,alt)\n",
        "print(f'El area es: {a:.2f}')\n",
        "print(f'El perimetro es: {p:.2f}')"
      ],
      "execution_count": null,
      "outputs": [
        {
          "output_type": "stream",
          "text": [
            "Ingrese area: 3\n",
            "Ingrese altura: 5\n",
            "El area es: 28.27\n",
            "El perimetro es: 18.85\n"
          ],
          "name": "stdout"
        }
      ]
    },
    {
      "cell_type": "markdown",
      "metadata": {
        "id": "x3aOfX5V49yx"
      },
      "source": [
        "## Guia "
      ]
    },
    {
      "cell_type": "markdown",
      "metadata": {
        "id": "ZUGSNkE15AAR"
      },
      "source": [
        "1.\tRealiza una función que pida al usuario el curso en el cual está inscrito e imprima “Bienvenido al curso de …“.  "
      ]
    },
    {
      "cell_type": "code",
      "metadata": {
        "colab": {
          "base_uri": "https://localhost:8080/"
        },
        "id": "tEhYvT9P5Hnz",
        "outputId": "f6eab893-defb-4972-e252-5f8c27886863"
      },
      "source": [
        "def curso():\n",
        "  c = input(\"Ingrese su curso: \")\n",
        "  print(\"Bienvenido al curso de\",c)\n",
        "\n",
        "curso()"
      ],
      "execution_count": null,
      "outputs": [
        {
          "output_type": "stream",
          "text": [
            "Ingrese su curso: Mate\n",
            "Bienvenido al curso de Mate\n"
          ],
          "name": "stdout"
        }
      ]
    },
    {
      "cell_type": "code",
      "metadata": {
        "id": "MozQd9ug5vWU"
      },
      "source": [
        "def curso():\n",
        "  nombre = input(\"Ingrese nombre del curso: \")\n",
        "  print(\"Bienvenido al curso de \"+nombre)\n",
        "\n",
        "curso()"
      ],
      "execution_count": null,
      "outputs": []
    },
    {
      "cell_type": "markdown",
      "metadata": {
        "id": "7-7XUdtr552E"
      },
      "source": [
        "2.\tRealiza una función que sume dos números pasados por parámetros."
      ]
    },
    {
      "cell_type": "code",
      "metadata": {
        "id": "PIia6AxR57xE"
      },
      "source": [
        "def sumar(num1,num2):\n",
        "  r = num1 + num2\n",
        "\n",
        "sumar(1,2)"
      ],
      "execution_count": null,
      "outputs": []
    },
    {
      "cell_type": "markdown",
      "metadata": {
        "id": "zctT4ihE6N1g"
      },
      "source": [
        "3.\tRealiza una función que indique si un número pasado por parámetro es par o impar."
      ]
    },
    {
      "cell_type": "code",
      "metadata": {
        "colab": {
          "base_uri": "https://localhost:8080/"
        },
        "id": "h5-SMr_h6Orn",
        "outputId": "9f3b7a5d-654e-4bc4-b8b5-369a79363c75"
      },
      "source": [
        "def par(num):\n",
        "  if num % 2 == 0:\n",
        "    print(\"Es par\")\n",
        "  else:\n",
        "    print(\"No es par\")\n",
        "\n",
        "par(2)\n",
        "par(3)\n",
        "par(7)"
      ],
      "execution_count": null,
      "outputs": [
        {
          "output_type": "stream",
          "text": [
            "Es par\n",
            "No es par\n",
            "No es par\n"
          ],
          "name": "stdout"
        }
      ]
    },
    {
      "cell_type": "markdown",
      "metadata": {
        "id": "ZsjDXjP26qZP"
      },
      "source": [
        "4.\tCrea una función que dados dos números mostrará todos los números que hay entre ellos."
      ]
    },
    {
      "cell_type": "code",
      "metadata": {
        "colab": {
          "base_uri": "https://localhost:8080/"
        },
        "id": "1PtIObnW6rET",
        "outputId": "a81b68b6-27b1-4390-d41c-5c0087e10409"
      },
      "source": [
        "def correlativos(n1,n2):\n",
        "  for i in range(n1+1,n2):\n",
        "    print(i)\n",
        "\n",
        "correlativos(3,7)"
      ],
      "execution_count": null,
      "outputs": [
        {
          "output_type": "stream",
          "text": [
            "4\n",
            "5\n",
            "6\n"
          ],
          "name": "stdout"
        }
      ]
    },
    {
      "cell_type": "markdown",
      "metadata": {
        "id": "VoVmZRfn7fXm"
      },
      "source": [
        "5.\tRealiza una función que multiplique dos números pasados por parámetros y retorne el resultado de la multiplicación."
      ]
    },
    {
      "cell_type": "code",
      "metadata": {
        "colab": {
          "base_uri": "https://localhost:8080/"
        },
        "id": "48jmlZMf7hsU",
        "outputId": "4f599f7a-bd10-49d5-9349-faa2a558b9ac"
      },
      "source": [
        "def multiplicacion(n1,n2):\n",
        "  r = n1 * n2\n",
        "  return r\n",
        "\n",
        "print(multiplicacion(4,2))"
      ],
      "execution_count": null,
      "outputs": [
        {
          "output_type": "stream",
          "text": [
            "8\n"
          ],
          "name": "stdout"
        }
      ]
    },
    {
      "cell_type": "markdown",
      "metadata": {
        "id": "rjOddU-n7hH7"
      },
      "source": [
        "6.\tRealiza una función que muestre el numero de caracteres de una cadena, pasando por parámetro la cadena y retornando el número de caracteres."
      ]
    },
    {
      "cell_type": "code",
      "metadata": {
        "colab": {
          "base_uri": "https://localhost:8080/"
        },
        "id": "-bPeuB1g70Cy",
        "outputId": "9fba009a-6c78-42c4-ea02-3a29264f3a75"
      },
      "source": [
        "def largo(cadena):\n",
        "  l = len(cadena)\n",
        "  print(l)\n",
        "  return l\n",
        "\n",
        "variable = largo(\"luis\")"
      ],
      "execution_count": null,
      "outputs": [
        {
          "output_type": "stream",
          "text": [
            "4\n"
          ],
          "name": "stdout"
        }
      ]
    },
    {
      "cell_type": "code",
      "metadata": {
        "colab": {
          "base_uri": "https://localhost:8080/"
        },
        "id": "7XVF6nDh8dZl",
        "outputId": "64324b11-3cc2-4b40-881d-44a9d0c878ff"
      },
      "source": [
        "def caracter(a):\n",
        "\n",
        "  carac= len(a)\n",
        "\n",
        "  print(f\"LA CANTIDAD DE CARACTERES EN ESTA CADENA ES DE : {carac}\")\n",
        "\n",
        "  return carac\n",
        "\n",
        "\n",
        "\n",
        "cadena = input(\"ingrese cualquier cosa:\")\n",
        "\n",
        "a = caracter(cadena)"
      ],
      "execution_count": null,
      "outputs": [
        {
          "output_type": "stream",
          "text": [
            "ingrese cualquier cosa:Carlos\n",
            "LA CANTIDAD DE CARACTERES EN ESTA CADENA ES DE : 6\n"
          ],
          "name": "stdout"
        }
      ]
    },
    {
      "cell_type": "code",
      "metadata": {
        "id": "XARk4diK8tjF"
      },
      "source": [
        "def n_caracteres(cadena):\n",
        "\n",
        "  largo = len(cadena)\n",
        "\n",
        "  return largo\n",
        "\n",
        "\n",
        "\n",
        "largo = n_caracteres(\"Hola\")\n",
        "\n",
        "print(largo)"
      ],
      "execution_count": null,
      "outputs": []
    },
    {
      "cell_type": "code",
      "metadata": {
        "id": "34VYeWIU85US"
      },
      "source": [
        "def car(a):\n",
        "\n",
        "  s = len(a)\n",
        "\n",
        "  return s\n",
        "\n",
        "\n",
        "\n",
        "d = car(\"copito\")\n",
        "\n",
        "print(d)"
      ],
      "execution_count": null,
      "outputs": []
    },
    {
      "cell_type": "markdown",
      "metadata": {
        "id": "azsZu0Uf9LfU"
      },
      "source": [
        "7.\tRealiza una función que reciba dos cadenas, la función debe detectar cuantas veces aparece la segunda cadena en la primera y retornan dicha cantidad. (La segunda cadena solo tiene un caracter)"
      ]
    },
    {
      "cell_type": "code",
      "metadata": {
        "colab": {
          "base_uri": "https://localhost:8080/"
        },
        "id": "idJLQl0J9NVL",
        "outputId": "2f3e1b68-403d-442e-c36c-dc2f5d6febe5"
      },
      "source": [
        "def contar_cadena(cadena1,cadena2):\n",
        "  contador = 0\n",
        "  for x in cadena1:\n",
        "    if x == cadena2:\n",
        "      contador += 1\n",
        "  \n",
        "  return contador\n",
        "\n",
        "print(contar_cadena(\"Hola Mundo\",\"o\"))"
      ],
      "execution_count": null,
      "outputs": [
        {
          "output_type": "stream",
          "text": [
            "2\n"
          ],
          "name": "stdout"
        }
      ]
    },
    {
      "cell_type": "markdown",
      "metadata": {
        "id": "MnU0bJCc-F0w"
      },
      "source": [
        "8.\tRealiza un programa que pida al usuario dos números y le solicite cuatro opciones, si el usuario indica la primera opción deberá llamar a una función que sume ambos números y muestre el resultado, si indica la segunda opción debe llamar a otra función que reste ambos números y muestre el resultado, si indica la tercera opción debe llamar a otra función que multiplique ambos números y muestre el resultado y en caso de ser la cuarta opción debe llamar a una función que permita dividir ambos números y mostrar el resultado"
      ]
    },
    {
      "cell_type": "code",
      "metadata": {
        "colab": {
          "base_uri": "https://localhost:8080/"
        },
        "id": "GvkrZQ93-Gm2",
        "outputId": "13d7b899-3ca0-4851-8499-5c7a3b719073"
      },
      "source": [
        "def sumar(n1,n2):\n",
        "  r = n1 + n2\n",
        "  print(r)\n",
        "def restar(n1,n2):\n",
        "  r = n1 - n2\n",
        "  print(r)\n",
        "def multiplicar(n1,n2):\n",
        "  r = n1 * n2\n",
        "  print(r)\n",
        "def dividir(n1,n2):\n",
        "  r = n1 / n2\n",
        "  print(r)\n",
        "\n",
        "n1 = float(input(\"Ingrese numero 1: \"))\n",
        "n2 = float(input(\"Ingrese numero 2: \"))\n",
        "print(\"Menu:\")\n",
        "print(\"1.- Sumar\")\n",
        "print(\"2.- Restar\")\n",
        "print(\"3.- Multiplicar\")\n",
        "print(\"4.- Dividir\")\n",
        "opcion = input(\"Ingrese la operacion a ejecutar: \")\n",
        "if opcion == \"1\":\n",
        "  sumar(n1,n2)\n",
        "elif opcion == \"2\":\n",
        "  restar(n1,n2)\n",
        "elif opcion == \"3\":\n",
        "  multiplicar(n1,n2)\n",
        "elif opcion == \"4\":\n",
        "  dividir(n1,n2)  "
      ],
      "execution_count": null,
      "outputs": [
        {
          "output_type": "stream",
          "text": [
            "Ingrese numero 1: 4\n",
            "Ingrese numero 2: 5\n",
            "Menu:\n",
            "1.- Sumar\n",
            "2.- Restar\n",
            "3.- Multiplicar\n",
            "4.- Dividir\n",
            "Ingrese la operacion a ejecutar: 4\n",
            "0.8\n"
          ],
          "name": "stdout"
        }
      ]
    },
    {
      "cell_type": "markdown",
      "metadata": {
        "id": "5Fe1jbhDAuAD"
      },
      "source": [
        "9.\tRealiza una función que reciba por parámetro un numero de notas, la función debe calcular el promedio de esa cantidad de notas, la nota más baja y la más alta, y finalmente retornar las tres (promedio, baja y alta). "
      ]
    },
    {
      "cell_type": "code",
      "metadata": {
        "colab": {
          "base_uri": "https://localhost:8080/"
        },
        "id": "Yrl3TqBTAwTq",
        "outputId": "d4f4c7cc-04fc-40d6-e48f-2f54195340d3"
      },
      "source": [
        "def calcular_notas(notas):\n",
        "  sum = 0\n",
        "  baja = 7\n",
        "  alta = 1\n",
        "  for i in range(notas):\n",
        "    nota = float(input(\"Ingrese nota \"+str(i+1)+\": \"))\n",
        "    sum += nota\n",
        "    if nota < baja:\n",
        "      baja = nota\n",
        "    if nota > alta:\n",
        "      alta = nota\n",
        "  promedio = sum / notas\n",
        "  return promedio,baja,alta\n",
        "\n",
        "p,b,a = calcular_notas(3)\n",
        "print(f'El promedio es: {p:.3f}')"
      ],
      "execution_count": null,
      "outputs": [
        {
          "output_type": "stream",
          "text": [
            "Ingrese nota 1: 4\n",
            "Ingrese nota 2: 2.4\n",
            "Ingrese nota 3: 3.7\n",
            "El promedio es: 3.367\n"
          ],
          "name": "stdout"
        }
      ]
    },
    {
      "cell_type": "markdown",
      "metadata": {
        "id": "0CKIDiSPCN41"
      },
      "source": [
        "10.\tRealiza una función que reciba por parámetro un numero de repeticiones, debe preguntar al usuario un numero e identificar si el numero es positivos, negativo o neutro y repetir esta acción la cantidad de veces indicada por parámetro. Debe retornar la cantidad de positivos, negativos y neutros."
      ]
    },
    {
      "cell_type": "code",
      "metadata": {
        "colab": {
          "base_uri": "https://localhost:8080/"
        },
        "id": "XoUF8fctCQAu",
        "outputId": "a8d1fba6-ac0c-4710-fcbb-a75089e51d4e"
      },
      "source": [
        "def contar(repeticiones):\n",
        "  negativos = 0\n",
        "  positivos = 0\n",
        "  neutros = 0\n",
        "  for i in range(repeticiones):\n",
        "    numero = float(input(\"Ingrese un numero: \"))\n",
        "    if numero == 0:\n",
        "      neutros += 1\n",
        "    elif numero > 0:\n",
        "      positivos += 1\n",
        "    else:\n",
        "      negativos += 1\n",
        "  return positivos,negativos,neutros \n",
        "\n",
        "pos,neg,neu = contar(2)\n",
        "print(pos)"
      ],
      "execution_count": null,
      "outputs": [
        {
          "output_type": "stream",
          "text": [
            "Ingrese un numero: 4\n",
            "Ingrese un numero: 0\n",
            "1\n"
          ],
          "name": "stdout"
        }
      ]
    },
    {
      "cell_type": "code",
      "metadata": {
        "colab": {
          "base_uri": "https://localhost:8080/"
        },
        "id": "9PkY1UDIIR-h",
        "outputId": "a13b3b27-31ec-4579-d6f3-29faf1490ec3"
      },
      "source": [
        "def test():\n",
        "  global a\n",
        "  a = 2\n",
        "  print(a)\n",
        "a = 1\n",
        "test()\n",
        "print(a)"
      ],
      "execution_count": null,
      "outputs": [
        {
          "output_type": "stream",
          "text": [
            "2\n",
            "2\n"
          ],
          "name": "stdout"
        }
      ]
    },
    {
      "cell_type": "code",
      "metadata": {
        "colab": {
          "base_uri": "https://localhost:8080/"
        },
        "id": "7WJ8My8LKpjb",
        "outputId": "3f8725ad-a1d8-4e88-b397-9ff2d09a8b00"
      },
      "source": [
        "ord(\"n\")"
      ],
      "execution_count": null,
      "outputs": [
        {
          "output_type": "execute_result",
          "data": {
            "text/plain": [
              "110"
            ]
          },
          "metadata": {
            "tags": []
          },
          "execution_count": 10
        }
      ]
    },
    {
      "cell_type": "markdown",
      "metadata": {
        "id": "-J3tPOSa3fJH"
      },
      "source": [
        "# Tuplas\n"
      ]
    },
    {
      "cell_type": "code",
      "metadata": {
        "colab": {
          "base_uri": "https://localhost:8080/"
        },
        "id": "OhzDwv533gq3",
        "outputId": "19cb8658-9e68-430e-c06b-5d8b26fc7da9"
      },
      "source": [
        "t1 = () #Declara una tupla vacia\n",
        "t1 = \"Jorge\",\"david\",\"Carlos\"\n",
        "print(t1)\n"
      ],
      "execution_count": null,
      "outputs": [
        {
          "output_type": "stream",
          "text": [
            "('Jorge', 'david', 'Carlos')\n"
          ],
          "name": "stdout"
        }
      ]
    },
    {
      "cell_type": "code",
      "metadata": {
        "colab": {
          "base_uri": "https://localhost:8080/"
        },
        "id": "rqhaRjO730Eu",
        "outputId": "1f43a736-00a4-44b3-9c9a-604b75cd2f14"
      },
      "source": [
        "t1 = \"Jorge\",\"Munoz\",21,1.65\n",
        "print(t1)\n"
      ],
      "execution_count": null,
      "outputs": [
        {
          "output_type": "stream",
          "text": [
            "('Jorge', 'Munoz', 21, 1.65)\n"
          ],
          "name": "stdout"
        }
      ]
    },
    {
      "cell_type": "code",
      "metadata": {
        "colab": {
          "base_uri": "https://localhost:8080/"
        },
        "id": "hTru-u3t4Dsm",
        "outputId": "22fd65b0-c979-4cb6-c6be-b31d61aa7f3d"
      },
      "source": [
        "t1 = \"Jorge\",\"Munoz\",21,1.65\n",
        "print(f'Nombre: {t1[0]}')\n",
        "print(f'Apellido: {t1[1]}')\n",
        "print(f'Edad: {t1[2]}')\n",
        "print(f'Altura: {t1[3]}')"
      ],
      "execution_count": null,
      "outputs": [
        {
          "output_type": "stream",
          "text": [
            "Nombre: Jorge\n",
            "Apellido: Munoz\n",
            "Edad: 21\n",
            "Altura: 1.65\n"
          ],
          "name": "stdout"
        }
      ]
    },
    {
      "cell_type": "code",
      "metadata": {
        "colab": {
          "base_uri": "https://localhost:8080/"
        },
        "id": "fAC-p7Cg4qmh",
        "outputId": "662f0778-be73-4568-f250-f4e4f08c1fed"
      },
      "source": [
        "notas = (7,4.2,6.5,3)\n",
        "print(notas)"
      ],
      "execution_count": null,
      "outputs": [
        {
          "output_type": "stream",
          "text": [
            "(7, 4.2, 6.5, 3)\n"
          ],
          "name": "stdout"
        }
      ]
    },
    {
      "cell_type": "code",
      "metadata": {
        "colab": {
          "base_uri": "https://localhost:8080/"
        },
        "id": "wL4xdXqv41kW",
        "outputId": "14bd5d74-3f40-49c5-9600-28633bbc36d1"
      },
      "source": [
        "t1 = \"Jorge\",\"Munoz\",21,1.65\n",
        "print(t1[0:2])\n",
        "print(t1[1:3])\n",
        "print(t1[0:3:2])\n",
        "print(t1[::3])\n",
        "print(t1[1::2])"
      ],
      "execution_count": null,
      "outputs": [
        {
          "output_type": "stream",
          "text": [
            "('Jorge', 'Munoz')\n",
            "('Munoz', 21)\n",
            "('Jorge', 21)\n",
            "('Jorge', 1.65)\n",
            "('Munoz', 1.65)\n"
          ],
          "name": "stdout"
        }
      ]
    },
    {
      "cell_type": "code",
      "metadata": {
        "colab": {
          "base_uri": "https://localhost:8080/"
        },
        "id": "t8PbXVxD6k_X",
        "outputId": "496a23f5-509d-44b7-cf87-a5700466f08d"
      },
      "source": [
        "datos = ((\"Jorge\",\"Munoz\",21),(\"Juan\",\"Chong\",22),(\"Carlos\",\"Madariaga\",20))\n",
        "print(datos)\n",
        "print(datos[0])\n",
        "print(datos[1])\n",
        "print(datos[2])\n",
        "print(datos[1][0])\n",
        "print(datos[2][1])"
      ],
      "execution_count": null,
      "outputs": [
        {
          "output_type": "stream",
          "text": [
            "(('Jorge', 'Munoz', 21), ('Juan', 'Chong', 22), ('Carlos', 'Madariaga', 20))\n",
            "('Jorge', 'Munoz', 21)\n",
            "('Juan', 'Chong', 22)\n",
            "('Carlos', 'Madariaga', 20)\n",
            "Juan\n",
            "Madariaga\n"
          ],
          "name": "stdout"
        }
      ]
    },
    {
      "cell_type": "code",
      "metadata": {
        "colab": {
          "base_uri": "https://localhost:8080/"
        },
        "id": "n07arSAH8bj1",
        "outputId": "6a4475bb-3b05-48e5-ef83-e91aedd0e93c"
      },
      "source": [
        "t1 = \"Jorge\",\"david\",\"Carlos\"\n",
        "for i in t1:\n",
        "  print(i)"
      ],
      "execution_count": null,
      "outputs": [
        {
          "output_type": "stream",
          "text": [
            "Jorge\n",
            "david\n",
            "Carlos\n"
          ],
          "name": "stdout"
        }
      ]
    },
    {
      "cell_type": "code",
      "metadata": {
        "colab": {
          "base_uri": "https://localhost:8080/"
        },
        "id": "Yun5E8_J8pXm",
        "outputId": "9a20c555-6765-4057-c36c-dde7f67c63fb"
      },
      "source": [
        "datos = ((\"Jorge\",\"Munoz\",21),(\"Juan\",\"Chong\",22),(\"Carlos\",\"Madariaga\",20))\n",
        "for i in datos:\n",
        "  print(i)"
      ],
      "execution_count": null,
      "outputs": [
        {
          "output_type": "stream",
          "text": [
            "('Jorge', 'Munoz', 21)\n",
            "('Juan', 'Chong', 22)\n",
            "('Carlos', 'Madariaga', 20)\n"
          ],
          "name": "stdout"
        }
      ]
    },
    {
      "cell_type": "code",
      "metadata": {
        "colab": {
          "base_uri": "https://localhost:8080/"
        },
        "id": "EWWQpQud8xgu",
        "outputId": "6c7f0543-a21d-469c-eef0-f86953a84d61"
      },
      "source": [
        "datos = ((\"Jorge\",\"Munoz\",21),(\"Juan\",\"Chong\",22),(\"Carlos\",\"Madariaga\",20))\n",
        "for i in datos:\n",
        "  print(f'Nombre: {i[0]}')\n",
        "  print(f'Apellido: {i[1]}')\n",
        "  print(f'Edad: {i[2]}')"
      ],
      "execution_count": null,
      "outputs": [
        {
          "output_type": "stream",
          "text": [
            "Nombre: Jorge\n",
            "Apellido: Munoz\n",
            "Edad: 21\n",
            "Nombre: Juan\n",
            "Apellido: Chong\n",
            "Edad: 22\n",
            "Nombre: Carlos\n",
            "Apellido: Madariaga\n",
            "Edad: 20\n"
          ],
          "name": "stdout"
        }
      ]
    },
    {
      "cell_type": "code",
      "metadata": {
        "colab": {
          "base_uri": "https://localhost:8080/"
        },
        "id": "YTKfVQ0p9TIJ",
        "outputId": "a4b1ebff-1599-45d7-a2c7-c1ce1ceaa102"
      },
      "source": [
        "datos = ((\"Jorge\",\"Munoz\",21),(\"Juan\",\"Chong\",22),(\"Carlos\",\"Madariaga\",20))\n",
        "for i in datos:\n",
        "  for x in i:\n",
        "    print(x)"
      ],
      "execution_count": null,
      "outputs": [
        {
          "output_type": "stream",
          "text": [
            "Jorge\n",
            "Munoz\n",
            "21\n",
            "Juan\n",
            "Chong\n",
            "22\n",
            "Carlos\n",
            "Madariaga\n",
            "20\n"
          ],
          "name": "stdout"
        }
      ]
    },
    {
      "cell_type": "code",
      "metadata": {
        "colab": {
          "base_uri": "https://localhost:8080/"
        },
        "id": "5L5wCrZ19r83",
        "outputId": "9bc94fbf-001f-4a1b-b9fa-9b6c12300415"
      },
      "source": [
        "notas = ((2,4),(3,5,6),(4,3.2,2.8))\n",
        "\n",
        "for i in notas:\n",
        "  sum = 0\n",
        "  for x in i:\n",
        "    sum += x\n",
        "  print(f\"La suma es: {sum}\")"
      ],
      "execution_count": null,
      "outputs": [
        {
          "output_type": "stream",
          "text": [
            "La suma es: 6\n",
            "La suma es: 14\n",
            "La suma es: 10.0\n"
          ],
          "name": "stdout"
        }
      ]
    },
    {
      "cell_type": "code",
      "metadata": {
        "colab": {
          "base_uri": "https://localhost:8080/"
        },
        "id": "Ddp0pACd-cp_",
        "outputId": "51aa3f56-5916-43c6-9ed3-2333cdbe4107"
      },
      "source": [
        "t1 = \"Jorge\",\"david\",\"Carlos\"\n",
        "nombre = input(\"A quien busca: \")\n",
        "r  = nombre in t1\n",
        "print(r)"
      ],
      "execution_count": null,
      "outputs": [
        {
          "output_type": "stream",
          "text": [
            "A quien busca: Jorge\n",
            "True\n"
          ],
          "name": "stdout"
        }
      ]
    },
    {
      "cell_type": "code",
      "metadata": {
        "colab": {
          "base_uri": "https://localhost:8080/"
        },
        "id": "j5MQ4okv-24P",
        "outputId": "59248a19-2901-471a-db6c-d4c3ade939fa"
      },
      "source": [
        "t1 = 4,5,6,7\n",
        "r = 6 in t1\n",
        "print(r)"
      ],
      "execution_count": null,
      "outputs": [
        {
          "output_type": "stream",
          "text": [
            "True\n"
          ],
          "name": "stdout"
        }
      ]
    },
    {
      "cell_type": "code",
      "metadata": {
        "colab": {
          "base_uri": "https://localhost:8080/"
        },
        "id": "mtLZVM1H_DQ3",
        "outputId": "5e8a2c93-5de3-4a06-e5b4-fe5177527bd6"
      },
      "source": [
        "t1 = \"Jorge\",\"david\",\"Carlos\"\n",
        "nombre = input(\"A quien busca: \")\n",
        "r  = nombre not in t1 #Afirmo que ese nombre no esta en t1\n",
        "print(r)"
      ],
      "execution_count": null,
      "outputs": [
        {
          "output_type": "stream",
          "text": [
            "A quien busca: jose\n",
            "True\n"
          ],
          "name": "stdout"
        }
      ]
    },
    {
      "cell_type": "code",
      "metadata": {
        "colab": {
          "base_uri": "https://localhost:8080/"
        },
        "id": "2cCyHd98_WXf",
        "outputId": "397fd1f9-765d-4b80-ff5b-5c0054bea478"
      },
      "source": [
        "t1 = 4, 5 ,6\n",
        "t2 = 5,7,8\n",
        "r = t1 + t2\n",
        "print(r)"
      ],
      "execution_count": null,
      "outputs": [
        {
          "output_type": "stream",
          "text": [
            "(4, 5, 6, 5, 7, 8)\n"
          ],
          "name": "stdout"
        }
      ]
    },
    {
      "cell_type": "code",
      "metadata": {
        "colab": {
          "base_uri": "https://localhost:8080/"
        },
        "id": "B5rB5Mxa_lPh",
        "outputId": "3e9e4f6e-c427-4e6b-b14f-a2b699812dfc"
      },
      "source": [
        "t1 = 4, \"hola\" ,47.5\n",
        "t2 = \"chao\",7,8\n",
        "r = t1 + t2\n",
        "print(r)"
      ],
      "execution_count": null,
      "outputs": [
        {
          "output_type": "stream",
          "text": [
            "(4, 'hola', 47.5, 'chao', 7, 8)\n"
          ],
          "name": "stdout"
        }
      ]
    },
    {
      "cell_type": "code",
      "metadata": {
        "colab": {
          "base_uri": "https://localhost:8080/"
        },
        "id": "WZjelhp2_tKt",
        "outputId": "0d2a9af2-ce00-4716-c25c-d90281674e4e"
      },
      "source": [
        "t1 = 4, 5 ,6\n",
        "r = t1 * 3\n",
        "print(r)"
      ],
      "execution_count": null,
      "outputs": [
        {
          "output_type": "stream",
          "text": [
            "(4, 5, 6, 4, 5, 6, 4, 5, 6)\n"
          ],
          "name": "stdout"
        }
      ]
    },
    {
      "cell_type": "code",
      "metadata": {
        "colab": {
          "base_uri": "https://localhost:8080/"
        },
        "id": "18BQZQoIABwH",
        "outputId": "5055ee1c-4c53-41e8-edf2-410af1b3373e"
      },
      "source": [
        "t1 = 4, \"hola\" ,47.5\n",
        "l = len(t1)\n",
        "print(l)"
      ],
      "execution_count": null,
      "outputs": [
        {
          "output_type": "stream",
          "text": [
            "3\n"
          ],
          "name": "stdout"
        }
      ]
    },
    {
      "cell_type": "code",
      "metadata": {
        "colab": {
          "base_uri": "https://localhost:8080/"
        },
        "id": "yW56C1LKANeg",
        "outputId": "629a2972-3290-4100-da35-26ab1302bced"
      },
      "source": [
        "datos = ((\"Jorge\",21),(\"Juan\",22),(\"Carlos\",20))\n",
        "l = len(datos)\n",
        "print(l)\n",
        "l1 = len(datos[0])\n",
        "print(l1)"
      ],
      "execution_count": null,
      "outputs": [
        {
          "output_type": "stream",
          "text": [
            "3\n",
            "2\n"
          ],
          "name": "stdout"
        }
      ]
    },
    {
      "cell_type": "code",
      "metadata": {
        "colab": {
          "base_uri": "https://localhost:8080/"
        },
        "id": "HA9uLkKHA40H",
        "outputId": "c3a0ee80-933f-47b2-99a7-e67e8ce6bcae"
      },
      "source": [
        "edades = 21,22,25,35,16,17,18,16,12,24,22\n",
        "print(edades)\n",
        "r = min(edades)\n",
        "print(r)\n",
        "r1 = max(edades)\n",
        "print(r1)"
      ],
      "execution_count": null,
      "outputs": [
        {
          "output_type": "stream",
          "text": [
            "(21, 22, 25, 35, 16, 17, 18, 16, 12, 24, 22)\n",
            "12\n",
            "35\n"
          ],
          "name": "stdout"
        }
      ]
    },
    {
      "cell_type": "code",
      "metadata": {
        "colab": {
          "base_uri": "https://localhost:8080/"
        },
        "id": "hfztUxY9BQtW",
        "outputId": "3adc0919-1611-4ca1-877d-0ccc60df3740"
      },
      "source": [
        "notas = 4,3.2,4.5,6.2,4.4\n",
        "baja = min(notas)\n",
        "print(baja)\n",
        "alta = max(notas)\n",
        "print(alta)"
      ],
      "execution_count": null,
      "outputs": [
        {
          "output_type": "stream",
          "text": [
            "3.2\n",
            "6.2\n"
          ],
          "name": "stdout"
        }
      ]
    },
    {
      "cell_type": "code",
      "metadata": {
        "colab": {
          "base_uri": "https://localhost:8080/"
        },
        "id": "fe5XTkM2BiOm",
        "outputId": "57232b08-055a-47d7-8f51-8ec00db8cd16"
      },
      "source": [
        "datos = \"b\",\"a\",\"c\",\"z\",\"h\",\"Z\",\"A\"\n",
        "r = min(datos)\n",
        "print(r)\n",
        "r1 = max(datos)\n",
        "print(r1)"
      ],
      "execution_count": null,
      "outputs": [
        {
          "output_type": "stream",
          "text": [
            "A\n",
            "z\n"
          ],
          "name": "stdout"
        }
      ]
    },
    {
      "cell_type": "code",
      "metadata": {
        "colab": {
          "base_uri": "https://localhost:8080/"
        },
        "id": "AmvJuCMgCI8u",
        "outputId": "5b280d9a-a93f-4b4d-e508-32b190994028"
      },
      "source": [
        "datos = \"ba\",\"al\",\"zar\",\"ab\"\n",
        "r = min(datos)\n",
        "print(r)\n",
        "r1 = max(datos)\n",
        "print(r1)"
      ],
      "execution_count": null,
      "outputs": [
        {
          "output_type": "stream",
          "text": [
            "ab\n",
            "zar\n"
          ],
          "name": "stdout"
        }
      ]
    },
    {
      "cell_type": "code",
      "metadata": {
        "colab": {
          "base_uri": "https://localhost:8080/"
        },
        "id": "VmLMIjWbP5Qk",
        "outputId": "09e0bd61-6773-4484-b8b9-d8e8bfbec6bd"
      },
      "source": [
        "t1 = \"Jorge\",\"david\",\"Carlos\"\n",
        "print(t1[0])\n",
        "t1 = \"Jorge1\",\"david1\",\"Carlos1\"\n",
        "print(t1[0])\n",
        "#t1[0] = \"Juan\"\n",
        "print(t1)"
      ],
      "execution_count": null,
      "outputs": [
        {
          "output_type": "stream",
          "text": [
            "Jorge\n",
            "Jorge1\n",
            "('Jorge1', 'david1', 'Carlos1')\n"
          ],
          "name": "stdout"
        }
      ]
    },
    {
      "cell_type": "code",
      "metadata": {
        "colab": {
          "base_uri": "https://localhost:8080/",
          "height": 180
        },
        "id": "Ue7OJYDEWAre",
        "outputId": "87316999-9a06-47f1-b376-cd4bd234fddc"
      },
      "source": [
        "t1 = \"Jorge\",\"david\",\"Carlos\"\n",
        "t1.append(\"Juan\")"
      ],
      "execution_count": null,
      "outputs": [
        {
          "output_type": "error",
          "ename": "AttributeError",
          "evalue": "ignored",
          "traceback": [
            "\u001b[0;31m---------------------------------------------------------------------------\u001b[0m",
            "\u001b[0;31mAttributeError\u001b[0m                            Traceback (most recent call last)",
            "\u001b[0;32m<ipython-input-30-0236ac19398f>\u001b[0m in \u001b[0;36m<module>\u001b[0;34m()\u001b[0m\n\u001b[1;32m      1\u001b[0m \u001b[0mt1\u001b[0m \u001b[0;34m=\u001b[0m \u001b[0;34m\"Jorge\"\u001b[0m\u001b[0;34m,\u001b[0m\u001b[0;34m\"david\"\u001b[0m\u001b[0;34m,\u001b[0m\u001b[0;34m\"Carlos\"\u001b[0m\u001b[0;34m\u001b[0m\u001b[0;34m\u001b[0m\u001b[0m\n\u001b[0;32m----> 2\u001b[0;31m \u001b[0mt1\u001b[0m\u001b[0;34m.\u001b[0m\u001b[0mappend\u001b[0m\u001b[0;34m(\u001b[0m\u001b[0;34m\"Juan\"\u001b[0m\u001b[0;34m)\u001b[0m\u001b[0;34m\u001b[0m\u001b[0;34m\u001b[0m\u001b[0m\n\u001b[0m",
            "\u001b[0;31mAttributeError\u001b[0m: 'tuple' object has no attribute 'append'"
          ]
        }
      ]
    },
    {
      "cell_type": "markdown",
      "metadata": {
        "id": "gCf2B7dtPy31"
      },
      "source": [
        "# Listas"
      ]
    },
    {
      "cell_type": "code",
      "metadata": {
        "colab": {
          "base_uri": "https://localhost:8080/"
        },
        "id": "kz4bSfDdP0Wa",
        "outputId": "26da3adc-3ac8-4357-bb02-a28de2a97836"
      },
      "source": [
        "l1 = [\"Jorge\",\"david\",\"Carlos\"]\n",
        "print(l1)"
      ],
      "execution_count": null,
      "outputs": [
        {
          "output_type": "stream",
          "text": [
            "['Jorge', 'david', 'Carlos']\n"
          ],
          "name": "stdout"
        }
      ]
    },
    {
      "cell_type": "code",
      "metadata": {
        "colab": {
          "base_uri": "https://localhost:8080/"
        },
        "id": "kip_iszOQr59",
        "outputId": "9c5da571-c761-4d7c-d7ce-80455a4e7da9"
      },
      "source": [
        "l1 = [\"Jorge\",21,1.65]\n",
        "print(l1)"
      ],
      "execution_count": null,
      "outputs": [
        {
          "output_type": "stream",
          "text": [
            "['Jorge', 21, 1.65]\n"
          ],
          "name": "stdout"
        }
      ]
    },
    {
      "cell_type": "code",
      "metadata": {
        "colab": {
          "base_uri": "https://localhost:8080/"
        },
        "id": "ZDp1WrK0Q4ns",
        "outputId": "a5af781a-c322-47c8-b3b7-a85354c1f254"
      },
      "source": [
        "l1 = [\"Jorge\",\"david\",\"Carlos\"]\n",
        "print(l1)\n",
        "l1[0] = \"Juanito\"\n",
        "print(l1)"
      ],
      "execution_count": null,
      "outputs": [
        {
          "output_type": "stream",
          "text": [
            "['Jorge', 'david', 'Carlos']\n",
            "['Juanito', 'david', 'Carlos']\n"
          ],
          "name": "stdout"
        }
      ]
    },
    {
      "cell_type": "code",
      "metadata": {
        "colab": {
          "base_uri": "https://localhost:8080/"
        },
        "id": "XnwJrXqFRIJs",
        "outputId": "458d2646-9913-48ad-fd71-95b8cc44f474"
      },
      "source": [
        "l1 = [\"Jorge\",\"david\",\"Carlos\"]\n",
        "print(l1[0])\n",
        "print(l1[1])\n",
        "print(l1[2])"
      ],
      "execution_count": null,
      "outputs": [
        {
          "output_type": "stream",
          "text": [
            "Jorge\n",
            "david\n",
            "Carlos\n"
          ],
          "name": "stdout"
        }
      ]
    },
    {
      "cell_type": "code",
      "metadata": {
        "colab": {
          "base_uri": "https://localhost:8080/"
        },
        "id": "NxuxcLBNRQld",
        "outputId": "253a8285-82fc-43d2-d0a0-a765ff6fdeff"
      },
      "source": [
        "l1 = [\"Jorge\",\"david\",\"Carlos\"]\n",
        "for i in l1:\n",
        "  print(i)"
      ],
      "execution_count": null,
      "outputs": [
        {
          "output_type": "stream",
          "text": [
            "Jorge\n",
            "david\n",
            "Carlos\n"
          ],
          "name": "stdout"
        }
      ]
    },
    {
      "cell_type": "code",
      "metadata": {
        "colab": {
          "base_uri": "https://localhost:8080/",
          "height": 197
        },
        "id": "Ju_MVvDQRi7J",
        "outputId": "c7c7f790-d183-42f9-ce3f-8bb5579c69a7"
      },
      "source": [
        "l1 = [\"Jorge\",\"david\",\"Carlos\"]\n",
        "del l1 ##eliminando la lista l1\n",
        "print(l1)"
      ],
      "execution_count": null,
      "outputs": [
        {
          "output_type": "error",
          "ename": "NameError",
          "evalue": "ignored",
          "traceback": [
            "\u001b[0;31m---------------------------------------------------------------------------\u001b[0m",
            "\u001b[0;31mNameError\u001b[0m                                 Traceback (most recent call last)",
            "\u001b[0;32m<ipython-input-12-60b20dc15c56>\u001b[0m in \u001b[0;36m<module>\u001b[0;34m()\u001b[0m\n\u001b[1;32m      1\u001b[0m \u001b[0ml1\u001b[0m \u001b[0;34m=\u001b[0m \u001b[0;34m[\u001b[0m\u001b[0;34m\"Jorge\"\u001b[0m\u001b[0;34m,\u001b[0m\u001b[0;34m\"david\"\u001b[0m\u001b[0;34m,\u001b[0m\u001b[0;34m\"Carlos\"\u001b[0m\u001b[0;34m]\u001b[0m\u001b[0;34m\u001b[0m\u001b[0;34m\u001b[0m\u001b[0m\n\u001b[1;32m      2\u001b[0m \u001b[0;32mdel\u001b[0m \u001b[0ml1\u001b[0m\u001b[0;34m\u001b[0m\u001b[0;34m\u001b[0m\u001b[0m\n\u001b[0;32m----> 3\u001b[0;31m \u001b[0mprint\u001b[0m\u001b[0;34m(\u001b[0m\u001b[0ml1\u001b[0m\u001b[0;34m)\u001b[0m\u001b[0;34m\u001b[0m\u001b[0;34m\u001b[0m\u001b[0m\n\u001b[0m",
            "\u001b[0;31mNameError\u001b[0m: name 'l1' is not defined"
          ]
        }
      ]
    },
    {
      "cell_type": "code",
      "metadata": {
        "colab": {
          "base_uri": "https://localhost:8080/"
        },
        "id": "Kl_sgdmVRqJv",
        "outputId": "5148ece2-1091-4b37-e23a-4d71f98edf9c"
      },
      "source": [
        "l1 = [\"Jorge\",\"david\",\"Carlos\"]\n",
        "del l1[1]\n",
        "print(l1)"
      ],
      "execution_count": null,
      "outputs": [
        {
          "output_type": "stream",
          "text": [
            "['Jorge', 'Carlos']\n"
          ],
          "name": "stdout"
        }
      ]
    },
    {
      "cell_type": "code",
      "metadata": {
        "colab": {
          "base_uri": "https://localhost:8080/"
        },
        "id": "L2McRKIdR8Ce",
        "outputId": "5d1b3829-d007-40cf-fa83-1e1b179f34fa"
      },
      "source": [
        "l1 = [[\"Jorge\",21],[\"David\",18],[\"Carlos\",19]]\n",
        "print(l1)"
      ],
      "execution_count": null,
      "outputs": [
        {
          "output_type": "stream",
          "text": [
            "[['Jorge', 21], ['David', 18], ['Carlos', 19]]\n"
          ],
          "name": "stdout"
        }
      ]
    },
    {
      "cell_type": "code",
      "metadata": {
        "colab": {
          "base_uri": "https://localhost:8080/"
        },
        "id": "h_H83DkESRGI",
        "outputId": "1519e19c-3ec5-4774-c9e6-476326c57f77"
      },
      "source": [
        "l1 = [[\"Jorge\",21],[\"David\",18],[\"Carlos\",19]]\n",
        "for i in l1:\n",
        "  if i[1] >18:\n",
        "    i[0] = \"Juan\"\n",
        "print(l1)"
      ],
      "execution_count": null,
      "outputs": [
        {
          "output_type": "stream",
          "text": [
            "[['Juan', 21], ['David', 18], ['Juan', 19]]\n"
          ],
          "name": "stdout"
        }
      ]
    },
    {
      "cell_type": "code",
      "metadata": {
        "colab": {
          "base_uri": "https://localhost:8080/"
        },
        "id": "x8d5swOkTdft",
        "outputId": "4573676f-4569-49b3-d4ab-77f70d417402"
      },
      "source": [
        "a = \"joselito\"\n",
        "for i in a:\n",
        "  print(i)"
      ],
      "execution_count": null,
      "outputs": [
        {
          "output_type": "stream",
          "text": [
            "j\n",
            "o\n",
            "s\n",
            "e\n",
            "l\n",
            "i\n",
            "t\n",
            "o\n"
          ],
          "name": "stdout"
        }
      ]
    },
    {
      "cell_type": "code",
      "metadata": {
        "colab": {
          "base_uri": "https://localhost:8080/"
        },
        "id": "hDMuANF2SqT8",
        "outputId": "146c25ce-3855-4fd6-944e-13df57efc204"
      },
      "source": [
        "#Slice\n",
        "l1 = [\"Jorge\",\"david\",\"Carlos\",\"Javier\",\"Bastian\",\"Joshua\"]\n",
        "print(l1[0:4])\n",
        "#l1[0:4] = \"Joselito\"\n",
        "#print(l1)\n",
        "#l1[::2] = \"Jos\"\n",
        "#print(l1)\n",
        "l1[::2] = ['Juan',\"gustavo\",\"Luis\"]\n",
        "print(l1)"
      ],
      "execution_count": null,
      "outputs": [
        {
          "output_type": "stream",
          "text": [
            "['Jorge', 'david', 'Carlos', 'Javier']\n",
            "['Juan', 'david', 'gustavo', 'Javier', 'Luis', 'Joshua']\n"
          ],
          "name": "stdout"
        }
      ]
    },
    {
      "cell_type": "code",
      "metadata": {
        "colab": {
          "base_uri": "https://localhost:8080/"
        },
        "id": "YZv0hvQhUbyd",
        "outputId": "de333d2b-fe78-4526-ef1e-53aff276f887"
      },
      "source": [
        "l1 = [\"Jorge\",\"david\",\"Carlos\",\"Javier\",\"Bastian\",\"Joshua\"]\n",
        "l1.append(\"Joselito\")\n",
        "print(l1)"
      ],
      "execution_count": null,
      "outputs": [
        {
          "output_type": "stream",
          "text": [
            "['Jorge', 'david', 'Carlos', 'Javier', 'Bastian', 'Joshua', 'Joselito']\n"
          ],
          "name": "stdout"
        }
      ]
    },
    {
      "cell_type": "code",
      "metadata": {
        "colab": {
          "base_uri": "https://localhost:8080/"
        },
        "id": "aICPei87Ukod",
        "outputId": "d8a6dd94-04e0-4139-c77f-23d3e12d52d9"
      },
      "source": [
        "l1 = []\n",
        "notas = int(input(\"Ingrese un numero de notas: \"))\n",
        "for i in range(notas):\n",
        "  nota = float(input(\"Ingrese una nota: \"))\n",
        "  l1.append(nota)\n",
        "\n",
        "print(l1)\n"
      ],
      "execution_count": null,
      "outputs": [
        {
          "output_type": "stream",
          "text": [
            "Ingrese un numero de notas: 3\n",
            "Ingrese una nota: 4.5\n",
            "Ingrese una nota: 7\n",
            "Ingrese una nota: 4.3\n",
            "[4.5, 7.0, 4.3]\n"
          ],
          "name": "stdout"
        }
      ]
    },
    {
      "cell_type": "code",
      "metadata": {
        "colab": {
          "base_uri": "https://localhost:8080/"
        },
        "id": "OsMX9zCMVIG9",
        "outputId": "70a847a4-b7cc-4a92-bf90-413cb27fb89d"
      },
      "source": [
        "l1 = []\n",
        "cursos = int(input(\"Ingrese numero de cursos: \"))\n",
        "for i in range(cursos):\n",
        "  nombre = input(\"Ingrese nombre del curso: \")\n",
        "  notas = int(input(\"Ingrese un numero de notas: \"))\n",
        "  n = []\n",
        "  n.append(nombre)\n",
        "  for j in range(notas):\n",
        "    nota = float(input(\"Ingrese una nota: \"))\n",
        "    n.append(nota)\n",
        "  l1.append(n)\n",
        "print(l1)"
      ],
      "execution_count": null,
      "outputs": [
        {
          "output_type": "stream",
          "text": [
            "Ingrese numero de cursos: 2\n",
            "Ingrese nombre del curso: Mate\n",
            "Ingrese un numero de notas: 3\n",
            "Ingrese una nota: 4.5\n",
            "Ingrese una nota: 2.2\n",
            "Ingrese una nota: 6\n",
            "Ingrese nombre del curso: Progra\n",
            "Ingrese un numero de notas: 2\n",
            "Ingrese una nota: 6.5\n",
            "Ingrese una nota: 1.2\n",
            "[['Mate', 4.5, 2.2, 6.0], ['Progra', 6.5, 1.2]]\n"
          ],
          "name": "stdout"
        }
      ]
    },
    {
      "cell_type": "code",
      "metadata": {
        "colab": {
          "base_uri": "https://localhost:8080/"
        },
        "id": "b3YbAHUfWbQl",
        "outputId": "e68ba73a-d28c-4b7c-9e1d-630264dac228"
      },
      "source": [
        "t1 = ([\"Juan\",21],[\"Jose\",34])\n",
        "print(t1)\n",
        "t1[0][0] = \"Alan\"\n",
        "print(t1)"
      ],
      "execution_count": null,
      "outputs": [
        {
          "output_type": "stream",
          "text": [
            "(['Juan', 21], ['Jose', 34])\n",
            "(['Alan', 21], ['Jose', 34])\n"
          ],
          "name": "stdout"
        }
      ]
    },
    {
      "cell_type": "code",
      "metadata": {
        "colab": {
          "base_uri": "https://localhost:8080/",
          "height": 231
        },
        "id": "EIT--Q3KWiyc",
        "outputId": "b84f6396-350a-4dc3-e22d-49dfa473d1f9"
      },
      "source": [
        "l1 =  [(\"Juan\",21),(\"Jose\",34)]\n",
        "print(l1)\n",
        "l1[0] = (\"Juanito\",22)\n",
        "print(l1)\n",
        "l1[0][0] = \"Alan\""
      ],
      "execution_count": null,
      "outputs": [
        {
          "output_type": "stream",
          "text": [
            "[('Juan', 21), ('Jose', 34)]\n",
            "[('Juanito', 22), ('Jose', 34)]\n"
          ],
          "name": "stdout"
        },
        {
          "output_type": "error",
          "ename": "TypeError",
          "evalue": "ignored",
          "traceback": [
            "\u001b[0;31m---------------------------------------------------------------------------\u001b[0m",
            "\u001b[0;31mTypeError\u001b[0m                                 Traceback (most recent call last)",
            "\u001b[0;32m<ipython-input-38-02bc43266618>\u001b[0m in \u001b[0;36m<module>\u001b[0;34m()\u001b[0m\n\u001b[1;32m      3\u001b[0m \u001b[0ml1\u001b[0m\u001b[0;34m[\u001b[0m\u001b[0;36m0\u001b[0m\u001b[0;34m]\u001b[0m \u001b[0;34m=\u001b[0m \u001b[0;34m(\u001b[0m\u001b[0;34m\"Juanito\"\u001b[0m\u001b[0;34m,\u001b[0m\u001b[0;36m22\u001b[0m\u001b[0;34m)\u001b[0m\u001b[0;34m\u001b[0m\u001b[0;34m\u001b[0m\u001b[0m\n\u001b[1;32m      4\u001b[0m \u001b[0mprint\u001b[0m\u001b[0;34m(\u001b[0m\u001b[0ml1\u001b[0m\u001b[0;34m)\u001b[0m\u001b[0;34m\u001b[0m\u001b[0;34m\u001b[0m\u001b[0m\n\u001b[0;32m----> 5\u001b[0;31m \u001b[0ml1\u001b[0m\u001b[0;34m[\u001b[0m\u001b[0;36m0\u001b[0m\u001b[0;34m]\u001b[0m\u001b[0;34m[\u001b[0m\u001b[0;36m0\u001b[0m\u001b[0;34m]\u001b[0m \u001b[0;34m=\u001b[0m \u001b[0;34m\"Alan\"\u001b[0m\u001b[0;34m\u001b[0m\u001b[0;34m\u001b[0m\u001b[0m\n\u001b[0m",
            "\u001b[0;31mTypeError\u001b[0m: 'tuple' object does not support item assignment"
          ]
        }
      ]
    },
    {
      "cell_type": "code",
      "metadata": {
        "colab": {
          "base_uri": "https://localhost:8080/"
        },
        "id": "hVKtzkOPYUIH",
        "outputId": "4d17aa41-fe65-4bf5-b8db-06156d853c09"
      },
      "source": [
        "l1 =  [(\"Juan\",21),(\"Jose\",34)]\n",
        "l1.clear()\n",
        "print(l1)"
      ],
      "execution_count": null,
      "outputs": [
        {
          "output_type": "stream",
          "text": [
            "[]\n"
          ],
          "name": "stdout"
        }
      ]
    },
    {
      "cell_type": "code",
      "metadata": {
        "colab": {
          "base_uri": "https://localhost:8080/"
        },
        "id": "_FdVhsRqYnGM",
        "outputId": "54bbf19a-fdd4-44e7-9bbf-647925033031"
      },
      "source": [
        "l1 = [\"Jorge\",\"david\",\"Carlos\",\"Javier\",\"Bastian\",\"Joshua\"]\n",
        "l2 = l1\n",
        "l2[0] = \"Juan\"\n",
        "print(l1)\n",
        "print(l2)"
      ],
      "execution_count": null,
      "outputs": [
        {
          "output_type": "stream",
          "text": [
            "['Juan', 'david', 'Carlos', 'Javier', 'Bastian', 'Joshua']\n",
            "['Juan', 'david', 'Carlos', 'Javier', 'Bastian', 'Joshua']\n"
          ],
          "name": "stdout"
        }
      ]
    },
    {
      "cell_type": "code",
      "metadata": {
        "colab": {
          "base_uri": "https://localhost:8080/"
        },
        "id": "eXn4sXw-YxuM",
        "outputId": "6f157673-280c-4a3b-89c0-2182f9352943"
      },
      "source": [
        "l1 = [\"Jorge\",\"david\",\"Carlos\",\"Javier\",\"Bastian\",\"Joshua\"]\n",
        "l2 = l1.copy()\n",
        "l2[0] = \"Juan\"\n",
        "print(l1)\n",
        "print(l2)"
      ],
      "execution_count": null,
      "outputs": [
        {
          "output_type": "stream",
          "text": [
            "['Jorge', 'david', 'Carlos', 'Javier', 'Bastian', 'Joshua']\n",
            "['Juan', 'david', 'Carlos', 'Javier', 'Bastian', 'Joshua']\n"
          ],
          "name": "stdout"
        }
      ]
    },
    {
      "cell_type": "code",
      "metadata": {
        "colab": {
          "base_uri": "https://localhost:8080/"
        },
        "id": "J6PW0PxS45ki",
        "outputId": "ea7cd383-0370-4e0d-b004-7344bb0ce4f1"
      },
      "source": [
        "l1 = [\"Jorge\",\"david\",\"Carlos\",\"Javier\",\"Bastian\",\"Joshua\"]\n",
        "l2 = [\"Juanito\",\"Armando\"]\n",
        "l1.extend(l2)\n",
        "print(l1)"
      ],
      "execution_count": null,
      "outputs": [
        {
          "output_type": "stream",
          "text": [
            "['Jorge', 'david', 'Carlos', 'Javier', 'Bastian', 'Joshua', 'Juanito', 'Armando']\n"
          ],
          "name": "stdout"
        }
      ]
    },
    {
      "cell_type": "code",
      "metadata": {
        "colab": {
          "base_uri": "https://localhost:8080/"
        },
        "id": "Qra1fTuH5-Ac",
        "outputId": "315f0282-da57-4c9a-d5ca-45575e54ec9e"
      },
      "source": [
        "l1 = [\"Jorge\",\"david\",\"Carlos\",\"Javier\",\"Bastian\",\"Joshua\"]\n",
        "l2 = [\"Juanito\",\"Armando\"]\n",
        "l1 += l2 \n",
        "print(l1)"
      ],
      "execution_count": null,
      "outputs": [
        {
          "output_type": "stream",
          "text": [
            "['Jorge', 'david', 'Carlos', 'Javier', 'Bastian', 'Joshua', 'Juanito', 'Armando']\n"
          ],
          "name": "stdout"
        }
      ]
    },
    {
      "cell_type": "code",
      "metadata": {
        "colab": {
          "base_uri": "https://localhost:8080/"
        },
        "id": "cIfcUatu6Kqo",
        "outputId": "2113614c-f083-4a57-fd12-038dc54edf10"
      },
      "source": [
        "l1 = [\"Jorge\",\"david\",\"Carlos\",\"Javier\",\"Bastian\",\"Joshua\"]\n",
        "l1.extend([\"Jose\"])#Iterable\n",
        "print(l1)"
      ],
      "execution_count": null,
      "outputs": [
        {
          "output_type": "stream",
          "text": [
            "['Jorge', 'david', 'Carlos', 'Javier', 'Bastian', 'Joshua', 'Jose']\n"
          ],
          "name": "stdout"
        }
      ]
    },
    {
      "cell_type": "code",
      "metadata": {
        "colab": {
          "base_uri": "https://localhost:8080/",
          "height": 214
        },
        "id": "2zNNGmSr6Zvg",
        "outputId": "7e17978f-b9dd-4155-9fe2-d2aaf0087775"
      },
      "source": [
        "#Como identificar un iterable\n",
        "a = \"Jose\" #Un string es un iterable\n",
        "a = (\"Jose\",41,4.2) #Una tupla es iterable\n",
        "a = [\"Jose\",41,4.2] #Una lista es iterable\n",
        "a = 45 #Un numero entero(int) no es iterable\n",
        "a = 5.62 #Un numero decimal(float) no es iterable\n",
        "a = True #Un booleano no es iterable\n",
        "for i in a:\n",
        "  print(i)"
      ],
      "execution_count": null,
      "outputs": [
        {
          "output_type": "error",
          "ename": "TypeError",
          "evalue": "ignored",
          "traceback": [
            "\u001b[0;31m---------------------------------------------------------------------------\u001b[0m",
            "\u001b[0;31mTypeError\u001b[0m                                 Traceback (most recent call last)",
            "\u001b[0;32m<ipython-input-9-1bc05e6c0c4b>\u001b[0m in \u001b[0;36m<module>\u001b[0;34m()\u001b[0m\n\u001b[1;32m      6\u001b[0m \u001b[0ma\u001b[0m \u001b[0;34m=\u001b[0m \u001b[0;36m5.62\u001b[0m \u001b[0;31m#Un numero decimal(float) no es iterable\u001b[0m\u001b[0;34m\u001b[0m\u001b[0;34m\u001b[0m\u001b[0m\n\u001b[1;32m      7\u001b[0m \u001b[0ma\u001b[0m \u001b[0;34m=\u001b[0m \u001b[0;32mTrue\u001b[0m\u001b[0;34m\u001b[0m\u001b[0;34m\u001b[0m\u001b[0m\n\u001b[0;32m----> 8\u001b[0;31m \u001b[0;32mfor\u001b[0m \u001b[0mi\u001b[0m \u001b[0;32min\u001b[0m \u001b[0ma\u001b[0m\u001b[0;34m:\u001b[0m\u001b[0;34m\u001b[0m\u001b[0;34m\u001b[0m\u001b[0m\n\u001b[0m\u001b[1;32m      9\u001b[0m   \u001b[0mprint\u001b[0m\u001b[0;34m(\u001b[0m\u001b[0mi\u001b[0m\u001b[0;34m)\u001b[0m\u001b[0;34m\u001b[0m\u001b[0;34m\u001b[0m\u001b[0m\n",
            "\u001b[0;31mTypeError\u001b[0m: 'bool' object is not iterable"
          ]
        }
      ]
    },
    {
      "cell_type": "code",
      "metadata": {
        "colab": {
          "base_uri": "https://localhost:8080/"
        },
        "id": "OI1ziySo7wxP",
        "outputId": "88b91198-a201-48e3-d6cf-1aa4d7a3f41a"
      },
      "source": [
        "l1 = [\"Jorge\",\"david\",\"Carlos\",\"Javier\",\"Bastian\",\"Joshua\"]\n",
        "l1 *= 3 #l1 = l1 * 3\n",
        "print(l1)"
      ],
      "execution_count": null,
      "outputs": [
        {
          "output_type": "stream",
          "text": [
            "['Jorge', 'david', 'Carlos', 'Javier', 'Bastian', 'Joshua', 'Jorge', 'david', 'Carlos', 'Javier', 'Bastian', 'Joshua', 'Jorge', 'david', 'Carlos', 'Javier', 'Bastian', 'Joshua']\n"
          ],
          "name": "stdout"
        }
      ]
    },
    {
      "cell_type": "code",
      "metadata": {
        "colab": {
          "base_uri": "https://localhost:8080/"
        },
        "id": "g6EWcKLp7_cW",
        "outputId": "e0f7b47b-572d-4c50-a6e3-534d356d6e7c"
      },
      "source": [
        "l1 = [\"Jorge\",\"david\",\"Carlos\",\"Javier\",\"Bastian\",\"Joshua\"]\n",
        "l1.insert(3,\"Jose\")\n",
        "print(l1)"
      ],
      "execution_count": null,
      "outputs": [
        {
          "output_type": "stream",
          "text": [
            "['Jorge', 'david', 'Carlos', 'Jose', 'Javier', 'Bastian', 'Joshua']\n"
          ],
          "name": "stdout"
        }
      ]
    },
    {
      "cell_type": "code",
      "metadata": {
        "colab": {
          "base_uri": "https://localhost:8080/"
        },
        "id": "OVxqgHt88cA4",
        "outputId": "772e594e-e2d1-4416-d2cb-9a6681123ff4"
      },
      "source": [
        "l1 = [\"Jorge\",\"david\",\"Carlos\",\"Javier\",\"Bastian\",\"Joshua\"]\n",
        "l1.insert(len(l1),\"Jose\")\n",
        "print(l1)"
      ],
      "execution_count": null,
      "outputs": [
        {
          "output_type": "stream",
          "text": [
            "['Jorge', 'david', 'Carlos', 'Javier', 'Bastian', 'Joshua', 'Jose']\n"
          ],
          "name": "stdout"
        }
      ]
    },
    {
      "cell_type": "code",
      "metadata": {
        "colab": {
          "base_uri": "https://localhost:8080/"
        },
        "id": "waoMNvwr8_Uh",
        "outputId": "8275fcd3-b55a-4f75-e3ca-984557353e17"
      },
      "source": [
        "l1 = []\n",
        "for i in range(4):\n",
        "  nombre = input(\"Ingrese su nombre: \")\n",
        "  l1.insert(len(l1),nombre)\n",
        "print(l1)"
      ],
      "execution_count": null,
      "outputs": [
        {
          "output_type": "stream",
          "text": [
            "Ingrese su nombre: Luis\n",
            "Ingrese su nombre: Juan\n",
            "Ingrese su nombre: Jose\n",
            "Ingrese su nombre: Pablo\n",
            "['Luis', 'Juan', 'Jose', 'Pablo']\n"
          ],
          "name": "stdout"
        }
      ]
    },
    {
      "cell_type": "code",
      "metadata": {
        "colab": {
          "base_uri": "https://localhost:8080/"
        },
        "id": "bueYNtqf9lV_",
        "outputId": "63371e23-6d27-4301-8d36-afe37ae3131a"
      },
      "source": [
        "l1 = []\n",
        "for i in range(4):\n",
        "  nombre = input(\"Ingrese su nombre: \")\n",
        "  l1.insert(0,nombre)\n",
        "print(l1)"
      ],
      "execution_count": null,
      "outputs": [
        {
          "output_type": "stream",
          "text": [
            "Ingrese su nombre: Luis\n",
            "Ingrese su nombre: Juan\n",
            "Ingrese su nombre: Jose\n",
            "Ingrese su nombre: Pablo\n",
            "['Pablo', 'Jose', 'Juan', 'Luis']\n"
          ],
          "name": "stdout"
        }
      ]
    },
    {
      "cell_type": "code",
      "metadata": {
        "colab": {
          "base_uri": "https://localhost:8080/"
        },
        "id": "vNDXVzFY-DK4",
        "outputId": "9aa69eed-abec-4bfa-ed57-896d76c52254"
      },
      "source": [
        "l1 = [\"Jorge\",\"david\",\"Carlos\",\"Javier\",\"Bastian\",\"Joshua\"]\n",
        "r = l1.pop(3) #Retornar el dato del indice indicado (3) y lo saca de la lista\n",
        "print(r)\n",
        "print(l1)"
      ],
      "execution_count": null,
      "outputs": [
        {
          "output_type": "stream",
          "text": [
            "Javier\n",
            "['Jorge', 'david', 'Carlos', 'Bastian', 'Joshua']\n"
          ],
          "name": "stdout"
        }
      ]
    },
    {
      "cell_type": "code",
      "metadata": {
        "colab": {
          "base_uri": "https://localhost:8080/"
        },
        "id": "du05pgcJ-gKO",
        "outputId": "e6a90e82-8042-4b60-cd4e-9f043fc6e586"
      },
      "source": [
        "l1 = [\"Jorge\",\"david\",\"Carlos\",\"Javier\",\"Bastian\",\"Joshua\"]\n",
        "l1.pop(3) #Retornar el dato del indice indicado (3) y lo saca de la lista\n",
        "print(l1)"
      ],
      "execution_count": null,
      "outputs": [
        {
          "output_type": "stream",
          "text": [
            "['Jorge', 'david', 'Carlos', 'Bastian', 'Joshua']\n"
          ],
          "name": "stdout"
        }
      ]
    },
    {
      "cell_type": "code",
      "metadata": {
        "colab": {
          "base_uri": "https://localhost:8080/"
        },
        "id": "gdIUHqNU_Q1X",
        "outputId": "836dd158-c83b-4a9d-a28f-0b9738fb56fa"
      },
      "source": [
        "l1 = [\"Jorge\",\"david\",\"Carlos\",\"Javier\",\"Bastian\",\"Joshua\"]\n",
        "print(len(l1))\n",
        "l1.pop(3)\n",
        "print(len(l1))"
      ],
      "execution_count": null,
      "outputs": [
        {
          "output_type": "stream",
          "text": [
            "6\n",
            "5\n"
          ],
          "name": "stdout"
        }
      ]
    },
    {
      "cell_type": "code",
      "metadata": {
        "colab": {
          "base_uri": "https://localhost:8080/"
        },
        "id": "LBFhM0on-oN-",
        "outputId": "235c17e1-b6b1-4ec2-8cd5-55e54a13e5fb"
      },
      "source": [
        "l1 = [\"Jorge\",\"david\",\"Carlos\",\"Javier\",\"Bastian\",\"Joshua\"]\n",
        "nombre = input(\"Ingrese nombre a eliminar: \")\n",
        "for i in range(len(l1)):\n",
        "  if l1[i] == nombre:\n",
        "    l1.pop(i)\n",
        "    break #Termina el ciclo\n",
        "print(l1)"
      ],
      "execution_count": null,
      "outputs": [
        {
          "output_type": "stream",
          "text": [
            "Ingrese nombre a eliminar: Carlos\n",
            "['Jorge', 'david', 'Javier', 'Bastian', 'Joshua']\n"
          ],
          "name": "stdout"
        }
      ]
    },
    {
      "cell_type": "code",
      "metadata": {
        "colab": {
          "base_uri": "https://localhost:8080/"
        },
        "id": "etbgd6vxAQ92",
        "outputId": "25cedaa0-1676-42bf-c857-6e0cccf3669f"
      },
      "source": [
        "l1 = [\"Jorge\",\"david\",\"Carlos\",\"Javier\",\"Bastian\",\"Joshua\",\"david\"]\n",
        "nombre = input(\"Ingrese nombre a eliminar: \")\n",
        "cant_datos = len(l1)\n",
        "contador = 0\n",
        "while contador < cant_datos:\n",
        "  if l1[contador] == nombre:\n",
        "    l1.pop(contador)\n",
        "    cant_datos = len(l1)\n",
        "  contador += 1\n",
        "print(l1)"
      ],
      "execution_count": null,
      "outputs": [
        {
          "output_type": "stream",
          "text": [
            "Ingrese nombre a eliminar: david\n",
            "['Jorge', 'Carlos', 'Javier', 'Bastian', 'Joshua']\n"
          ],
          "name": "stdout"
        }
      ]
    },
    {
      "cell_type": "code",
      "metadata": {
        "colab": {
          "base_uri": "https://localhost:8080/"
        },
        "id": "UIfG0NGZBMwH",
        "outputId": "a9ef844b-2f34-4623-e672-afad3366dca5"
      },
      "source": [
        "l1 = [\"Jorge\",\"david\",\"Carlos\",\"Javier\",\"Bastian\",\"Joshua\",\"david\"]\n",
        "l1.remove(\"Carlos\")\n",
        "print(l1)"
      ],
      "execution_count": null,
      "outputs": [
        {
          "output_type": "stream",
          "text": [
            "['Jorge', 'david', 'Javier', 'Bastian', 'Joshua', 'david']\n"
          ],
          "name": "stdout"
        }
      ]
    },
    {
      "cell_type": "code",
      "metadata": {
        "colab": {
          "base_uri": "https://localhost:8080/"
        },
        "id": "Gv2wFcr2BoDX",
        "outputId": "7e5eb21d-8c79-4d85-c7dd-7313dfd12b0f"
      },
      "source": [
        "l1 = [\"Jorge\",\"david\",\"Carlos\",\"Javier\",\"Bastian\",\"Joshua\",\"david\"]\n",
        "l1.remove(\"david\")\n",
        "print(l1)\n",
        "l1.remove(\"david\")\n",
        "print(l1)"
      ],
      "execution_count": null,
      "outputs": [
        {
          "output_type": "stream",
          "text": [
            "['Jorge', 'Carlos', 'Javier', 'Bastian', 'Joshua', 'david']\n",
            "['Jorge', 'Carlos', 'Javier', 'Bastian', 'Joshua']\n"
          ],
          "name": "stdout"
        }
      ]
    },
    {
      "cell_type": "code",
      "metadata": {
        "colab": {
          "base_uri": "https://localhost:8080/"
        },
        "id": "jbiGi3Y6BYr-",
        "outputId": "cffc9720-2ec1-43b8-dfb0-3884805391dd"
      },
      "source": [
        "l1 = [\"Jorge\",\"david\",\"Carlos\",\"Javier\",\"Bastian\",\"Joshua\",\"david\"]\n",
        "nombre = input(\"Ingrese nombre a eliminar: \")\n",
        "l1.remove(nombre)\n",
        "print(l1)"
      ],
      "execution_count": null,
      "outputs": [
        {
          "output_type": "stream",
          "text": [
            "Ingrese nombre a eliminar: Joshua\n",
            "['Jorge', 'david', 'Carlos', 'Javier', 'Bastian', 'david']\n"
          ],
          "name": "stdout"
        }
      ]
    },
    {
      "cell_type": "code",
      "metadata": {
        "colab": {
          "base_uri": "https://localhost:8080/"
        },
        "id": "wdvZefrvChSC",
        "outputId": "3f19dce0-dbaf-4774-d704-afa1db5c181f"
      },
      "source": [
        "l1 = [\"Jorge\",\"david\",\"Carlos\",\"Javier\",\"Bastian\",\"Joshua\",\"david\"]\n",
        "l1.reverse()\n",
        "print(l1)"
      ],
      "execution_count": null,
      "outputs": [
        {
          "output_type": "stream",
          "text": [
            "['david', 'Joshua', 'Bastian', 'Javier', 'Carlos', 'david', 'Jorge']\n"
          ],
          "name": "stdout"
        }
      ]
    },
    {
      "cell_type": "code",
      "metadata": {
        "colab": {
          "base_uri": "https://localhost:8080/"
        },
        "id": "sqCdZKwBCu4W",
        "outputId": "5eab3773-ce4e-4202-862b-b463f63e345b"
      },
      "source": [
        "l1 = [4,5,6,1,-5,10,-55,3]\n",
        "l1.sort() #Ordena de forma ascendente\n",
        "print(l1)"
      ],
      "execution_count": null,
      "outputs": [
        {
          "output_type": "stream",
          "text": [
            "[-55, -5, 1, 3, 4, 5, 6, 10]\n"
          ],
          "name": "stdout"
        }
      ]
    },
    {
      "cell_type": "code",
      "metadata": {
        "colab": {
          "base_uri": "https://localhost:8080/"
        },
        "id": "z2oVk82LC6Je",
        "outputId": "1bbcf2f7-c585-4a34-b0e5-84d9faa37af0"
      },
      "source": [
        "l1 = [4,5,6,1,-5,10,-55,3]\n",
        "l1.sort(reverse=True) #Ordena de forma descendente\n",
        "print(l1)"
      ],
      "execution_count": null,
      "outputs": [
        {
          "output_type": "stream",
          "text": [
            "[10, 6, 5, 4, 3, 1, -5, -55]\n"
          ],
          "name": "stdout"
        }
      ]
    },
    {
      "cell_type": "code",
      "metadata": {
        "colab": {
          "base_uri": "https://localhost:8080/"
        },
        "id": "VkWbdYmJDFix",
        "outputId": "558bba87-aa67-4954-ebeb-79aa00630342"
      },
      "source": [
        "l1 = [4,5,6,1,-5,10,-55,3]\n",
        "l1.sort() #Ordena de forma ascendente\n",
        "l1.reverse()\n",
        "print(l1)"
      ],
      "execution_count": null,
      "outputs": [
        {
          "output_type": "stream",
          "text": [
            "[10, 6, 5, 4, 3, 1, -5, -55]\n"
          ],
          "name": "stdout"
        }
      ]
    },
    {
      "cell_type": "code",
      "metadata": {
        "colab": {
          "base_uri": "https://localhost:8080/"
        },
        "id": "bBlSCE5gDLru",
        "outputId": "ec0b0652-4858-404d-f1fb-09e522fce110"
      },
      "source": [
        "l1 = [4,5,6,1,-5,10,-55,3]\n",
        "a = sorted(l1) #Otra forma de ordenar una lista\n",
        "print(a)"
      ],
      "execution_count": null,
      "outputs": [
        {
          "output_type": "stream",
          "text": [
            "[-55, -5, 1, 3, 4, 5, 6, 10]\n"
          ],
          "name": "stdout"
        }
      ]
    },
    {
      "cell_type": "code",
      "metadata": {
        "colab": {
          "base_uri": "https://localhost:8080/"
        },
        "id": "-TBEgePtDYM2",
        "outputId": "c60a9866-489f-45d7-9f04-19c9d9bbf10e"
      },
      "source": [
        "#Tambien ordena numeros decimales\n",
        "l1 = [4,5.2,6,1.8,-5.4,10,-55,3]\n",
        "l1.sort()\n",
        "print(l1)"
      ],
      "execution_count": null,
      "outputs": [
        {
          "output_type": "stream",
          "text": [
            "[-55, -5.4, 1.8, 3, 4, 5.2, 6, 10]\n"
          ],
          "name": "stdout"
        }
      ]
    },
    {
      "cell_type": "code",
      "metadata": {
        "colab": {
          "base_uri": "https://localhost:8080/"
        },
        "id": "rqcRRRaIDiVG",
        "outputId": "93940f62-f7bc-4658-a5b1-6732181d72da"
      },
      "source": [
        "#Tambien ordena los caracteres, pero en base a su codigo ascii\n",
        "l1 = [\"b\",\"H\",\"k\",\"M\"]\n",
        "l1.sort() #Ordena una lista\n",
        "print(l1)"
      ],
      "execution_count": null,
      "outputs": [
        {
          "output_type": "stream",
          "text": [
            "['H', 'M', 'b', 'k']\n"
          ],
          "name": "stdout"
        }
      ]
    },
    {
      "cell_type": "code",
      "metadata": {
        "colab": {
          "base_uri": "https://localhost:8080/"
        },
        "id": "nhyUV7_jD_CV",
        "outputId": "e1dd61d6-c088-4bf7-a4ce-578bc7f44a6b"
      },
      "source": [
        "l1 = [\"Jorge\",\"david\",\"Carlos\",\"Javier\",\"Bastian\",\"Joshua\",\"david\"]\n",
        "l1.sort()\n",
        "print(l1)"
      ],
      "execution_count": null,
      "outputs": [
        {
          "output_type": "stream",
          "text": [
            "['Bastian', 'Carlos', 'Javier', 'Jorge', 'Joshua', 'david', 'david']\n"
          ],
          "name": "stdout"
        }
      ]
    },
    {
      "cell_type": "code",
      "metadata": {
        "colab": {
          "base_uri": "https://localhost:8080/"
        },
        "id": "PeF9ruTHElMf",
        "outputId": "320b9cc7-beb6-4733-f038-fe6f7c6ed7e4"
      },
      "source": [
        "l1 = []\n",
        "for i in range(4):\n",
        "  nombre = input(\"Ingrese nombre alumno: \")\n",
        "  edad = int(input(f'Ingrese edad de {nombre}: '))\n",
        "  l1.append([nombre,edad])\n",
        "print(l1)"
      ],
      "execution_count": null,
      "outputs": [
        {
          "output_type": "stream",
          "text": [
            "Ingrese nombre alumno: Juan\n",
            "Ingrese edad de Juan: 25\n",
            "Ingrese nombre alumno: Pablo\n",
            "Ingrese edad de Pablo: 18\n",
            "Ingrese nombre alumno: Maria\n",
            "Ingrese edad de Maria: 23\n",
            "Ingrese nombre alumno: David\n",
            "Ingrese edad de David: 19\n",
            "[['Juan', 25], ['Pablo', 18], ['Maria', 23], ['David', 19]]\n"
          ],
          "name": "stdout"
        }
      ]
    },
    {
      "cell_type": "code",
      "metadata": {
        "colab": {
          "base_uri": "https://localhost:8080/"
        },
        "id": "Eh38G5hIFS7m",
        "outputId": "2f643ee9-fd07-4618-f369-f6c8092752f4"
      },
      "source": [
        "def validar(u,c):\n",
        "  datos = [['ArmandoCasas',\"armandocasas123\"],[\"EstebanDido\",\"estebandido123\"],[\"SusanaHoria\",\"susanahoria123\"]]\n",
        "  for i in range(len(datos)):\n",
        "    if datos[i][0].lower() == u.lower() and datos[i][1] == c:\n",
        "      return \"Bienvenido al sistema \"+u\n",
        "  return \"Las credenciales no coinciden!\"\n",
        "\n",
        "print(validar(\"ArmandoCaSaS\",\"armandocasas123\"))\n",
        "print(validar(\"ArmandoCaSaS\",\"armandocasas1234\"))"
      ],
      "execution_count": null,
      "outputs": [
        {
          "output_type": "stream",
          "text": [
            "Bienvenido al sistema ArmandoCaSaS\n",
            "Las credenciales no coinciden!\n"
          ],
          "name": "stdout"
        }
      ]
    },
    {
      "cell_type": "code",
      "metadata": {
        "colab": {
          "base_uri": "https://localhost:8080/"
        },
        "id": "oTe2HDWxI6pI",
        "outputId": "1f2facc9-dfae-4ab7-edfe-b07c4d1b1831"
      },
      "source": [
        "l1 = [6.2,4.6,7,6.1]\n",
        "l1.sort()\n",
        "print(l1)"
      ],
      "execution_count": null,
      "outputs": [
        {
          "output_type": "stream",
          "text": [
            "[4.6, 6.1, 6.2, 7]\n"
          ],
          "name": "stdout"
        }
      ]
    },
    {
      "cell_type": "code",
      "metadata": {
        "colab": {
          "base_uri": "https://localhost:8080/"
        },
        "id": "o5BTJfDFJE76",
        "outputId": "f2fb1899-1e0d-4909-aea1-390ad021eb98"
      },
      "source": [
        "l1 = [6.2,4.6,7,6.1]\n",
        "l2 = [\"Felipe\",\"Exequiel\",\"Benja\",\"Miguel\"]\n",
        "l1.sort()\n",
        "print(l1)\n",
        "print(l2)"
      ],
      "execution_count": null,
      "outputs": [
        {
          "output_type": "stream",
          "text": [
            "[4.6, 6.1, 6.2, 7]\n",
            "['Felipe', 'Exequiel', 'Benja', 'Miguel']\n"
          ],
          "name": "stdout"
        }
      ]
    },
    {
      "cell_type": "code",
      "metadata": {
        "colab": {
          "base_uri": "https://localhost:8080/"
        },
        "id": "iS8IW016KAoj",
        "outputId": "e4816bf3-3554-4480-8f56-b8b2b540922e"
      },
      "source": [
        "def ordenamientoBurbuja(unaLista):\n",
        "    for numPasada in range(len(unaLista)-1,0,-1):\n",
        "        for i in range(numPasada):\n",
        "            if unaLista[i]>unaLista[i+1]:\n",
        "                temp = unaLista[i]\n",
        "                unaLista[i] = unaLista[i+1]\n",
        "                unaLista[i+1] = temp\n",
        "\n",
        "l1 = [6.2,4.6,7,6.1]\n",
        "ordenamientoBurbuja(l1)\n",
        "print(l1)\n"
      ],
      "execution_count": null,
      "outputs": [
        {
          "output_type": "stream",
          "text": [
            "[4.6, 6.1, 6.2, 7]\n"
          ],
          "name": "stdout"
        }
      ]
    },
    {
      "cell_type": "code",
      "metadata": {
        "colab": {
          "base_uri": "https://localhost:8080/"
        },
        "id": "RJiSxdJWOhaw",
        "outputId": "1bab48cd-0606-4eac-9c3a-817001754de8"
      },
      "source": [
        "def ordenamientoBurbuja(unaLista,otraLista,otraListaMas):\n",
        "    for numPasada in range(len(unaLista)-1,0,-1):\n",
        "        for i in range(numPasada):\n",
        "            if unaLista[i]<unaLista[i+1]:\n",
        "                temp = unaLista[i]\n",
        "                unaLista[i] = unaLista[i+1]\n",
        "                unaLista[i+1] = temp\n",
        "\n",
        "                temp = otraLista[i]\n",
        "                otraLista[i] = otraLista[i+1]\n",
        "                otraLista[i+1] = temp\n",
        "\n",
        "                temp = otraListaMas[i]\n",
        "                otraListaMas[i] = otraListaMas[i+1]\n",
        "                otraListaMas[i+1] = temp\n",
        "\n",
        "\n",
        "l1 = [6.2,4.6,7,6.1]\n",
        "l2 = [\"Felipe\",\"Exequiel\",\"Benja\",\"Miguel\"]\n",
        "l3 = [\"Ordenes\",\"Porriga\",\"Gallardo\",\"Lopez\"]\n",
        "ordenamientoBurbuja(l1,l2,l3)\n",
        "print(l1)\n",
        "print(l2)\n",
        "print(l3)"
      ],
      "execution_count": null,
      "outputs": [
        {
          "output_type": "stream",
          "text": [
            "[7, 6.2, 6.1, 4.6]\n",
            "['Benja', 'Felipe', 'Miguel', 'Exequiel']\n",
            "['Gallardo', 'Ordenes', 'Lopez', 'Porriga']\n"
          ],
          "name": "stdout"
        }
      ]
    },
    {
      "cell_type": "markdown",
      "metadata": {
        "id": "zWNE6qdrNUcw"
      },
      "source": [
        "# Guia "
      ]
    },
    {
      "cell_type": "markdown",
      "metadata": {
        "id": "o2YZ59fCNWzU"
      },
      "source": [
        "7.\tPedir al usuario números entre 10 y 1000, generar una cadena de caracteres con esos números separados por coma. A partir de esa cadena generar una lista. Luego generar otra lista que contenga dos listas una con pares y la otra con impares. El resultado debe ser una tupla que contenga el promedio de los pares y el máximo de los impares."
      ]
    },
    {
      "cell_type": "code",
      "metadata": {
        "colab": {
          "base_uri": "https://localhost:8080/",
          "height": 469
        },
        "id": "r75hFNJ1NYT4",
        "outputId": "2d3df33c-bc46-48a4-8c27-e662deb5fd04"
      },
      "source": [
        "cadena = \"\"\n",
        "while True:\n",
        "  numero = int(input(\"Ingrese un numero entre 10 y 1000: \"))\n",
        "  if numero > 10 and numero < 1000:\n",
        "    cadena += str(numero) + \",\"  \n",
        "  else:\n",
        "      print(\"Debe ingresar un valor entre 10 y 1000\")\n",
        "\n",
        "\n",
        "  opcion = input(\"Desea continuar (s/n): \")\n",
        "  if opcion.lower() == \"n\":\n",
        "    break\n",
        "\n",
        "print(cadena)\n",
        "\n",
        "l1 = cadena.split(\",\")\n",
        "l1.remove('')\n",
        "print(lista)\n",
        "par = []\n",
        "impar = []\n",
        "for x in l1:\n",
        "  x = int(x)\n",
        "  if x%2==0:\n",
        "    par.append(x)\n",
        "  else:\n",
        "    impar.append(x)\n",
        "#\n",
        "sum = 0\n",
        "for x in par:\n",
        "  sum += x\n",
        "promedio = sum / len(par)\n",
        "\n",
        "maximo = max(impar)\n",
        "resultado = (promedio,maximo)\n",
        "print(resultado)"
      ],
      "execution_count": null,
      "outputs": [
        {
          "output_type": "stream",
          "text": [
            "Ingrese un numero entre 10 y 1000: 55\n",
            "Desea continuar (s/n): s\n",
            "Ingrese un numero entre 10 y 1000: 10\n",
            "Debe ingresar un valor entre 10 y 1000\n",
            "Desea continuar (s/n): s\n",
            "Ingrese un numero entre 10 y 1000: 8\n",
            "Debe ingresar un valor entre 10 y 1000\n",
            "Desea continuar (s/n): s\n",
            "Ingrese un numero entre 10 y 1000: 14\n",
            "Desea continuar (s/n): s\n",
            "Ingrese un numero entre 10 y 1000: 65\n",
            "Desea continuar (s/n): n\n",
            "55,14,65,\n",
            "['60', '55', '70', '11', '69']\n"
          ],
          "name": "stdout"
        },
        {
          "output_type": "error",
          "ename": "TypeError",
          "evalue": "ignored",
          "traceback": [
            "\u001b[0;31m---------------------------------------------------------------------------\u001b[0m",
            "\u001b[0;31mTypeError\u001b[0m                                 Traceback (most recent call last)",
            "\u001b[0;32m<ipython-input-27-7bb8620133b5>\u001b[0m in \u001b[0;36m<module>\u001b[0;34m()\u001b[0m\n\u001b[1;32m     31\u001b[0m \u001b[0mpromedio\u001b[0m \u001b[0;34m=\u001b[0m \u001b[0msum\u001b[0m \u001b[0;34m/\u001b[0m \u001b[0mlen\u001b[0m\u001b[0;34m(\u001b[0m\u001b[0mpar\u001b[0m\u001b[0;34m)\u001b[0m\u001b[0;34m\u001b[0m\u001b[0;34m\u001b[0m\u001b[0m\n\u001b[1;32m     32\u001b[0m \u001b[0;34m\u001b[0m\u001b[0m\n\u001b[0;32m---> 33\u001b[0;31m \u001b[0mmaximo\u001b[0m \u001b[0;34m=\u001b[0m \u001b[0mmax\u001b[0m\u001b[0;34m(\u001b[0m\u001b[0mimpar\u001b[0m\u001b[0;34m)\u001b[0m\u001b[0;34m\u001b[0m\u001b[0;34m\u001b[0m\u001b[0m\n\u001b[0m\u001b[1;32m     34\u001b[0m \u001b[0mresultado\u001b[0m \u001b[0;34m=\u001b[0m \u001b[0;34m(\u001b[0m\u001b[0mpromedio\u001b[0m\u001b[0;34m,\u001b[0m\u001b[0mmaximo\u001b[0m\u001b[0;34m)\u001b[0m\u001b[0;34m\u001b[0m\u001b[0;34m\u001b[0m\u001b[0m\n\u001b[1;32m     35\u001b[0m \u001b[0mprint\u001b[0m\u001b[0;34m(\u001b[0m\u001b[0mresultado\u001b[0m\u001b[0;34m)\u001b[0m\u001b[0;34m\u001b[0m\u001b[0;34m\u001b[0m\u001b[0m\n",
            "\u001b[0;31mTypeError\u001b[0m: 'int' object is not callable"
          ]
        }
      ]
    },
    {
      "cell_type": "code",
      "metadata": {
        "colab": {
          "base_uri": "https://localhost:8080/"
        },
        "id": "C319yZF3OjB_",
        "outputId": "18c08c50-f5e3-4502-fedf-385d4c1f696b"
      },
      "source": [
        "cadena = \"50,90,65,71,63,13,\"\n",
        "lista = cadena.split(\",\")\n",
        "lista.remove('')\n",
        "print(lista)\n",
        "pares = []\n",
        "impares = []\n",
        "for x in lista:\n",
        "  x = float(x)\n",
        "  if x%2==0:\n",
        "    pares.append(x)\n",
        "  else:\n",
        "    impares.append(x)\n",
        "print(pares)\n",
        "print(impares)"
      ],
      "execution_count": null,
      "outputs": [
        {
          "output_type": "stream",
          "text": [
            "['50', '90', '65', '71', '63', '13']\n",
            "[50.0, 90.0]\n",
            "[65.0, 71.0, 63.0, 13.0]\n"
          ],
          "name": "stdout"
        }
      ]
    },
    {
      "cell_type": "code",
      "metadata": {
        "colab": {
          "base_uri": "https://localhost:8080/",
          "height": 231
        },
        "id": "lm1EeVPZPiKG",
        "outputId": "35dd6f12-0652-4d13-9efe-82b83b1912e9"
      },
      "source": [
        "pares = [50, 90]\n",
        "impares = [65, 71, 63, 13]\n",
        "\n",
        "sum = 0\n",
        "m= 0\n",
        "for x in pares:\n",
        "  sum += x\n",
        "promedio = sum / len(pares)\n",
        "m = max(impares)\n",
        "t1 = (promedio,m)\n",
        "print(t1)"
      ],
      "execution_count": null,
      "outputs": [
        {
          "output_type": "error",
          "ename": "TypeError",
          "evalue": "ignored",
          "traceback": [
            "\u001b[0;31m---------------------------------------------------------------------------\u001b[0m",
            "\u001b[0;31mTypeError\u001b[0m                                 Traceback (most recent call last)",
            "\u001b[0;32m<ipython-input-25-0f1bff6dd0b0>\u001b[0m in \u001b[0;36m<module>\u001b[0;34m()\u001b[0m\n\u001b[1;32m      7\u001b[0m   \u001b[0msum\u001b[0m \u001b[0;34m+=\u001b[0m \u001b[0mx\u001b[0m\u001b[0;34m\u001b[0m\u001b[0;34m\u001b[0m\u001b[0m\n\u001b[1;32m      8\u001b[0m \u001b[0mpromedio\u001b[0m \u001b[0;34m=\u001b[0m \u001b[0msum\u001b[0m \u001b[0;34m/\u001b[0m \u001b[0mlen\u001b[0m\u001b[0;34m(\u001b[0m\u001b[0mpares\u001b[0m\u001b[0;34m)\u001b[0m\u001b[0;34m\u001b[0m\u001b[0;34m\u001b[0m\u001b[0m\n\u001b[0;32m----> 9\u001b[0;31m \u001b[0mm\u001b[0m \u001b[0;34m=\u001b[0m \u001b[0mmax\u001b[0m\u001b[0;34m(\u001b[0m\u001b[0mimpares\u001b[0m\u001b[0;34m)\u001b[0m\u001b[0;34m\u001b[0m\u001b[0;34m\u001b[0m\u001b[0m\n\u001b[0m\u001b[1;32m     10\u001b[0m \u001b[0mt1\u001b[0m \u001b[0;34m=\u001b[0m \u001b[0;34m(\u001b[0m\u001b[0mpromedio\u001b[0m\u001b[0;34m,\u001b[0m\u001b[0mm\u001b[0m\u001b[0;34m)\u001b[0m\u001b[0;34m\u001b[0m\u001b[0;34m\u001b[0m\u001b[0m\n\u001b[1;32m     11\u001b[0m \u001b[0mprint\u001b[0m\u001b[0;34m(\u001b[0m\u001b[0mt1\u001b[0m\u001b[0;34m)\u001b[0m\u001b[0;34m\u001b[0m\u001b[0;34m\u001b[0m\u001b[0m\n",
            "\u001b[0;31mTypeError\u001b[0m: 'int' object is not callable"
          ]
        }
      ]
    },
    {
      "cell_type": "markdown",
      "metadata": {
        "id": "v5kOwzOhChDQ"
      },
      "source": [
        "# Diccionarios"
      ]
    },
    {
      "cell_type": "code",
      "metadata": {
        "colab": {
          "base_uri": "https://localhost:8080/"
        },
        "id": "DHSSF9x9Cj-O",
        "outputId": "545cf9b5-8e18-4a00-e135-4214aee53677"
      },
      "source": [
        "d1 = dict(yarella=18,juan=19,karla=18,seba=21)\n",
        "print(d1)\n",
        "d2 = {\"yarella\":18,\"juan\":19,\"karla\":18,\"seba\":21}\n",
        "print(d2)"
      ],
      "execution_count": null,
      "outputs": [
        {
          "output_type": "stream",
          "text": [
            "{'yarella': 18, 'juan': 19, 'karla': 18, 'seba': 21}\n",
            "{'yarella': 18, 'juan': 19, 'karla': 18, 'seba': 21}\n"
          ],
          "name": "stdout"
        }
      ]
    },
    {
      "cell_type": "code",
      "metadata": {
        "colab": {
          "base_uri": "https://localhost:8080/"
        },
        "id": "fv_s7Mi9EJ2P",
        "outputId": "1a3407c7-1c50-463a-ffd4-9e9921a08999"
      },
      "source": [
        "t1 = (\"jose\",\"juan\",\"pablo\")\n",
        "l1 = [\"platano\",\"manzana\",\"pera\"]\n",
        "d1 = {\"yarella\":18,\"juan\":19,\"karla\":18,\"seba\":21}\n",
        "print(t1[1])\n",
        "print(l1[2])\n",
        "print(d1[\"karla\"])"
      ],
      "execution_count": null,
      "outputs": [
        {
          "output_type": "stream",
          "text": [
            "juan\n",
            "pera\n",
            "18\n"
          ],
          "name": "stdout"
        }
      ]
    },
    {
      "cell_type": "code",
      "metadata": {
        "colab": {
          "base_uri": "https://localhost:8080/"
        },
        "id": "Wn8hDk2oFbpe",
        "outputId": "da68f357-3abc-463a-86e3-61d62299983b"
      },
      "source": [
        "d1 = {\"yarella\": [\"rojas\",18,1.62],\"juan\":[\"chong\",19,1.7],\"karla\":[\"contreras\",20,1.65],\"seba\":[\"santivanez\",19,1.8]}\n",
        "print(d1)\n",
        "print(d1[\"juan\"])\n",
        "print(d1[\"yarella\"][0])"
      ],
      "execution_count": null,
      "outputs": [
        {
          "output_type": "stream",
          "text": [
            "{'yarella': ['rojas', 18, 1.62], 'juan': ['chong', 19, 1.7], 'karla': ['contreras', 20, 1.65], 'seba': ['santivanez', 19, 1.8]}\n",
            "['chong', 19, 1.7]\n",
            "rojas\n"
          ],
          "name": "stdout"
        }
      ]
    },
    {
      "cell_type": "code",
      "metadata": {
        "colab": {
          "base_uri": "https://localhost:8080/"
        },
        "id": "Q7dF4wXHGRSI",
        "outputId": "80cf5e1c-1fc2-4be1-87bf-74adb235b9cc"
      },
      "source": [
        "nombres = [\"yarella\",\"juan\",\"karla\"]\n",
        "notas = [4,6.2,7]\n",
        "d1 = dict(zip(nombres,notas))\n",
        "print(d1)"
      ],
      "execution_count": null,
      "outputs": [
        {
          "output_type": "stream",
          "text": [
            "{'yarella': 4, 'juan': 6.2}\n"
          ],
          "name": "stdout"
        }
      ]
    },
    {
      "cell_type": "code",
      "metadata": {
        "colab": {
          "base_uri": "https://localhost:8080/"
        },
        "id": "DRvKPfGaH5Nu",
        "outputId": "994f5264-01d5-4107-9540-31a3f799b907"
      },
      "source": [
        "d1 = {\"yarella\":18,\"juan\":19,\"karla\":18,\"seba\":21}\n",
        "valores = d1.items()\n",
        "print(valores)"
      ],
      "execution_count": null,
      "outputs": [
        {
          "output_type": "stream",
          "text": [
            "dict_items([('yarella', 18), ('juan', 19), ('karla', 18), ('seba', 21)])\n"
          ],
          "name": "stdout"
        }
      ]
    },
    {
      "cell_type": "code",
      "metadata": {
        "colab": {
          "base_uri": "https://localhost:8080/"
        },
        "id": "Yvz3vzZqIFYY",
        "outputId": "0fe6f326-abd7-4cc8-889f-8a2d9eb3e325"
      },
      "source": [
        "d1 = {\"yarella\":18,\"juan\":19,\"karla\":18,\"seba\":21}\n",
        "for x in d1.items():\n",
        "  print(f'{x[0]} tiene {x[1]} años')"
      ],
      "execution_count": null,
      "outputs": [
        {
          "output_type": "stream",
          "text": [
            "yarella tiene 18 años\n",
            "juan tiene 19 años\n",
            "karla tiene 18 años\n",
            "seba tiene 21 años\n"
          ],
          "name": "stdout"
        }
      ]
    },
    {
      "cell_type": "code",
      "metadata": {
        "colab": {
          "base_uri": "https://localhost:8080/"
        },
        "id": "u3u8pkEKIr_F",
        "outputId": "f016f60c-93ff-4a8b-b3a7-263352b974b8"
      },
      "source": [
        "d1 = {\"yarella\":18,\"juan\":19,\"karla\":18,\"seba\":21}\n",
        "for c,v in d1.items():\n",
        "  print(f'{c} tiene {v} años')"
      ],
      "execution_count": null,
      "outputs": [
        {
          "output_type": "stream",
          "text": [
            "yarella tiene 18 años\n",
            "juan tiene 19 años\n",
            "karla tiene 18 años\n",
            "seba tiene 21 años\n"
          ],
          "name": "stdout"
        }
      ]
    },
    {
      "cell_type": "code",
      "metadata": {
        "colab": {
          "base_uri": "https://localhost:8080/"
        },
        "id": "Tju5NdrGJPiY",
        "outputId": "7dcaed5b-1b9a-4a5f-c5cc-580e6e529967"
      },
      "source": [
        "d1 = {\"yarella\":18,\"juan\":19,\"karla\":18,\"seba\":21}\n",
        "claves = d1.keys()\n",
        "print(claves)"
      ],
      "execution_count": null,
      "outputs": [
        {
          "output_type": "stream",
          "text": [
            "dict_keys(['yarella', 'juan', 'karla', 'seba'])\n"
          ],
          "name": "stdout"
        }
      ]
    },
    {
      "cell_type": "code",
      "metadata": {
        "colab": {
          "base_uri": "https://localhost:8080/"
        },
        "id": "k3P3sEUpJeNm",
        "outputId": "81f395bf-922a-4110-bdc1-561bf29abd56"
      },
      "source": [
        "d1 = {\"yarella\":18,\"juan\":19,\"karla\":18,\"seba\":21}\n",
        "for c in d1.keys():\n",
        "  print(f'{c} tiene {d1[c]} años')"
      ],
      "execution_count": null,
      "outputs": [
        {
          "output_type": "stream",
          "text": [
            "yarella tiene 18 años\n",
            "juan tiene 19 años\n",
            "karla tiene 18 años\n",
            "seba tiene 21 años\n"
          ],
          "name": "stdout"
        }
      ]
    },
    {
      "cell_type": "code",
      "metadata": {
        "colab": {
          "base_uri": "https://localhost:8080/"
        },
        "id": "b4kJMDZEJ-by",
        "outputId": "2712acea-226d-4c69-d5a9-ea245543917d"
      },
      "source": [
        "d1 = {\"yarella\":18,\"juan\":19,\"karla\":18,\"seba\":21}\n",
        "valores = d1.values()\n",
        "print(valores)"
      ],
      "execution_count": null,
      "outputs": [
        {
          "output_type": "stream",
          "text": [
            "dict_values([18, 19, 18, 21])\n"
          ],
          "name": "stdout"
        }
      ]
    },
    {
      "cell_type": "code",
      "metadata": {
        "colab": {
          "base_uri": "https://localhost:8080/"
        },
        "id": "HUgO-Kn0KFUt",
        "outputId": "ac151f48-aeaf-4fd4-da4f-cd1d938a5aac"
      },
      "source": [
        "d1 = {\"yarella\":18,\"juan\":19,\"karla\":18,\"seba\":21}\n",
        "for x in d1.values():\n",
        "  print(x)"
      ],
      "execution_count": null,
      "outputs": [
        {
          "output_type": "stream",
          "text": [
            "18\n",
            "19\n",
            "18\n",
            "21\n"
          ],
          "name": "stdout"
        }
      ]
    },
    {
      "cell_type": "code",
      "metadata": {
        "colab": {
          "base_uri": "https://localhost:8080/"
        },
        "id": "zs27FsARKbRz",
        "outputId": "a6acbedd-30b6-4580-8dda-72444c747251"
      },
      "source": [
        "d1 = {\"yarella\":18,\"juan\":19,\"karla\":18,\"seba\":21}\n",
        "d1.clear()\n",
        "print(d1)"
      ],
      "execution_count": null,
      "outputs": [
        {
          "output_type": "stream",
          "text": [
            "{}\n"
          ],
          "name": "stdout"
        }
      ]
    },
    {
      "cell_type": "code",
      "metadata": {
        "colab": {
          "base_uri": "https://localhost:8080/"
        },
        "id": "P80c1RUXKkSl",
        "outputId": "e2c95231-cc30-4e36-cbbc-eba177dd0d31"
      },
      "source": [
        "d1 = {\"yarella\":18,\"juan\":19,\"karla\":18,\"seba\":21}\n",
        "del d1[\"karla\"]\n",
        "print(d1)"
      ],
      "execution_count": null,
      "outputs": [
        {
          "output_type": "stream",
          "text": [
            "{'yarella': 18, 'juan': 19, 'seba': 21}\n"
          ],
          "name": "stdout"
        }
      ]
    },
    {
      "cell_type": "code",
      "metadata": {
        "colab": {
          "base_uri": "https://localhost:8080/"
        },
        "id": "ubeQR2PgLp92",
        "outputId": "c21c6141-2454-47eb-8256-77874e3165d5"
      },
      "source": [
        "d1 = {\"yarella\":18,\"juan\":19,\"karla\":18,\"seba\":21}\n",
        "d2 = d1 #estamos dando un alias a d1\n",
        "d2[\"seba\"] = 22\n",
        "print(d1)\n",
        "print(d2)"
      ],
      "execution_count": null,
      "outputs": [
        {
          "output_type": "stream",
          "text": [
            "{'yarella': 18, 'juan': 19, 'karla': 18, 'seba': 22}\n",
            "{'yarella': 18, 'juan': 19, 'karla': 18, 'seba': 22}\n"
          ],
          "name": "stdout"
        }
      ]
    },
    {
      "cell_type": "code",
      "metadata": {
        "colab": {
          "base_uri": "https://localhost:8080/"
        },
        "id": "CI7WWFMyMTwd",
        "outputId": "796fe2ed-8002-47cc-f070-9e6b00d540f7"
      },
      "source": [
        "d1 = {\"yarella\":18,\"juan\":19,\"karla\":18,\"seba\":21}\n",
        "d2 = d1.copy() #clonamos el diccionario\n",
        "d2[\"seba\"] = 22\n",
        "print(d1)\n",
        "print(d2)"
      ],
      "execution_count": null,
      "outputs": [
        {
          "output_type": "stream",
          "text": [
            "{'yarella': 18, 'juan': 19, 'karla': 18, 'seba': 21}\n",
            "{'yarella': 18, 'juan': 19, 'karla': 18, 'seba': 22}\n"
          ],
          "name": "stdout"
        }
      ]
    },
    {
      "cell_type": "code",
      "metadata": {
        "colab": {
          "base_uri": "https://localhost:8080/"
        },
        "id": "ORWcDZ9bMqHd",
        "outputId": "6ba986e7-260e-46cf-ad20-07b92270a784"
      },
      "source": [
        "paises = [\"Chile\",\"Brasil\",\"Japon\",\"Italia\"]\n",
        "d1 = dict.fromkeys(paises,0)\n",
        "print(d1)\n",
        "d1[\"Chile\"] += 3\n",
        "d1[\"Brasil\"] += 1\n",
        "d1[\"Italia\"] += 1\n",
        "print(f'primera ronda: {d1}')\n",
        "d1[\"Brasil\"] += 3\n",
        "d1[\"Italia\"] += 3\n",
        "print(f'segunda ronda: {d1}')\n",
        "d1[\"Chile\"] += 1\n",
        "d1[\"Italia\"] += 1\n",
        "d1[\"Brasil\"] += 3\n",
        "print(f'tercera ronda: {d1}')\n"
      ],
      "execution_count": null,
      "outputs": [
        {
          "output_type": "stream",
          "text": [
            "{'Chile': 0, 'Brasil': 0, 'Japon': 0, 'Italia': 0}\n",
            "primera ronda: {'Chile': 3, 'Brasil': 1, 'Japon': 0, 'Italia': 1}\n",
            "segunda ronda: {'Chile': 3, 'Brasil': 4, 'Japon': 0, 'Italia': 4}\n",
            "tercera ronda: {'Chile': 4, 'Brasil': 7, 'Japon': 0, 'Italia': 5}\n"
          ],
          "name": "stdout"
        }
      ]
    },
    {
      "cell_type": "code",
      "metadata": {
        "colab": {
          "base_uri": "https://localhost:8080/"
        },
        "id": "iEyFN6SwNB4i",
        "outputId": "5552d066-6155-4545-a3cc-e73d9af4714b"
      },
      "source": [
        "d1 = {\"yarella\":18,\"juan\":19,\"karla\":18,\"seba\":21}\n",
        "edad = d1.get(\"karla\")\n",
        "print(edad)\n",
        "edad = d1.get(\"carlos\")\n",
        "print(edad)"
      ],
      "execution_count": null,
      "outputs": [
        {
          "output_type": "stream",
          "text": [
            "18\n",
            "None\n"
          ],
          "name": "stdout"
        }
      ]
    },
    {
      "cell_type": "code",
      "metadata": {
        "colab": {
          "base_uri": "https://localhost:8080/"
        },
        "id": "R75HyoypNUcB",
        "outputId": "a01a53d6-da4f-4681-8c29-28fe9a2dfdb1"
      },
      "source": [
        "d1 = {}\n",
        "while True:\n",
        "  rut = input(\"Ingrese su rut: \")\n",
        "  if d1.get(rut) == None:\n",
        "    nombre = input(\"Ingrese su nombre: \")\n",
        "    d1[rut] = nombre\n",
        "  else:\n",
        "    print(\"El rut ya existe!\")\n",
        "  \n",
        "  opcion = input(\"Desea continuar (s/n): \")\n",
        "  if opcion.lower() == \"n\":\n",
        "    break\n",
        "\n",
        "print(d1)"
      ],
      "execution_count": null,
      "outputs": [
        {
          "output_type": "stream",
          "text": [
            "Ingrese su rut: r1\n",
            "Ingrese su nombre: Carlos\n",
            "Desea continuar (s/n): s\n",
            "Ingrese su rut: r1\n",
            "El rut ya existe!\n",
            "Desea continuar (s/n): s\n",
            "Ingrese su rut: r2\n",
            "Ingrese su nombre: juan\n",
            "Desea continuar (s/n): s\n",
            "Ingrese su rut: r1\n",
            "El rut ya existe!\n",
            "Desea continuar (s/n): s\n",
            "Ingrese su rut: r2\n",
            "El rut ya existe!\n",
            "Desea continuar (s/n): n\n",
            "{'r1': 'Carlos', 'r2': 'juan'}\n"
          ],
          "name": "stdout"
        }
      ]
    },
    {
      "cell_type": "code",
      "metadata": {
        "colab": {
          "base_uri": "https://localhost:8080/"
        },
        "id": "sTC-XtQvOPQa",
        "outputId": "2b2fa669-f70b-4df0-fe46-eb6233757a3c"
      },
      "source": [
        "d1 = {}\n",
        "while True:\n",
        "  rut = input(\"Ingrese su rut: \")\n",
        "  if d1.get(rut) == None:\n",
        "    nombre = input(\"Ingrese su nombre: \")\n",
        "    apellido = input(\"Ingrese apellido: \")\n",
        "    edad = int(input(\"Ingrese su edad: \"))\n",
        "    altura = float(input(\"Ingrese su altura: \"))\n",
        "    d1[rut] = {\"nombre\":nombre,\"apellido\":apellido,\"edad\":edad,\"altura\":altura}\n",
        "  else:\n",
        "    print(\"El rut ya existe!\")\n",
        "  \n",
        "  opcion = input(\"Desea continuar (s/n): \")\n",
        "  if opcion.lower() == \"n\":\n",
        "    break\n",
        "\n",
        "print(d1)"
      ],
      "execution_count": null,
      "outputs": [
        {
          "output_type": "stream",
          "text": [
            "Ingrese su rut: r1\n",
            "Ingrese su nombre: carlos\n",
            "Ingrese apellido: madariaga\n",
            "Ingrese su edad: 18\n",
            "Ingrese su altura: 1.7\n",
            "Desea continuar (s/n): s\n",
            "Ingrese su rut: r2\n",
            "Ingrese su nombre: juan\n",
            "Ingrese apellido: chong\n",
            "Ingrese su edad: 19\n",
            "Ingrese su altura: 1.6\n",
            "Desea continuar (s/n): n\n",
            "{'r1': {'nombre': 'carlos', 'apellido': 'madariaga', 'edad': 18, 'altura': 1.7}, 'r2': {'nombre': 'juan', 'apellido': 'chong', 'edad': 19, 'altura': 1.6}}\n"
          ],
          "name": "stdout"
        }
      ]
    },
    {
      "cell_type": "code",
      "metadata": {
        "colab": {
          "base_uri": "https://localhost:8080/"
        },
        "id": "pw2v8oiNP6Op",
        "outputId": "a7dd7a44-2f0b-476c-b5e4-1379ae1e83e4"
      },
      "source": [
        "d1 = {'r1': {'nombre': 'carlos', 'apellido': 'madariaga', 'edad': 18, 'altura': 1.7}, 'r2': {'nombre': 'juan', 'apellido': 'chong', 'edad': 19, 'altura': 1.6}}\n",
        "print(d1[\"r1\"][\"nombre\"])\n",
        "print(d1[\"r1\"][\"edad\"])\n",
        "print(d1[\"r2\"][\"apellido\"])"
      ],
      "execution_count": null,
      "outputs": [
        {
          "output_type": "stream",
          "text": [
            "carlos\n",
            "18\n",
            "chong\n"
          ],
          "name": "stdout"
        }
      ]
    },
    {
      "cell_type": "code",
      "metadata": {
        "colab": {
          "base_uri": "https://localhost:8080/"
        },
        "id": "Jl9KjFEXQoyJ",
        "outputId": "98853549-8d6c-4286-97b1-2a07e9ae9a28"
      },
      "source": [
        "d1 = {}\n",
        "while True:\n",
        "  rut = input(\"Ingrese su rut: \")\n",
        "  if d1.get(rut) == None:\n",
        "    nombre = input(\"Ingrese su nombre: \")\n",
        "    apellido = input(\"Ingrese apellido: \")\n",
        "    edad = int(input(\"Ingrese su edad: \"))\n",
        "    altura = float(input(\"Ingrese su altura: \"))\n",
        "    d1[rut] = [nombre,apellido,edad,altura]\n",
        "  else:\n",
        "    print(\"El rut ya existe!\")\n",
        "  \n",
        "  opcion = input(\"Desea continuar (s/n): \")\n",
        "  if opcion.lower() == \"n\":\n",
        "    break\n",
        "\n",
        "print(d1)"
      ],
      "execution_count": null,
      "outputs": [
        {
          "output_type": "stream",
          "text": [
            "Ingrese su rut: r1\n",
            "Ingrese su nombre: carlos\n",
            "Ingrese apellido: madariaga\n",
            "Ingrese su edad: 18\n",
            "Ingrese su altura: 1.7\n",
            "Desea continuar (s/n): s\n",
            "Ingrese su rut: r2\n",
            "Ingrese su nombre: juan\n",
            "Ingrese apellido: chong\n",
            "Ingrese su edad: 19\n",
            "Ingrese su altura: 1.6\n",
            "Desea continuar (s/n): n\n",
            "{'r1': ['carlos', 'madariaga', 18, 1.7], 'r2': ['juan', 'chong', 19, 1.6]}\n"
          ],
          "name": "stdout"
        }
      ]
    },
    {
      "cell_type": "code",
      "metadata": {
        "colab": {
          "base_uri": "https://localhost:8080/"
        },
        "id": "Ijut92zCQ835",
        "outputId": "43b42e23-4705-46ac-ba2b-388af3a01cd5"
      },
      "source": [
        "d1 = {'r1': ['carlos', 'madariaga', 18, 1.7], 'r2': ['juan', 'chong', 19, 1.6]}\n",
        "print(d1['r1'][0])     #print(d1[\"r1\"][\"nombre\"])\n",
        "print(d1['r1'][2]) #print(d1[\"r1\"][\"edad\"])\n",
        "print(d1['r2'][1])   #print(d1[\"r2\"][\"apellido\"])"
      ],
      "execution_count": null,
      "outputs": [
        {
          "output_type": "stream",
          "text": [
            "carlos\n",
            "18\n",
            "chong\n"
          ],
          "name": "stdout"
        }
      ]
    },
    {
      "cell_type": "code",
      "metadata": {
        "colab": {
          "base_uri": "https://localhost:8080/"
        },
        "id": "7iJpBt41SFdS",
        "outputId": "19232f91-5c08-4485-f632-7a93ea6c2b55"
      },
      "source": [
        "d1 = {\"yarella\":18,\"juan\":19,\"karla\":18,\"seba\":21}\n",
        "d1.pop(\"karla\")\n",
        "print(d1)"
      ],
      "execution_count": null,
      "outputs": [
        {
          "output_type": "stream",
          "text": [
            "{'yarella': 18, 'juan': 19, 'seba': 21}\n"
          ],
          "name": "stdout"
        }
      ]
    },
    {
      "cell_type": "code",
      "metadata": {
        "colab": {
          "base_uri": "https://localhost:8080/",
          "height": 197
        },
        "id": "2DhrAFxOSWrp",
        "outputId": "71b8c51e-e57b-4678-9e0c-38f41268e895"
      },
      "source": [
        "d1 = {\"yarella\":18,\"juan\":19,\"karla\":18,\"seba\":21}\n",
        "d1.pop(\"jose\")\n",
        "print(d1)"
      ],
      "execution_count": null,
      "outputs": [
        {
          "output_type": "error",
          "ename": "KeyError",
          "evalue": "ignored",
          "traceback": [
            "\u001b[0;31m---------------------------------------------------------------------------\u001b[0m",
            "\u001b[0;31mKeyError\u001b[0m                                  Traceback (most recent call last)",
            "\u001b[0;32m<ipython-input-13-64ac4e73b215>\u001b[0m in \u001b[0;36m<module>\u001b[0;34m()\u001b[0m\n\u001b[1;32m      1\u001b[0m \u001b[0md1\u001b[0m \u001b[0;34m=\u001b[0m \u001b[0;34m{\u001b[0m\u001b[0;34m\"yarella\"\u001b[0m\u001b[0;34m:\u001b[0m\u001b[0;36m18\u001b[0m\u001b[0;34m,\u001b[0m\u001b[0;34m\"juan\"\u001b[0m\u001b[0;34m:\u001b[0m\u001b[0;36m19\u001b[0m\u001b[0;34m,\u001b[0m\u001b[0;34m\"karla\"\u001b[0m\u001b[0;34m:\u001b[0m\u001b[0;36m18\u001b[0m\u001b[0;34m,\u001b[0m\u001b[0;34m\"seba\"\u001b[0m\u001b[0;34m:\u001b[0m\u001b[0;36m21\u001b[0m\u001b[0;34m}\u001b[0m\u001b[0;34m\u001b[0m\u001b[0;34m\u001b[0m\u001b[0m\n\u001b[0;32m----> 2\u001b[0;31m \u001b[0md1\u001b[0m\u001b[0;34m.\u001b[0m\u001b[0mpop\u001b[0m\u001b[0;34m(\u001b[0m\u001b[0;34m\"jose\"\u001b[0m\u001b[0;34m)\u001b[0m\u001b[0;34m\u001b[0m\u001b[0;34m\u001b[0m\u001b[0m\n\u001b[0m\u001b[1;32m      3\u001b[0m \u001b[0mprint\u001b[0m\u001b[0;34m(\u001b[0m\u001b[0md1\u001b[0m\u001b[0;34m)\u001b[0m\u001b[0;34m\u001b[0m\u001b[0;34m\u001b[0m\u001b[0m\n",
            "\u001b[0;31mKeyError\u001b[0m: 'jose'"
          ]
        }
      ]
    },
    {
      "cell_type": "code",
      "metadata": {
        "colab": {
          "base_uri": "https://localhost:8080/"
        },
        "id": "knpug-cBSe8C",
        "outputId": "80564361-9178-4e26-dbdf-9839dc4ecfe6"
      },
      "source": [
        "d1 = {\"yarella\":18,\"juan\":19,\"karla\":18,\"seba\":21}\n",
        "valor = d1.pop(\"karla\")\n",
        "print(d1)\n",
        "print(valor)"
      ],
      "execution_count": null,
      "outputs": [
        {
          "output_type": "stream",
          "text": [
            "{'yarella': 18, 'juan': 19, 'seba': 21}\n",
            "18\n"
          ],
          "name": "stdout"
        }
      ]
    },
    {
      "cell_type": "code",
      "metadata": {
        "colab": {
          "base_uri": "https://localhost:8080/"
        },
        "id": "MJh59Ya7S4JT",
        "outputId": "ea16bc4e-c162-4775-9475-4065f4f25236"
      },
      "source": [
        "d1 = {\"yarella\":18,\"juan\":19,\"karla\":18,\"seba\":21}\n",
        "r = d1.setdefault(\"seba\")\n",
        "print(r)"
      ],
      "execution_count": null,
      "outputs": [
        {
          "output_type": "stream",
          "text": [
            "21\n"
          ],
          "name": "stdout"
        }
      ]
    },
    {
      "cell_type": "code",
      "metadata": {
        "colab": {
          "base_uri": "https://localhost:8080/"
        },
        "id": "HntkqDUxS_Ar",
        "outputId": "d13db92a-42eb-457f-a39d-7d2376a28a99"
      },
      "source": [
        "d1 = {\"yarella\":18,\"juan\":19,\"karla\":18,\"seba\":21}\n",
        "r = d1.setdefault(\"jose\",40)\n",
        "print(r)\n",
        "print(d1)"
      ],
      "execution_count": null,
      "outputs": [
        {
          "output_type": "stream",
          "text": [
            "40\n",
            "{'yarella': 18, 'juan': 19, 'karla': 18, 'seba': 21, 'jose': 40}\n"
          ],
          "name": "stdout"
        }
      ]
    },
    {
      "cell_type": "code",
      "metadata": {
        "colab": {
          "base_uri": "https://localhost:8080/"
        },
        "id": "1xj80uIVUcPv",
        "outputId": "ff2b0944-f6be-4037-a050-948c366dd98d"
      },
      "source": [
        "d1 = {\"yarella\":18,\"juan\":19,\"karla\":18,\"seba\":21}\n",
        "d2 = {\"benjamin\":18,\"diego\":19,\"seba\":True,\"miguel\":22}\n",
        "d1.update(d2)\n",
        "print(d1)"
      ],
      "execution_count": null,
      "outputs": [
        {
          "output_type": "stream",
          "text": [
            "{'yarella': 18, 'juan': 19, 'karla': 18, 'seba': True, 'benjamin': 18, 'diego': 19, 'miguel': 22}\n"
          ],
          "name": "stdout"
        }
      ]
    },
    {
      "cell_type": "code",
      "metadata": {
        "colab": {
          "base_uri": "https://localhost:8080/"
        },
        "id": "c0cS04CpVC9a",
        "outputId": "531b3045-27e7-481e-d1a8-ab9b39eb0e11"
      },
      "source": [
        "d1 = {}\n",
        "while True:\n",
        "  rut = input(\"Ingrese su rut: \")\n",
        "  if d1.get(rut) == None:\n",
        "    nombre = input(\"Ingrese su nombre: \")\n",
        "    d1.update({rut:nombre})\n",
        "  else:\n",
        "    print(\"El rut ya existe!\")\n",
        "  \n",
        "  opcion = input(\"Desea continuar (s/n): \")\n",
        "  if opcion.lower() == \"n\":\n",
        "    break\n",
        "\n",
        "print(d1)"
      ],
      "execution_count": null,
      "outputs": [
        {
          "output_type": "stream",
          "text": [
            "Ingrese su rut: r1\n",
            "Ingrese su nombre: juan\n",
            "Desea continuar (s/n): s\n",
            "Ingrese su rut: r2\n",
            "Ingrese su nombre: luis\n",
            "Desea continuar (s/n): n\n",
            "{'r1': 'juan', 'r2': 'luis'}\n"
          ],
          "name": "stdout"
        }
      ]
    },
    {
      "cell_type": "markdown",
      "metadata": {
        "id": "18I7hQkI_Yj8"
      },
      "source": [
        "# Guia"
      ]
    },
    {
      "cell_type": "markdown",
      "metadata": {
        "id": "HPUWJhO3_kJu"
      },
      "source": [
        "1.\tCrea un diccionario donde la clave sea el nombre del usuario y el valor sea el teléfono. Solicitar los contactos hasta que el usuario diga que no quiere insertar más. No se podrán ingresar nombres repetidos. Al final mostrar la lista de usuarios con sus teléfonos."
      ]
    },
    {
      "cell_type": "code",
      "metadata": {
        "colab": {
          "base_uri": "https://localhost:8080/"
        },
        "id": "O9375yC__aSj",
        "outputId": "ea9108f2-fc30-460c-d62c-058146ad56c4"
      },
      "source": [
        "agenda = {}\n",
        "while True:\n",
        "  nombre = input(\"Ingrese nombre: \")\n",
        "  if agenda.get(nombre) == None:\n",
        "      telefono = input(\"Ingrese telefono: \")\n",
        "      agenda[nombre] = telefono\n",
        "      #agenda.update({nombre:telefono})\n",
        "  opcion = input(\"Desea continuar (s/n): \")\n",
        "  if opcion.lower() == \"n\":\n",
        "    break\n",
        "\n",
        "for nombre,telefono in agenda.items():\n",
        "  print(f'Nombre: {nombre} Telefono: {telefono}')"
      ],
      "execution_count": null,
      "outputs": [
        {
          "output_type": "stream",
          "text": [
            "Ingrese nombre: javier\n",
            "Ingrese telefono: t1\n",
            "Desea continuar (s/n): s\n",
            "Ingrese nombre: javier\n",
            "Desea continuar (s/n): s\n",
            "Ingrese nombre: yarella\n",
            "Ingrese telefono: t2\n",
            "Desea continuar (s/n): s\n",
            "Ingrese nombre: gustavo\n",
            "Ingrese telefono: t3\n",
            "Desea continuar (s/n): n\n",
            "Nombre: javier Telefono: t1\n",
            "Nombre: yarella Telefono: t2\n",
            "Nombre: gustavo Telefono: t3\n"
          ],
          "name": "stdout"
        }
      ]
    },
    {
      "cell_type": "markdown",
      "metadata": {
        "id": "NempcYn7Bu0L"
      },
      "source": [
        "2.\tCrear un diccionario que ingrese productos, la clave es el código y ese código tiene asociado, nombre, precio, stock. Una vez que termine debe mostrar el listado de productos dentro del diccionario. Además indicar el producto más caro y el que tiene mayor stock."
      ]
    },
    {
      "cell_type": "code",
      "metadata": {
        "colab": {
          "base_uri": "https://localhost:8080/"
        },
        "id": "xVIrbOYzBwr7",
        "outputId": "b5d2c1cf-8b5f-4d1d-cb48-d8d7031e3010"
      },
      "source": [
        "productos = {}\n",
        "while True:\n",
        "  codigo = input(\"Ingrese codigo del producto: \")\n",
        "  if productos.get(codigo) == None:\n",
        "    nombre = input(\"Ingrese nombre del producto: \")\n",
        "    precio = int(input(\"Ingrese precio del producto: \"))\n",
        "    stock = int(input(\"Ingrese stock del producto: \"))\n",
        "    productos[codigo] = [nombre,precio,stock]\n",
        "    #productos.update({codigo:[nombre,precio,stock]})\n",
        "  else:\n",
        "    print(\"El codigo ya existe!\")\n",
        "  opcion = input(\"Desea continuar (s/n): \")\n",
        "  if opcion.lower() == \"n\":\n",
        "    break\n",
        "\n",
        "producto_caro = \"\"\n",
        "producto_stock = \"\"\n",
        "caro = 0\n",
        "stock = 0\n",
        "for x in productos.keys():\n",
        "  if productos[x][1] > caro:\n",
        "    caro = productos[x][1]\n",
        "    producto_caro = productos[x][0]\n",
        "  if productos[x][2] > stock:\n",
        "    stock = productos[x][2]\n",
        "    producto_stock = productos[x][0]\n",
        "\n",
        "print(f\"El producto más caro es: {producto_caro}\")\n",
        "print(f'El producto con mayor stock es: {producto_stock}')"
      ],
      "execution_count": null,
      "outputs": [
        {
          "output_type": "stream",
          "text": [
            "Ingrese codigo del producto: c1\n",
            "Ingrese nombre del producto: ps3\n",
            "Ingrese precio del producto: 200000\n",
            "Ingrese stock del producto: 2\n",
            "Desea continuar (s/n): s\n",
            "Ingrese codigo del producto: c2\n",
            "Ingrese nombre del producto: ps4\n",
            "Ingrese precio del producto: 300000\n",
            "Ingrese stock del producto: 1\n",
            "Desea continuar (s/n): s\n",
            "Ingrese codigo del producto: c3\n",
            "Ingrese nombre del producto: bici\n",
            "Ingrese precio del producto: 150000\n",
            "Ingrese stock del producto: 4\n",
            "Desea continuar (s/n): n\n",
            "El producto más caro es: ps4\n",
            "El producto con mayor stock es: bici\n"
          ],
          "name": "stdout"
        }
      ]
    },
    {
      "cell_type": "code",
      "metadata": {
        "colab": {
          "base_uri": "https://localhost:8080/"
        },
        "id": "q6kpYRLSFBir",
        "outputId": "e07d4406-fca1-4b49-ef73-ae9b71ce0712"
      },
      "source": [
        "productos = {}\n",
        "while True:\n",
        "  codigo = input(\"Ingrese codigo del producto: \")\n",
        "  if productos.get(codigo) == None:\n",
        "    nombre = input(\"Ingrese nombre del producto: \")\n",
        "    precio = int(input(\"Ingrese precio del producto: \"))\n",
        "    stock = int(input(\"Ingrese stock del producto: \"))\n",
        "    productos[codigo] = [nombre,precio,stock]\n",
        "    #productos.update({codigo:[nombre,precio,stock]})\n",
        "  else:\n",
        "    print(\"El codigo ya existe!\")\n",
        "  opcion = input(\"Desea continuar (s/n): \")\n",
        "  if opcion.lower() == \"n\":\n",
        "    break\n",
        "\n",
        "producto_caro = \"\"\n",
        "producto_stock = \"\"\n",
        "caro = 0\n",
        "stock = 0\n",
        "for codigo,valores in productos.items():\n",
        "  if valores[1] > caro:\n",
        "    caro = valores[1]\n",
        "    producto_caro = valores[0]\n",
        "  if valores[2] > stock:\n",
        "    stock = valores[2]\n",
        "    producto_stock = valores[0]\n",
        "\n",
        "print(f\"El producto más caro es: {producto_caro}\")\n",
        "print(f'El producto con mayor stock es: {producto_stock}')"
      ],
      "execution_count": null,
      "outputs": [
        {
          "output_type": "stream",
          "text": [
            "Ingrese codigo del producto: c1\n",
            "Ingrese nombre del producto: bici\n",
            "Ingrese precio del producto: 120000\n",
            "Ingrese stock del producto: 4\n",
            "Desea continuar (s/n): s\n",
            "Ingrese codigo del producto: ps4\n",
            "Ingrese nombre del producto: ps4\n",
            "Ingrese precio del producto: 250000\n",
            "Ingrese stock del producto: 2\n",
            "Desea continuar (s/n): s\n",
            "Ingrese codigo del producto: c3\n",
            "Ingrese nombre del producto: ps3\n",
            "Ingrese precio del producto: 135000\n",
            "Ingrese stock del producto: 3\n",
            "Desea continuar (s/n): n\n",
            "El producto más caro es: ps4\n",
            "El producto con mayor stock es: bici\n"
          ],
          "name": "stdout"
        }
      ]
    },
    {
      "cell_type": "code",
      "metadata": {
        "id": "Pe0Yd9AKF_uz"
      },
      "source": [
        "productos = {}\n",
        "while True:\n",
        "  codigo = input(\"Ingrese codigo del producto: \")\n",
        "  if productos.get(codigo) == None:\n",
        "    nombre = input(\"Ingrese nombre del producto: \")\n",
        "    precio = int(input(\"Ingrese precio del producto: \"))\n",
        "    stock = int(input(\"Ingrese stock del producto: \"))\n",
        "    productos[codigo] = [nombre,precio,stock]\n",
        "    #productos.update({codigo:[nombre,precio,stock]})\n",
        "  else:\n",
        "    print(\"El codigo ya existe!\")\n",
        "  opcion = input(\"Desea continuar (s/n): \")\n",
        "  if opcion.lower() == \"n\":\n",
        "    break\n",
        "\n",
        "producto_caro = \"\"\n",
        "producto_stock = \"\"\n",
        "caro = 0\n",
        "stock = 0\n",
        "for valores in productos.values():\n",
        "  if valores[1] > caro:\n",
        "    caro = valores[1]\n",
        "    producto_caro = valores[0]\n",
        "  if valores[2] > stock:\n",
        "    stock = valores[2]\n",
        "    producto_stock = valores[0]\n",
        "\n",
        "print(f\"El producto más caro es: {producto_caro}\")\n",
        "print(f'El producto con mayor stock es: {producto_stock}')"
      ],
      "execution_count": null,
      "outputs": []
    },
    {
      "cell_type": "markdown",
      "metadata": {
        "id": "MGEyonekGSdu"
      },
      "source": [
        "3.\tCrear un programa en python donde un diccionario guarde los precios de las distintas frutas. El programa pedirá el nombre de la fruta y la cantidad que se ha vendido y nos mostrará el precio final de la fruta a partir de los datos guardados en el diccionario. Si la fruta no existe nos dará un error. El usuario decide cuando terminar"
      ]
    },
    {
      "cell_type": "code",
      "metadata": {
        "colab": {
          "base_uri": "https://localhost:8080/"
        },
        "id": "P8mA-jH6GTOT",
        "outputId": "623d82fa-24c6-47cc-b7d4-0ee4323f2af5"
      },
      "source": [
        "frutas = {\"platano\":1100,\"naranja\":900,\"manzana\":1200}\n",
        "venta_total = 0\n",
        "cant_total = 0\n",
        "while True:\n",
        "  nombre = input(\"Ingrese fruta a vender: \")\n",
        "  if frutas.get(nombre.lower()) == None:\n",
        "    print(\"La fruta no existe\")\n",
        "  else:\n",
        "    cantidad = int(input(f\"Ingrese cuant@s {nombre} desea vender: \"))\n",
        "    total = frutas[nombre] * cantidad\n",
        "    print(f'El valor total es: {total}')\n",
        "    venta_total += total\n",
        "    cant_total += cantidad\n",
        "  opcion = input(\"Desea ingresar otra venta (s/n): \")\n",
        "  if opcion.lower() == \"n\":\n",
        "    break\n",
        "\n",
        "print(f'Los kilos vendidos fueron {cant_total} kg')\n",
        "print(f'El total vendido fueron {venta_total} pesos')"
      ],
      "execution_count": null,
      "outputs": [
        {
          "output_type": "stream",
          "text": [
            "Ingrese fruta a vender: platano\n",
            "Ingrese cuant@s platano desea vender: 3\n",
            "El valor total es: 3300\n",
            "Desea ingresar otra venta (s/n): s\n",
            "Ingrese fruta a vender: manzana\n",
            "Ingrese cuant@s manzana desea vender: 2\n",
            "El valor total es: 2400\n",
            "Desea ingresar otra venta (s/n): n\n",
            "Los kilos vendidos fueron 5 kg\n",
            "El total vendido fueron 5700 pesos\n"
          ],
          "name": "stdout"
        }
      ]
    },
    {
      "cell_type": "markdown",
      "metadata": {
        "id": "qQx0bkPKIxzz"
      },
      "source": [
        "4.\tA partir de un string (formato adjunto como ejemplo), obtener un diccionario:\n",
        "\n",
        "a = \"10001-1,cemento melón,2590,140;10202-1,ladrillo fiscal,210,9000;10022- 9,ladrillo princesa,320,4000;10220-8,yeso,890,400\"\n"
      ]
    },
    {
      "cell_type": "code",
      "metadata": {
        "colab": {
          "base_uri": "https://localhost:8080/"
        },
        "id": "hGGseM_VIHjT",
        "outputId": "41f82932-9f9c-49dc-b2cd-6ce01d78b741"
      },
      "source": [
        "a = \"10001-1,cemento melón,2590,140;10202-1,ladrillo fiscal,210,9000;10022- 9,ladrillo princesa,320,4000;10220-8,yeso,890,400\"\n",
        "lista = a.split(\";\")\n",
        "print(lista)\n",
        "productos = {}\n",
        "for valores in lista:\n",
        "  lista2 = valores.split(\",\")\n",
        "  productos[lista2[0]] = [lista2[1],int(lista2[2]),int(lista2[3])]\n",
        "\n",
        "print(productos)"
      ],
      "execution_count": null,
      "outputs": [
        {
          "output_type": "stream",
          "text": [
            "['10001-1,cemento melón,2590,140', '10202-1,ladrillo fiscal,210,9000', '10022- 9,ladrillo princesa,320,4000', '10220-8,yeso,890,400']\n",
            "{'10001-1': ['cemento melón', 2590, 140], '10202-1': ['ladrillo fiscal', 210, 9000], '10022- 9': ['ladrillo princesa', 320, 4000], '10220-8': ['yeso', 890, 400]}\n"
          ],
          "name": "stdout"
        }
      ]
    }
  ]
}